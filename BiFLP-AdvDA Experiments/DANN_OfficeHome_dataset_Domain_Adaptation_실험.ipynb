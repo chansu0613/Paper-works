{
  "nbformat": 4,
  "nbformat_minor": 0,
  "metadata": {
    "colab": {
      "provenance": [],
      "machine_shape": "hm",
      "gpuType": "T4",
      "collapsed_sections": [
        "cIKDkfPNpLr7",
        "rbH1r8EVhS8r"
      ],
      "authorship_tag": "ABX9TyOLoBewGSlhQEnUfWer7NQD",
      "include_colab_link": true
    },
    "kernelspec": {
      "name": "python3",
      "display_name": "Python 3"
    },
    "language_info": {
      "name": "python"
    },
    "accelerator": "GPU"
  },
  "cells": [
    {
      "cell_type": "markdown",
      "metadata": {
        "id": "view-in-github",
        "colab_type": "text"
      },
      "source": [
        "<a href=\"https://colab.research.google.com/github/chansu0613/Paper-works/blob/main/DANN_OfficeHome_dataset_Domain_Adaptation_%EC%8B%A4%ED%97%98.ipynb\" target=\"_parent\"><img src=\"https://colab.research.google.com/assets/colab-badge.svg\" alt=\"Open In Colab\"/></a>"
      ]
    },
    {
      "cell_type": "markdown",
      "source": [
        "# 드라이브 마운트"
      ],
      "metadata": {
        "id": "cIKDkfPNpLr7"
      }
    },
    {
      "cell_type": "code",
      "execution_count": null,
      "metadata": {
        "id": "7CESOEvm8eTD",
        "colab": {
          "base_uri": "https://localhost:8080/"
        },
        "outputId": "5ae1b9fe-fc6a-46ea-c186-baf70f7ac551"
      },
      "outputs": [
        {
          "output_type": "stream",
          "name": "stdout",
          "text": [
            "Mounted at /content/gdrive\n"
          ]
        }
      ],
      "source": [
        "from google.colab import drive\n",
        "drive.mount('/content/gdrive')"
      ]
    },
    {
      "cell_type": "code",
      "execution_count": null,
      "metadata": {
        "id": "3P6VWCr893zY"
      },
      "outputs": [],
      "source": [
        "%load_ext autoreload\n",
        "%autoreload 2\n"
      ]
    },
    {
      "cell_type": "code",
      "execution_count": null,
      "metadata": {
        "id": "2RpjxURv8r31",
        "colab": {
          "base_uri": "https://localhost:8080/"
        },
        "outputId": "238e1f6c-e664-407f-8056-4accb7f3a131"
      },
      "outputs": [
        {
          "output_type": "stream",
          "name": "stdout",
          "text": [
            "[Errno 2] No such file or directory: '/content/gdrive/MyDrive/2023-1 연구폴더/'\n",
            "/content\n",
            "/content\n",
            "gdrive\tsample_data\n"
          ]
        }
      ],
      "source": [
        "%cd /content/gdrive/MyDrive/2023-1 연구폴더/\n",
        "!pwd\n",
        "!ls"
      ]
    },
    {
      "cell_type": "code",
      "source": [
        "import os\n",
        "import numpy as np\n",
        "import tensorflow as tf\n",
        "from tensorflow.keras import layers, models\n",
        "import gdown\n",
        "import zipfile"
      ],
      "metadata": {
        "id": "I9LMobEaXOyu"
      },
      "execution_count": null,
      "outputs": []
    },
    {
      "cell_type": "markdown",
      "source": [
        "# 데이터셋 압축 해제 코드(실행 금지)"
      ],
      "metadata": {
        "id": "rbH1r8EVhS8r"
      }
    },
    {
      "cell_type": "code",
      "source": [
        "# Office-Home 데이터셋 다운로드\n",
        "# zip_url = 'https://drive.google.com/uc?id=0B81rNlvomiwed0V1YUxQdC1uOTg'\n",
        "output = '/content/gdrive/MyDrive/OfficeHomeDataset_10072016.zip'\n",
        "# gdown.download(url, output, quiet=False)\n",
        "\n",
        "dataset_path = '/content/gdrive/MyDrive/OfficeHomeDataset'\n",
        "\n",
        "# 대상 디렉토리가 없으면 생성\n",
        "os.makedirs(dataset_path, exist_ok=True)\n",
        "\n",
        "# 압축 해제\n",
        "!unzip -q '/content/gdrive/MyDrive/OfficeHomeDataset_10072016.zip' -d '/content/gdrive/MyDrive/OfficeHomeDataset'"
      ],
      "metadata": {
        "id": "ciM6fRVIgd7T"
      },
      "execution_count": null,
      "outputs": []
    },
    {
      "cell_type": "markdown",
      "source": [
        "# 데이터셋 정의 코드"
      ],
      "metadata": {
        "id": "T1KMGT_NhZRi"
      }
    },
    {
      "cell_type": "code",
      "source": [
        "# from tensorflow.keras.preprocessing.sequence import pad_sequences\n",
        "\n",
        "# # 데이터 로드 및 전처리 함수\n",
        "# def load_and_preprocess_data(domain_path, is_source=True):\n",
        "#     images = []\n",
        "#     labels = []\n",
        "#     for class_name in os.listdir(domain_path):\n",
        "#         class_path = os.path.join(domain_path, class_name)\n",
        "#         if os.path.isdir(class_path):\n",
        "#             for img_name in os.listdir(class_path):\n",
        "#                 img_path = os.path.join(class_path, img_name)\n",
        "#                 img = tf.keras.preprocessing.image.load_img(img_path, target_size=(224, 224))\n",
        "#                 img_array = tf.keras.preprocessing.image.img_to_array(img)\n",
        "#                 images.append(img_array)\n",
        "#                 labels.append(class_name)\n",
        "\n",
        "#     images = np.array(images) / 255.0\n",
        "#     labels = np.array(labels)\n",
        "\n",
        "#     if is_source:\n",
        "#         label_encoder = tf.keras.preprocessing.text.Tokenizer()\n",
        "#         label_encoder.fit_on_texts(labels)\n",
        "#         encoded_labels = label_encoder.texts_to_sequences(labels)\n",
        "#         encoded_labels = np.array([label[0] for label in encoded_labels]) # Extract the single label value\n",
        "#         return images, encoded_labels, label_encoder\n",
        "#     else:\n",
        "#         return images, labels\n",
        "\n",
        "# # 소스 도메인(Art)과 타겟 도메인(Clipart) 데이터 로드\n",
        "# source_path = '/content/gdrive/MyDrive/OfficeHomeDataset/OfficeHomeDataset_10072016/Art'\n",
        "# target_path = '/content/gdrive/MyDrive/OfficeHomeDataset/OfficeHomeDataset_10072016/Clipart'\n",
        "\n",
        "# source_images, source_labels, label_encoder = load_and_preprocess_data(source_path)\n",
        "# target_images, target_labels = load_and_preprocess_data(target_path, is_source=False)\n",
        "\n",
        "# # 데이터셋 생성\n",
        "# BATCH_SIZE = 32\n",
        "# source_dataset = tf.data.Dataset.from_tensor_slices((source_images, source_labels)).shuffle(1000).batch(BATCH_SIZE)\n",
        "# target_dataset = tf.data.Dataset.from_tensor_slices(target_images).shuffle(1000).batch(BATCH_SIZE)"
      ],
      "metadata": {
        "id": "Ht3Y5ouBXTS-"
      },
      "execution_count": null,
      "outputs": []
    },
    {
      "cell_type": "code",
      "source": [
        "import os\n",
        "import numpy as np\n",
        "import tensorflow as tf\n",
        "from tensorflow.keras.preprocessing.image import load_img, img_to_array\n",
        "from tensorflow.keras.preprocessing.text import Tokenizer\n",
        "\n",
        "def image_generator(domain_path, batch_size=32, target_size=(224, 224)):\n",
        "    class_names = [d for d in os.listdir(domain_path) if os.path.isdir(os.path.join(domain_path, d))]\n",
        "    image_paths = []\n",
        "    labels = []\n",
        "\n",
        "    for class_name in class_names:\n",
        "        class_path = os.path.join(domain_path, class_name)\n",
        "        for img_name in os.listdir(class_path):\n",
        "            image_paths.append(os.path.join(class_path, img_name))\n",
        "            labels.append(class_name)\n",
        "\n",
        "    num_samples = len(image_paths)\n",
        "    while True:\n",
        "        indices = np.random.permutation(num_samples)\n",
        "        for start in range(0, num_samples, batch_size):\n",
        "            end = min(start + batch_size, num_samples)\n",
        "            batch_indices = indices[start:end]\n",
        "\n",
        "            batch_images = []\n",
        "            batch_labels = []\n",
        "            for i in batch_indices:\n",
        "                img = load_img(image_paths[i], target_size=target_size)\n",
        "                img_array = img_to_array(img)\n",
        "                batch_images.append(img_array)\n",
        "                batch_labels.append(labels[i])\n",
        "\n",
        "            yield np.array(batch_images) / 255.0, np.array(batch_labels)\n",
        "\n",
        "def create_datasets(source_path, target_path, batch_size=32):\n",
        "    source_gen = image_generator(source_path, batch_size)\n",
        "    target_gen = image_generator(target_path, batch_size)\n",
        "\n",
        "    # 레이블 인코더 생성\n",
        "    all_labels = []\n",
        "    for _, labels in source_gen:\n",
        "        all_labels.extend(labels)\n",
        "        if len(all_labels) >= 1000:  # 충분한 레이블 샘플을 얻으면 중단\n",
        "            break\n",
        "\n",
        "    label_encoder = Tokenizer()\n",
        "    label_encoder.fit_on_texts(all_labels)\n",
        "\n",
        "    def encode_labels(gen):\n",
        "        for images, labels in gen:\n",
        "            encoded_labels = label_encoder.texts_to_sequences(labels)\n",
        "            # encoded_labels = np.array([label[0] for label in encoded_labels])\n",
        "            encoded_labels = np.array([label[0] -1 for label in encoded_labels]) # Subtract 1 from each label\n",
        "            yield images, encoded_labels\n",
        "\n",
        "    source_dataset = tf.data.Dataset.from_generator(\n",
        "        lambda: encode_labels(source_gen),\n",
        "        output_signature=(\n",
        "            tf.TensorSpec(shape=(None, 224, 224, 3), dtype=tf.float32),\n",
        "            tf.TensorSpec(shape=(None,), dtype=tf.int32)\n",
        "        )\n",
        "    )\n",
        "\n",
        "    target_dataset = tf.data.Dataset.from_generator(\n",
        "        lambda: (images for images, _ in target_gen),\n",
        "        output_signature=tf.TensorSpec(shape=(None, 224, 224, 3), dtype=tf.float32)\n",
        "    )\n",
        "\n",
        "    return source_dataset, target_dataset, label_encoder\n",
        "\n",
        "# 데이터셋 생성\n",
        "BATCH_SIZE = 32\n",
        "source_path = '/content/gdrive/MyDrive/OfficeHomeDataset/OfficeHomeDataset_10072016/Art'\n",
        "target_path = '/content/gdrive/MyDrive/OfficeHomeDataset/OfficeHomeDataset_10072016/Clipart'\n",
        "\n",
        "source_dataset, target_dataset, label_encoder = create_datasets(source_path, target_path, BATCH_SIZE)"
      ],
      "metadata": {
        "id": "-nfaOIcglpZJ",
        "colab": {
          "base_uri": "https://localhost:8080/",
          "height": 336
        },
        "outputId": "bbf0257d-f12b-4088-cd96-a37d090fe353"
      },
      "execution_count": null,
      "outputs": [
        {
          "output_type": "error",
          "ename": "KeyboardInterrupt",
          "evalue": "",
          "traceback": [
            "\u001b[0;31m---------------------------------------------------------------------------\u001b[0m",
            "\u001b[0;31mKeyboardInterrupt\u001b[0m                         Traceback (most recent call last)",
            "\u001b[0;32m<ipython-input-5-d5213a0af80d>\u001b[0m in \u001b[0;36m<cell line: 76>\u001b[0;34m()\u001b[0m\n\u001b[1;32m     74\u001b[0m \u001b[0mtarget_path\u001b[0m \u001b[0;34m=\u001b[0m \u001b[0;34m'/content/gdrive/MyDrive/OfficeHomeDataset/OfficeHomeDataset_10072016/Clipart'\u001b[0m\u001b[0;34m\u001b[0m\u001b[0;34m\u001b[0m\u001b[0m\n\u001b[1;32m     75\u001b[0m \u001b[0;34m\u001b[0m\u001b[0m\n\u001b[0;32m---> 76\u001b[0;31m \u001b[0msource_dataset\u001b[0m\u001b[0;34m,\u001b[0m \u001b[0mtarget_dataset\u001b[0m\u001b[0;34m,\u001b[0m \u001b[0mlabel_encoder\u001b[0m \u001b[0;34m=\u001b[0m \u001b[0mcreate_datasets\u001b[0m\u001b[0;34m(\u001b[0m\u001b[0msource_path\u001b[0m\u001b[0;34m,\u001b[0m \u001b[0mtarget_path\u001b[0m\u001b[0;34m,\u001b[0m \u001b[0mBATCH_SIZE\u001b[0m\u001b[0;34m)\u001b[0m\u001b[0;34m\u001b[0m\u001b[0;34m\u001b[0m\u001b[0m\n\u001b[0m",
            "\u001b[0;32m<ipython-input-5-d5213a0af80d>\u001b[0m in \u001b[0;36mcreate_datasets\u001b[0;34m(source_path, target_path, batch_size)\u001b[0m\n\u001b[1;32m     39\u001b[0m     \u001b[0;31m# 레이블 인코더 생성\u001b[0m\u001b[0;34m\u001b[0m\u001b[0;34m\u001b[0m\u001b[0m\n\u001b[1;32m     40\u001b[0m     \u001b[0mall_labels\u001b[0m \u001b[0;34m=\u001b[0m \u001b[0;34m[\u001b[0m\u001b[0;34m]\u001b[0m\u001b[0;34m\u001b[0m\u001b[0;34m\u001b[0m\u001b[0m\n\u001b[0;32m---> 41\u001b[0;31m     \u001b[0;32mfor\u001b[0m \u001b[0m_\u001b[0m\u001b[0;34m,\u001b[0m \u001b[0mlabels\u001b[0m \u001b[0;32min\u001b[0m \u001b[0msource_gen\u001b[0m\u001b[0;34m:\u001b[0m\u001b[0;34m\u001b[0m\u001b[0;34m\u001b[0m\u001b[0m\n\u001b[0m\u001b[1;32m     42\u001b[0m         \u001b[0mall_labels\u001b[0m\u001b[0;34m.\u001b[0m\u001b[0mextend\u001b[0m\u001b[0;34m(\u001b[0m\u001b[0mlabels\u001b[0m\u001b[0;34m)\u001b[0m\u001b[0;34m\u001b[0m\u001b[0;34m\u001b[0m\u001b[0m\n\u001b[1;32m     43\u001b[0m         \u001b[0;32mif\u001b[0m \u001b[0mlen\u001b[0m\u001b[0;34m(\u001b[0m\u001b[0mall_labels\u001b[0m\u001b[0;34m)\u001b[0m \u001b[0;34m>=\u001b[0m \u001b[0;36m1000\u001b[0m\u001b[0;34m:\u001b[0m  \u001b[0;31m# 충분한 레이블 샘플을 얻으면 중단\u001b[0m\u001b[0;34m\u001b[0m\u001b[0;34m\u001b[0m\u001b[0m\n",
            "\u001b[0;32m<ipython-input-5-d5213a0af80d>\u001b[0m in \u001b[0;36mimage_generator\u001b[0;34m(domain_path, batch_size, target_size)\u001b[0m\n\u001b[1;32m     12\u001b[0m     \u001b[0;32mfor\u001b[0m \u001b[0mclass_name\u001b[0m \u001b[0;32min\u001b[0m \u001b[0mclass_names\u001b[0m\u001b[0;34m:\u001b[0m\u001b[0;34m\u001b[0m\u001b[0;34m\u001b[0m\u001b[0m\n\u001b[1;32m     13\u001b[0m         \u001b[0mclass_path\u001b[0m \u001b[0;34m=\u001b[0m \u001b[0mos\u001b[0m\u001b[0;34m.\u001b[0m\u001b[0mpath\u001b[0m\u001b[0;34m.\u001b[0m\u001b[0mjoin\u001b[0m\u001b[0;34m(\u001b[0m\u001b[0mdomain_path\u001b[0m\u001b[0;34m,\u001b[0m \u001b[0mclass_name\u001b[0m\u001b[0;34m)\u001b[0m\u001b[0;34m\u001b[0m\u001b[0;34m\u001b[0m\u001b[0m\n\u001b[0;32m---> 14\u001b[0;31m         \u001b[0;32mfor\u001b[0m \u001b[0mimg_name\u001b[0m \u001b[0;32min\u001b[0m \u001b[0mos\u001b[0m\u001b[0;34m.\u001b[0m\u001b[0mlistdir\u001b[0m\u001b[0;34m(\u001b[0m\u001b[0mclass_path\u001b[0m\u001b[0;34m)\u001b[0m\u001b[0;34m:\u001b[0m\u001b[0;34m\u001b[0m\u001b[0;34m\u001b[0m\u001b[0m\n\u001b[0m\u001b[1;32m     15\u001b[0m             \u001b[0mimage_paths\u001b[0m\u001b[0;34m.\u001b[0m\u001b[0mappend\u001b[0m\u001b[0;34m(\u001b[0m\u001b[0mos\u001b[0m\u001b[0;34m.\u001b[0m\u001b[0mpath\u001b[0m\u001b[0;34m.\u001b[0m\u001b[0mjoin\u001b[0m\u001b[0;34m(\u001b[0m\u001b[0mclass_path\u001b[0m\u001b[0;34m,\u001b[0m \u001b[0mimg_name\u001b[0m\u001b[0;34m)\u001b[0m\u001b[0;34m)\u001b[0m\u001b[0;34m\u001b[0m\u001b[0;34m\u001b[0m\u001b[0m\n\u001b[1;32m     16\u001b[0m             \u001b[0mlabels\u001b[0m\u001b[0;34m.\u001b[0m\u001b[0mappend\u001b[0m\u001b[0;34m(\u001b[0m\u001b[0mclass_name\u001b[0m\u001b[0;34m)\u001b[0m\u001b[0;34m\u001b[0m\u001b[0;34m\u001b[0m\u001b[0m\n",
            "\u001b[0;31mKeyboardInterrupt\u001b[0m: "
          ]
        }
      ]
    },
    {
      "cell_type": "code",
      "source": [
        "import os\n",
        "import numpy as np\n",
        "import tensorflow as tf\n",
        "from tensorflow.keras.preprocessing.image import load_img, img_to_array\n",
        "from tensorflow.keras.preprocessing.text import Tokenizer\n",
        "from tqdm import tqdm\n",
        "def image_generator(domain_path, batch_size=32, target_size=(224, 224)):\n",
        "    class_names = [d for d in os.listdir(domain_path) if os.path.isdir(os.path.join(domain_path, d))]\n",
        "    image_paths = []\n",
        "    labels = []\n",
        "\n",
        "    print(f\"Loading image paths from {domain_path}...\")\n",
        "    for class_name in tqdm(class_names, desc=\"Classes\"):\n",
        "        class_path = os.path.join(domain_path, class_name)\n",
        "        for img_name in os.listdir(class_path):\n",
        "            image_paths.append(os.path.join(class_path, img_name))\n",
        "            labels.append(class_name)\n",
        "\n",
        "    num_samples = len(image_paths)\n",
        "    print(f\"Total images found: {num_samples}\")\n",
        "\n",
        "    while True:\n",
        "        indices = np.random.permutation(num_samples)\n",
        "        for start in tqdm(range(0, num_samples, batch_size), desc=\"Batches\", leave=False):\n",
        "            end = min(start + batch_size, num_samples)\n",
        "            batch_indices = indices[start:end]\n",
        "\n",
        "            batch_images = []\n",
        "            batch_labels = []\n",
        "            for i in batch_indices:\n",
        "                img = load_img(image_paths[i], target_size=target_size)\n",
        "                img_array = img_to_array(img)\n",
        "                batch_images.append(img_array)\n",
        "                batch_labels.append(labels[i])\n",
        "\n",
        "            yield np.array(batch_images) / 255.0, np.array(batch_labels)\n",
        "\n",
        "        print(\"Completed one full pass through the dataset.\")\n",
        "\n",
        "def create_datasets(source_path, target_path, batch_size=32):\n",
        "    source_gen = image_generator(source_path, batch_size)\n",
        "    target_gen = image_generator(target_path, batch_size)\n",
        "\n",
        "    # 레이블 인코더 생성\n",
        "    all_labels = []\n",
        "    for _, labels in source_gen:\n",
        "        all_labels.extend(labels)\n",
        "        if len(all_labels) >= 1000:  # 충분한 레이블 샘플을 얻으면 중단\n",
        "            break\n",
        "\n",
        "    label_encoder = Tokenizer()\n",
        "    label_encoder.fit_on_texts(all_labels)\n",
        "\n",
        "    def encode_labels(gen):\n",
        "        for images, labels in gen:\n",
        "            encoded_labels = label_encoder.texts_to_sequences(labels)\n",
        "            # encoded_labels = np.array([label[0] for label in encoded_labels])\n",
        "            encoded_labels = np.array([label[0] -1 for label in encoded_labels]) # Subtract 1 from each label\n",
        "            yield images, encoded_labels\n",
        "\n",
        "    source_dataset = tf.data.Dataset.from_generator(\n",
        "        lambda: encode_labels(source_gen),\n",
        "        output_signature=(\n",
        "            tf.TensorSpec(shape=(None, 224, 224, 3), dtype=tf.float32),\n",
        "            tf.TensorSpec(shape=(None,), dtype=tf.int32)\n",
        "        )\n",
        "    )\n",
        "\n",
        "    target_dataset = tf.data.Dataset.from_generator(\n",
        "        lambda: (images for images, _ in target_gen),\n",
        "        output_signature=tf.TensorSpec(shape=(None, 224, 224, 3), dtype=tf.float32)\n",
        "    )\n",
        "\n",
        "    return source_dataset, target_dataset, label_encoder\n",
        "\n",
        "# 데이터셋 생성\n",
        "BATCH_SIZE = 32\n",
        "source_path = '/content/gdrive/MyDrive/OfficeHomeDataset/OfficeHomeDataset_10072016/Art'\n",
        "target_path = '/content/gdrive/MyDrive/OfficeHomeDataset/OfficeHomeDataset_10072016/Clipart'\n",
        "\n",
        "source_dataset, target_dataset, label_encoder = create_datasets(source_path, target_path, BATCH_SIZE)"
      ],
      "metadata": {
        "id": "C2yYc1mg2FHb",
        "colab": {
          "base_uri": "https://localhost:8080/"
        },
        "outputId": "ce0b2c52-b325-471c-a604-7e8a98af8e3c"
      },
      "execution_count": null,
      "outputs": [
        {
          "output_type": "stream",
          "name": "stdout",
          "text": [
            "Loading image paths from /content/gdrive/MyDrive/OfficeHomeDataset/OfficeHomeDataset_10072016/Art...\n"
          ]
        },
        {
          "output_type": "stream",
          "name": "stderr",
          "text": [
            "Classes: 100%|██████████| 65/65 [00:00<00:00, 1326.30it/s]\n"
          ]
        },
        {
          "output_type": "stream",
          "name": "stdout",
          "text": [
            "Total images found: 2427\n"
          ]
        },
        {
          "output_type": "stream",
          "name": "stderr",
          "text": [
            "Batches:  41%|████      | 31/76 [10:36<14:59, 19.98s/it]"
          ]
        }
      ]
    },
    {
      "cell_type": "code",
      "source": [
        "import os\n",
        "import numpy as np\n",
        "import tensorflow as tf\n",
        "from tensorflow.keras.preprocessing.image import load_img, img_to_array\n",
        "from tensorflow.keras.preprocessing.text import Tokenizer\n",
        "\n",
        "def get_all_labels(domain_path):\n",
        "    class_names = [d for d in os.listdir(domain_path) if os.path.isdir(os.path.join(domain_path, d))]\n",
        "    return class_names\n",
        "\n",
        "def image_generator(domain_path, label_encoder, target_size=(224, 224)):\n",
        "    class_names = [d for d in os.listdir(domain_path) if os.path.isdir(os.path.join(domain_path, d))]\n",
        "    image_paths = []\n",
        "    labels = []\n",
        "\n",
        "    for class_name in class_names:\n",
        "        class_path = os.path.join(domain_path, class_name)\n",
        "        for img_name in os.listdir(class_path):\n",
        "            image_paths.append(os.path.join(class_path, img_name))\n",
        "            labels.append(class_name)\n",
        "\n",
        "    num_samples = len(image_paths)\n",
        "    indices = np.arange(num_samples)\n",
        "    np.random.shuffle(indices)\n",
        "\n",
        "    for i in indices:\n",
        "        img = load_img(image_paths[i], target_size=target_size)\n",
        "        img_array = img_to_array(img)\n",
        "        encoded_label = label_encoder.texts_to_sequences([labels[i]])[0][0] - 1\n",
        "        yield np.array(img_array) / 255.0, encoded_label\n",
        "\n",
        "def create_datasets(source_path, target_path):\n",
        "    # 모든 레이블 가져오기\n",
        "    all_labels = get_all_labels(source_path)\n",
        "\n",
        "    # 레이블 인코더 생성 및 학습\n",
        "    label_encoder = Tokenizer()\n",
        "    label_encoder.fit_on_texts(all_labels)\n",
        "\n",
        "    source_dataset = tf.data.Dataset.from_generator(\n",
        "        lambda: image_generator(source_path, label_encoder),\n",
        "        output_signature=(\n",
        "            tf.TensorSpec(shape=(224, 224, 3), dtype=tf.float32),\n",
        "            tf.TensorSpec(shape=(), dtype=tf.int32)\n",
        "        )\n",
        "    )\n",
        "\n",
        "    target_dataset = tf.data.Dataset.from_generator(\n",
        "        lambda: (image for image, _ in image_generator(target_path, label_encoder)),\n",
        "        output_signature=tf.TensorSpec(shape=(224, 224, 3), dtype=tf.float32)\n",
        "    )\n",
        "\n",
        "    return source_dataset, target_dataset, label_encoder\n",
        "\n",
        "# 데이터셋 생성\n",
        "source_path = '/content/gdrive/MyDrive/OfficeHomeDataset/OfficeHomeDataset_10072016/Art'\n",
        "target_path = '/content/gdrive/MyDrive/OfficeHomeDataset/OfficeHomeDataset_10072016/Clipart'\n",
        "\n",
        "source_dataset, target_dataset, label_encoder = create_datasets(source_path, target_path)"
      ],
      "metadata": {
        "id": "_H6eoyOzufY0"
      },
      "execution_count": null,
      "outputs": []
    },
    {
      "cell_type": "code",
      "source": [
        "# class GradientReversalLayer(tf.keras.layers.Layer):\n",
        "#     def __init__(self):\n",
        "#         super(GradientReversalLayer, self).__init__()\n",
        "\n",
        "#     def call(self, x):\n",
        "#         return tf.negative(x)\n",
        "\n",
        "#     def get_config(self):\n",
        "#         config = super(GradientReversalLayer, self).get_config()\n",
        "#         return config\n",
        "\n",
        "# def create_dann_model(num_classes):\n",
        "#     # Feature Extractor\n",
        "#     inputs = layers.Input(shape=(224, 224, 3))\n",
        "#     feature_extractor = tf.keras.applications.ResNet50(include_top=False, weights='imagenet', input_tensor=inputs)\n",
        "#     features = layers.GlobalAveragePooling2D()(feature_extractor.output)\n",
        "#     features = layers.Dense(256, activation='relu')(features)\n",
        "\n",
        "#     # Label Predictor\n",
        "#     label_output = layers.Dense(num_classes, activation='softmax', name='label_output')(features)\n",
        "\n",
        "#     # Domain Discriminator\n",
        "#     grl = GradientReversalLayer()(features)\n",
        "#     domain_output = layers.Dense(64, activation='relu')(grl)\n",
        "#     domain_output = layers.Dense(1, activation='sigmoid', name='domain_output')(domain_output)\n",
        "\n",
        "#     model = models.Model(inputs=inputs, outputs=[label_output, domain_output])\n",
        "#     return model\n",
        "\n",
        "# # DANN 모델 생성\n",
        "# num_classes = len(label_encoder.word_index)\n",
        "# dann_model = create_dann_model(num_classes)\n",
        "\n",
        "# # 손실 함수 및 옵티마이저 정의\n",
        "# label_loss = tf.keras.losses.SparseCategoricalCrossentropy()\n",
        "# domain_loss = tf.keras.losses.BinaryCrossentropy()\n",
        "# optimizer = tf.keras.optimizers.Adam(learning_rate=0.001)\n",
        "\n",
        "# # 유클리드 거리 계산 함수\n",
        "# def euclidean_distance(x, y):\n",
        "#     return tf.reduce_sum(tf.square(x - y), axis=-1)\n",
        "\n",
        "# # 학습 루프\n",
        "# @tf.function\n",
        "# def train_step(source_images, source_labels, target_images):\n",
        "#     with tf.GradientTape() as tape:\n",
        "#         # 소스 도메인\n",
        "#         source_label_pred, source_domain_pred = dann_model(source_images, training=True)\n",
        "\n",
        "#         # source_labels = tf.squeeze(source_labels, axis=-1)\n",
        "\n",
        "#         source_label_loss = label_loss(source_labels, source_label_pred)\n",
        "#         source_domain_loss = domain_loss(tf.ones_like(source_domain_pred), source_domain_pred)\n",
        "\n",
        "#         # 타겟 도메인\n",
        "#         target_label_pred, target_domain_pred = dann_model(target_images, training=True)\n",
        "#         target_domain_loss = domain_loss(tf.zeros_like(target_domain_pred), target_domain_pred)\n",
        "\n",
        "#         # 유클리드 거리 손실\n",
        "#         distance_loss = euclidean_distance(source_label_pred, target_label_pred)\n",
        "\n",
        "#         # 총 손실\n",
        "#         total_loss = source_label_loss + source_domain_loss + target_domain_loss + 0.1 * distance_loss\n",
        "\n",
        "#     gradients = tape.gradient(total_loss, dann_model.trainable_variables)\n",
        "#     optimizer.apply_gradients(zip(gradients, dann_model.trainable_variables))\n",
        "\n",
        "#     return total_loss\n",
        "\n",
        "# # 학습 실행\n",
        "# EPOCHS = 10\n",
        "# for epoch in range(EPOCHS):\n",
        "#     for (source_images, source_labels), target_images in zip(source_dataset, target_dataset):\n",
        "#         loss = train_step(source_images, source_labels, target_images)\n",
        "#     print(f\"Epoch {epoch + 1}, Loss: {loss.numpy()}\")"
      ],
      "metadata": {
        "id": "uwdP1PZEXuyQ"
      },
      "execution_count": null,
      "outputs": []
    },
    {
      "cell_type": "code",
      "source": [
        "# class GradientReversalLayer(tf.keras.layers.Layer):\n",
        "#     def __init__(self):\n",
        "#         super(GradientReversalLayer, self).__init__()\n",
        "\n",
        "#     def call(self, x):\n",
        "#         return tf.negative(x)\n",
        "\n",
        "#     def get_config(self):\n",
        "#         config = super(GradientReversalLayer, self).get_config()\n",
        "#         return config\n",
        "\n",
        "# def create_dann_model(num_classes):\n",
        "#     # Feature Extractor\n",
        "#     inputs = layers.Input(shape=(224, 224, 3))\n",
        "#     feature_extractor = tf.keras.applications.ResNet50(include_top=False, weights='imagenet', input_tensor=inputs)\n",
        "#     features = layers.GlobalAveragePooling2D()(feature_extractor.output)\n",
        "#     features = layers.Dense(256, activation='relu')(features)\n",
        "\n",
        "#     # Label Predictor\n",
        "#     label_output = layers.Dense(num_classes, activation='softmax', name='label_output')(features)\n",
        "\n",
        "#     # Domain Discriminator\n",
        "#     grl = GradientReversalLayer()(features)\n",
        "#     domain_output = layers.Dense(64, activation='relu')(grl)\n",
        "#     domain_output = layers.Dense(1, activation='sigmoid', name='domain_output')(domain_output)\n",
        "\n",
        "#     model = models.Model(inputs=inputs, outputs=[label_output, domain_output])\n",
        "#     return model\n",
        "\n",
        "# # DANN 모델 생성\n",
        "# num_classes = len(label_encoder.word_index)\n",
        "# dann_model = create_dann_model(num_classes)\n",
        "\n",
        "# # 손실 함수 및 옵티마이저 정의\n",
        "# label_loss = tf.keras.losses.SparseCategoricalCrossentropy()\n",
        "# domain_loss = tf.keras.losses.BinaryCrossentropy()\n",
        "# optimizer = tf.keras.optimizers.Adam(learning_rate=0.001)\n",
        "\n",
        "# # 유클리드 거리 계산 함수\n",
        "# def euclidean_distance(x, y):\n",
        "#     return tf.reduce_sum(tf.square(x - y), axis=-1)\n",
        "\n",
        "# # 학습 루프\n",
        "# @tf.function\n",
        "# def train_step(source_images, source_labels, target_images):\n",
        "#     with tf.GradientTape() as tape:\n",
        "#         # 소스 도메인\n",
        "#         source_label_pred, source_domain_pred = dann_model(source_images, training=True)\n",
        "#         source_label_loss = label_loss(source_labels, source_label_pred)\n",
        "#         source_domain_loss = domain_loss(tf.ones_like(source_domain_pred), source_domain_pred)\n",
        "\n",
        "#         # # 타겟 도메인\n",
        "#         # _, target_domain_pred = dann_model(target_images, training=True)\n",
        "#         # target_domain_loss = domain_loss(tf.zeros_like(target_domain_pred), target_domain_pred)\n",
        "\n",
        "#         # 타겟 도메인\n",
        "#         target_label_pred, target_domain_pred = dann_model(target_images, training=True)\n",
        "#         target_domain_loss = domain_loss(tf.zeros_like(target_domain_pred), target_domain_pred)\n",
        "\n",
        "#         # 유클리드 거리 손실\n",
        "#         distance_loss = euclidean_distance(source_label_pred, target_label_pred)\n",
        "\n",
        "#         # 총 손실\n",
        "#         total_loss = source_label_loss + source_domain_loss + target_domain_loss + 0.1 * distance_loss\n",
        "\n",
        "#     gradients = tape.gradient(total_loss, dann_model.trainable_variables)\n",
        "#     optimizer.apply_gradients(zip(gradients, dann_model.trainable_variables))\n",
        "\n",
        "#     return total_loss\n",
        "\n",
        "# # 학습 실행\n",
        "# EPOCHS = 10\n",
        "# for epoch in range(EPOCHS):\n",
        "#     epoch_loss_avg = tf.keras.metrics.Mean()  # 에폭 손실 평균 계산기\n",
        "\n",
        "#     for (source_images, source_labels), target_images in zip(source_dataset, target_dataset):\n",
        "#         loss = train_step(source_images, source_labels, target_images)\n",
        "#         epoch_loss_avg.update_state(loss)  # 손실 업데이트\n",
        "\n",
        "#     print(f\"Epoch {epoch + 1}, Loss: {epoch_loss_avg.result().numpy():.4f}\")"
      ],
      "metadata": {
        "id": "Jrhqev1tnyrG"
      },
      "execution_count": null,
      "outputs": []
    },
    {
      "cell_type": "code",
      "source": [
        "from tqdm import tqdm\n",
        "\n",
        "class GradientReversalLayer(tf.keras.layers.Layer):\n",
        "    def __init__(self):\n",
        "        super(GradientReversalLayer, self).__init__()\n",
        "\n",
        "    def call(self, x):\n",
        "        return tf.negative(x)\n",
        "\n",
        "    def get_config(self):\n",
        "        config = super(GradientReversalLayer, self).get_config()\n",
        "        return config\n",
        "\n",
        "def create_dann_model(num_classes):\n",
        "    # Feature Extractor\n",
        "    inputs = layers.Input(shape=(224, 224, 3))\n",
        "    feature_extractor = tf.keras.applications.ResNet50(include_top=False, weights='imagenet', input_tensor=inputs)\n",
        "    features = layers.GlobalAveragePooling2D()(feature_extractor.output)\n",
        "    features = layers.Dense(256, activation='relu')(features)\n",
        "\n",
        "    # Label Predictor\n",
        "    label_output = layers.Dense(num_classes, activation='softmax', name='label_output')(features)\n",
        "\n",
        "    # Domain Discriminator\n",
        "    grl = GradientReversalLayer()(features)\n",
        "    domain_output = layers.Dense(64, activation='relu')(grl)\n",
        "    domain_output = layers.Dense(1, activation='sigmoid', name='domain_output')(domain_output)\n",
        "\n",
        "    model = models.Model(inputs=inputs, outputs=[label_output, domain_output])\n",
        "    return model\n",
        "\n",
        "# DANN 모델 생성\n",
        "num_classes = len(label_encoder.word_index)\n",
        "dann_model = create_dann_model(num_classes)\n",
        "\n",
        "# 손실 함수 및 옵티마이저 정의\n",
        "label_loss = tf.keras.losses.SparseCategoricalCrossentropy()\n",
        "domain_loss = tf.keras.losses.BinaryCrossentropy()\n",
        "optimizer = tf.keras.optimizers.Adam(learning_rate=0.001)\n",
        "\n",
        "# 유클리드 거리 계산 함수\n",
        "def euclidean_distance(x, y):\n",
        "    return tf.reduce_sum(tf.square(x - y), axis=-1)\n",
        "\n",
        "# 학습 루프\n",
        "@tf.function\n",
        "def train_step(source_images, source_labels, target_images):\n",
        "    with tf.GradientTape() as tape:\n",
        "        # 소스 도메인\n",
        "        source_label_pred, source_domain_pred = dann_model(source_images, training=True)\n",
        "        source_label_loss = label_loss(source_labels, source_label_pred)\n",
        "        source_domain_loss = domain_loss(tf.ones_like(source_domain_pred), source_domain_pred)\n",
        "\n",
        "        # 타겟 도메인\n",
        "        target_label_pred, target_domain_pred = dann_model(target_images, training=True)\n",
        "        target_domain_loss = domain_loss(tf.zeros_like(target_domain_pred), target_domain_pred)\n",
        "\n",
        "        # 유클리드 거리 손실\n",
        "        distance_loss = euclidean_distance(source_label_pred, target_label_pred)\n",
        "\n",
        "        # 총 손실\n",
        "        total_loss = source_label_loss + source_domain_loss + target_domain_loss + 0.1 * distance_loss\n",
        "\n",
        "    gradients = tape.gradient(total_loss, dann_model.trainable_variables)\n",
        "    optimizer.apply_gradients(zip(gradients, dann_model.trainable_variables))\n",
        "\n",
        "    return total_loss\n",
        "\n",
        "# 데이터셋 크기 계산\n",
        "total_batches = min(len(list(source_dataset)), len(list(target_dataset)))\n",
        "\n",
        "# 학습 실행\n",
        "EPOCHS = 10\n",
        "for epoch in range(EPOCHS):\n",
        "    print(f\"Epoch {epoch + 1}/{EPOCHS}\")\n",
        "    epoch_loss_avg = tf.keras.metrics.Mean()\n",
        "\n",
        "    # tqdm을 사용하여 진행 상황 표시\n",
        "    with tqdm(total=total_batches, desc=f\"Epoch {epoch + 1}/{EPOCHS}\", unit=\"batch\") as pbar:\n",
        "        for batch, ((source_images, source_labels), target_images) in enumerate(zip(source_dataset, target_dataset)):\n",
        "            loss = train_step(source_images, source_labels, target_images)\n",
        "            epoch_loss_avg.update_state(loss)\n",
        "\n",
        "            # 현재 배치의 손실 값 출력\n",
        "            pbar.set_postfix({\"Batch Loss\": f\"{loss.numpy():.4f}\"})\n",
        "            pbar.update(1)\n",
        "\n",
        "            # 10배치마다 평균 손실 출력\n",
        "            if (batch + 1) % 10 == 0:\n",
        "                print(f\"\\nBatch {batch + 1}/{total_batches}, Average Loss: {epoch_loss_avg.result().numpy():.4f}\")\n",
        "\n",
        "    # 에폭 종료 후 평균 손실 출력\n",
        "    print(f\"\\nEpoch {epoch + 1} completed. Average Loss: {epoch_loss_avg.result().numpy():.4f}\\n\")"
      ],
      "metadata": {
        "colab": {
          "base_uri": "https://localhost:8080/",
          "height": 906
        },
        "id": "HOgEgHjKrG79",
        "outputId": "55488780-24f9-4ad9-93ff-aaa9d113a949"
      },
      "execution_count": null,
      "outputs": [
        {
          "output_type": "stream",
          "name": "stdout",
          "text": [
            "Downloading data from https://storage.googleapis.com/tensorflow/keras-applications/resnet/resnet50_weights_tf_dim_ordering_tf_kernels_notop.h5\n",
            "\u001b[1m94765736/94765736\u001b[0m \u001b[32m━━━━━━━━━━━━━━━━━━━━\u001b[0m\u001b[37m\u001b[0m \u001b[1m4s\u001b[0m 0us/step\n"
          ]
        },
        {
          "output_type": "stream",
          "name": "stderr",
          "text": []
        },
        {
          "output_type": "stream",
          "name": "stdout",
          "text": [
            "Completed one full pass through the dataset.\n"
          ]
        },
        {
          "output_type": "stream",
          "name": "stderr",
          "text": []
        },
        {
          "output_type": "stream",
          "name": "stdout",
          "text": [
            "Completed one full pass through the dataset.\n"
          ]
        },
        {
          "output_type": "stream",
          "name": "stderr",
          "text": []
        },
        {
          "output_type": "stream",
          "name": "stdout",
          "text": [
            "Completed one full pass through the dataset.\n"
          ]
        },
        {
          "output_type": "stream",
          "name": "stderr",
          "text": []
        },
        {
          "output_type": "stream",
          "name": "stdout",
          "text": [
            "Completed one full pass through the dataset.\n"
          ]
        },
        {
          "output_type": "stream",
          "name": "stderr",
          "text": []
        },
        {
          "output_type": "stream",
          "name": "stdout",
          "text": [
            "Completed one full pass through the dataset.\n"
          ]
        },
        {
          "output_type": "stream",
          "name": "stderr",
          "text": []
        },
        {
          "output_type": "stream",
          "name": "stdout",
          "text": [
            "Completed one full pass through the dataset.\n"
          ]
        },
        {
          "output_type": "stream",
          "name": "stderr",
          "text": []
        },
        {
          "output_type": "stream",
          "name": "stdout",
          "text": [
            "Completed one full pass through the dataset.\n"
          ]
        },
        {
          "output_type": "stream",
          "name": "stderr",
          "text": []
        },
        {
          "output_type": "stream",
          "name": "stdout",
          "text": [
            "Completed one full pass through the dataset.\n"
          ]
        },
        {
          "output_type": "stream",
          "name": "stderr",
          "text": []
        },
        {
          "output_type": "stream",
          "name": "stdout",
          "text": [
            "Completed one full pass through the dataset.\n"
          ]
        },
        {
          "output_type": "stream",
          "name": "stderr",
          "text": []
        },
        {
          "output_type": "stream",
          "name": "stdout",
          "text": [
            "Completed one full pass through the dataset.\n"
          ]
        },
        {
          "output_type": "stream",
          "name": "stderr",
          "text": []
        },
        {
          "output_type": "stream",
          "name": "stdout",
          "text": [
            "Completed one full pass through the dataset.\n"
          ]
        },
        {
          "output_type": "stream",
          "name": "stderr",
          "text": []
        },
        {
          "output_type": "stream",
          "name": "stdout",
          "text": [
            "Completed one full pass through the dataset.\n"
          ]
        },
        {
          "output_type": "stream",
          "name": "stderr",
          "text": []
        },
        {
          "output_type": "stream",
          "name": "stdout",
          "text": [
            "Completed one full pass through the dataset.\n"
          ]
        },
        {
          "output_type": "stream",
          "name": "stderr",
          "text": []
        },
        {
          "output_type": "stream",
          "name": "stdout",
          "text": [
            "Completed one full pass through the dataset.\n"
          ]
        },
        {
          "output_type": "stream",
          "name": "stderr",
          "text": []
        },
        {
          "output_type": "stream",
          "name": "stdout",
          "text": [
            "Completed one full pass through the dataset.\n"
          ]
        },
        {
          "output_type": "stream",
          "name": "stderr",
          "text": []
        },
        {
          "output_type": "stream",
          "name": "stdout",
          "text": [
            "Completed one full pass through the dataset.\n"
          ]
        },
        {
          "output_type": "stream",
          "name": "stderr",
          "text": []
        },
        {
          "output_type": "stream",
          "name": "stdout",
          "text": [
            "Completed one full pass through the dataset.\n"
          ]
        },
        {
          "output_type": "stream",
          "name": "stderr",
          "text": []
        },
        {
          "output_type": "stream",
          "name": "stdout",
          "text": [
            "Completed one full pass through the dataset.\n"
          ]
        },
        {
          "output_type": "stream",
          "name": "stderr",
          "text": []
        },
        {
          "output_type": "stream",
          "name": "stdout",
          "text": [
            "Completed one full pass through the dataset.\n"
          ]
        },
        {
          "output_type": "stream",
          "name": "stderr",
          "text": []
        },
        {
          "output_type": "stream",
          "name": "stdout",
          "text": [
            "Completed one full pass through the dataset.\n"
          ]
        },
        {
          "output_type": "stream",
          "name": "stderr",
          "text": []
        },
        {
          "output_type": "stream",
          "name": "stdout",
          "text": [
            "Completed one full pass through the dataset.\n"
          ]
        },
        {
          "output_type": "stream",
          "name": "stderr",
          "text": []
        },
        {
          "output_type": "stream",
          "name": "stdout",
          "text": [
            "Completed one full pass through the dataset.\n"
          ]
        },
        {
          "output_type": "stream",
          "name": "stderr",
          "text": []
        },
        {
          "output_type": "stream",
          "name": "stdout",
          "text": [
            "Completed one full pass through the dataset.\n"
          ]
        },
        {
          "output_type": "stream",
          "name": "stderr",
          "text": []
        },
        {
          "output_type": "stream",
          "name": "stdout",
          "text": [
            "Completed one full pass through the dataset.\n"
          ]
        },
        {
          "output_type": "stream",
          "name": "stderr",
          "text": []
        },
        {
          "output_type": "stream",
          "name": "stdout",
          "text": [
            "Completed one full pass through the dataset.\n"
          ]
        },
        {
          "output_type": "stream",
          "name": "stderr",
          "text": []
        },
        {
          "output_type": "stream",
          "name": "stdout",
          "text": [
            "Completed one full pass through the dataset.\n"
          ]
        },
        {
          "output_type": "stream",
          "name": "stderr",
          "text": [
            "Batches:  55%|█████▌    | 42/76 [00:07<00:06,  5.65it/s]"
          ]
        },
        {
          "output_type": "error",
          "ename": "KeyboardInterrupt",
          "evalue": "",
          "traceback": [
            "\u001b[0;31m---------------------------------------------------------------------------\u001b[0m",
            "\u001b[0;31mKeyboardInterrupt\u001b[0m                         Traceback (most recent call last)",
            "\u001b[0;32m<ipython-input-19-78c8d0820a66>\u001b[0m in \u001b[0;36m<cell line: 70>\u001b[0;34m()\u001b[0m\n\u001b[1;32m     68\u001b[0m \u001b[0;34m\u001b[0m\u001b[0m\n\u001b[1;32m     69\u001b[0m \u001b[0;31m# 데이터셋 크기 계산\u001b[0m\u001b[0;34m\u001b[0m\u001b[0;34m\u001b[0m\u001b[0m\n\u001b[0;32m---> 70\u001b[0;31m \u001b[0mtotal_batches\u001b[0m \u001b[0;34m=\u001b[0m \u001b[0mmin\u001b[0m\u001b[0;34m(\u001b[0m\u001b[0mlen\u001b[0m\u001b[0;34m(\u001b[0m\u001b[0mlist\u001b[0m\u001b[0;34m(\u001b[0m\u001b[0msource_dataset\u001b[0m\u001b[0;34m)\u001b[0m\u001b[0;34m)\u001b[0m\u001b[0;34m,\u001b[0m \u001b[0mlen\u001b[0m\u001b[0;34m(\u001b[0m\u001b[0mlist\u001b[0m\u001b[0;34m(\u001b[0m\u001b[0mtarget_dataset\u001b[0m\u001b[0;34m)\u001b[0m\u001b[0;34m)\u001b[0m\u001b[0;34m)\u001b[0m\u001b[0;34m\u001b[0m\u001b[0;34m\u001b[0m\u001b[0m\n\u001b[0m\u001b[1;32m     71\u001b[0m \u001b[0;34m\u001b[0m\u001b[0m\n\u001b[1;32m     72\u001b[0m \u001b[0;31m# 학습 실행\u001b[0m\u001b[0;34m\u001b[0m\u001b[0;34m\u001b[0m\u001b[0m\n",
            "\u001b[0;32m/usr/local/lib/python3.10/dist-packages/tensorflow/python/data/ops/iterator_ops.py\u001b[0m in \u001b[0;36m__next__\u001b[0;34m(self)\u001b[0m\n\u001b[1;32m    824\u001b[0m   \u001b[0;32mdef\u001b[0m \u001b[0m__next__\u001b[0m\u001b[0;34m(\u001b[0m\u001b[0mself\u001b[0m\u001b[0;34m)\u001b[0m\u001b[0;34m:\u001b[0m\u001b[0;34m\u001b[0m\u001b[0;34m\u001b[0m\u001b[0m\n\u001b[1;32m    825\u001b[0m     \u001b[0;32mtry\u001b[0m\u001b[0;34m:\u001b[0m\u001b[0;34m\u001b[0m\u001b[0;34m\u001b[0m\u001b[0m\n\u001b[0;32m--> 826\u001b[0;31m       \u001b[0;32mreturn\u001b[0m \u001b[0mself\u001b[0m\u001b[0;34m.\u001b[0m\u001b[0m_next_internal\u001b[0m\u001b[0;34m(\u001b[0m\u001b[0;34m)\u001b[0m\u001b[0;34m\u001b[0m\u001b[0;34m\u001b[0m\u001b[0m\n\u001b[0m\u001b[1;32m    827\u001b[0m     \u001b[0;32mexcept\u001b[0m \u001b[0merrors\u001b[0m\u001b[0;34m.\u001b[0m\u001b[0mOutOfRangeError\u001b[0m\u001b[0;34m:\u001b[0m\u001b[0;34m\u001b[0m\u001b[0;34m\u001b[0m\u001b[0m\n\u001b[1;32m    828\u001b[0m       \u001b[0;32mraise\u001b[0m \u001b[0mStopIteration\u001b[0m\u001b[0;34m\u001b[0m\u001b[0;34m\u001b[0m\u001b[0m\n",
            "\u001b[0;32m/usr/local/lib/python3.10/dist-packages/tensorflow/python/data/ops/iterator_ops.py\u001b[0m in \u001b[0;36m_next_internal\u001b[0;34m(self)\u001b[0m\n\u001b[1;32m    774\u001b[0m     \u001b[0;31m# to communicate that there is no more data to iterate over.\u001b[0m\u001b[0;34m\u001b[0m\u001b[0;34m\u001b[0m\u001b[0m\n\u001b[1;32m    775\u001b[0m     \u001b[0;32mwith\u001b[0m \u001b[0mcontext\u001b[0m\u001b[0;34m.\u001b[0m\u001b[0mexecution_mode\u001b[0m\u001b[0;34m(\u001b[0m\u001b[0mcontext\u001b[0m\u001b[0;34m.\u001b[0m\u001b[0mSYNC\u001b[0m\u001b[0;34m)\u001b[0m\u001b[0;34m:\u001b[0m\u001b[0;34m\u001b[0m\u001b[0;34m\u001b[0m\u001b[0m\n\u001b[0;32m--> 776\u001b[0;31m       ret = gen_dataset_ops.iterator_get_next(\n\u001b[0m\u001b[1;32m    777\u001b[0m           \u001b[0mself\u001b[0m\u001b[0;34m.\u001b[0m\u001b[0m_iterator_resource\u001b[0m\u001b[0;34m,\u001b[0m\u001b[0;34m\u001b[0m\u001b[0;34m\u001b[0m\u001b[0m\n\u001b[1;32m    778\u001b[0m           \u001b[0moutput_types\u001b[0m\u001b[0;34m=\u001b[0m\u001b[0mself\u001b[0m\u001b[0;34m.\u001b[0m\u001b[0m_flat_output_types\u001b[0m\u001b[0;34m,\u001b[0m\u001b[0;34m\u001b[0m\u001b[0;34m\u001b[0m\u001b[0m\n",
            "\u001b[0;32m/usr/local/lib/python3.10/dist-packages/tensorflow/python/ops/gen_dataset_ops.py\u001b[0m in \u001b[0;36miterator_get_next\u001b[0;34m(iterator, output_types, output_shapes, name)\u001b[0m\n\u001b[1;32m   3079\u001b[0m   \u001b[0;32mif\u001b[0m \u001b[0mtld\u001b[0m\u001b[0;34m.\u001b[0m\u001b[0mis_eager\u001b[0m\u001b[0;34m:\u001b[0m\u001b[0;34m\u001b[0m\u001b[0;34m\u001b[0m\u001b[0m\n\u001b[1;32m   3080\u001b[0m     \u001b[0;32mtry\u001b[0m\u001b[0;34m:\u001b[0m\u001b[0;34m\u001b[0m\u001b[0;34m\u001b[0m\u001b[0m\n\u001b[0;32m-> 3081\u001b[0;31m       _result = pywrap_tfe.TFE_Py_FastPathExecute(\n\u001b[0m\u001b[1;32m   3082\u001b[0m         \u001b[0m_ctx\u001b[0m\u001b[0;34m,\u001b[0m \u001b[0;34m\"IteratorGetNext\"\u001b[0m\u001b[0;34m,\u001b[0m \u001b[0mname\u001b[0m\u001b[0;34m,\u001b[0m \u001b[0miterator\u001b[0m\u001b[0;34m,\u001b[0m \u001b[0;34m\"output_types\"\u001b[0m\u001b[0;34m,\u001b[0m \u001b[0moutput_types\u001b[0m\u001b[0;34m,\u001b[0m\u001b[0;34m\u001b[0m\u001b[0;34m\u001b[0m\u001b[0m\n\u001b[1;32m   3083\u001b[0m         \"output_shapes\", output_shapes)\n",
            "\u001b[0;31mKeyboardInterrupt\u001b[0m: "
          ]
        }
      ]
    },
    {
      "cell_type": "code",
      "source": [
        "def count_samples(domain_path):\n",
        "    class_names = [d for d in os.listdir(domain_path) if os.path.isdir(os.path.join(domain_path, d))]\n",
        "    count = sum(len(os.listdir(os.path.join(domain_path, class_name))) for class_name in class_names)\n",
        "    return count\n",
        "\n",
        "source_count = count_samples(source_path)\n",
        "target_count = count_samples(target_path)\n",
        "total_samples = min(source_count, target_count)\n",
        "print(source_count, target_count, total_samples)"
      ],
      "metadata": {
        "colab": {
          "base_uri": "https://localhost:8080/"
        },
        "id": "qBOOdxzIziXJ",
        "outputId": "b9318656-b2f5-4228-cc19-fbbddd643d69"
      },
      "execution_count": null,
      "outputs": [
        {
          "output_type": "stream",
          "name": "stdout",
          "text": [
            "2427 4365 2427\n"
          ]
        }
      ]
    },
    {
      "cell_type": "code",
      "source": [
        "from tqdm import tqdm\n",
        "import tensorflow as tf\n",
        "from tensorflow.keras import layers, models\n",
        "\n",
        "class GradientReversalLayer(tf.keras.layers.Layer):\n",
        "    def __init__(self):\n",
        "        super(GradientReversalLayer, self).__init__()\n",
        "\n",
        "    def call(self, x):\n",
        "        return tf.negative(x)\n",
        "\n",
        "    def get_config(self):\n",
        "        config = super(GradientReversalLayer, self).get_config()\n",
        "        return config\n",
        "\n",
        "def create_dann_model(num_classes):\n",
        "    # Feature Extractor\n",
        "    inputs = layers.Input(shape=(224, 224, 3))\n",
        "    feature_extractor = tf.keras.applications.ResNet50(include_top=False, weights='imagenet', input_tensor=inputs)\n",
        "    features = layers.GlobalAveragePooling2D()(feature_extractor.output)\n",
        "    features = layers.Dense(256, activation='relu')(features)\n",
        "\n",
        "    # Label Predictor\n",
        "    label_output = layers.Dense(num_classes, activation='softmax', name='label_output')(features)\n",
        "\n",
        "    # Domain Discriminator\n",
        "    grl = GradientReversalLayer()(features)\n",
        "    domain_output = layers.Dense(64, activation='relu')(grl)\n",
        "    domain_output = layers.Dense(1, activation='sigmoid', name='domain_output')(domain_output)\n",
        "\n",
        "    model = models.Model(inputs=inputs, outputs=[label_output, domain_output])\n",
        "    return model\n",
        "\n",
        "# DANN 모델 생성\n",
        "num_classes = len(label_encoder.word_index)\n",
        "dann_model = create_dann_model(num_classes)\n",
        "\n",
        "# 손실 함수 및 옵티마이저 정의\n",
        "label_loss = tf.keras.losses.SparseCategoricalCrossentropy()\n",
        "domain_loss = tf.keras.losses.BinaryCrossentropy()\n",
        "optimizer = tf.keras.optimizers.Adam(learning_rate=0.001)\n",
        "\n",
        "# 유클리드 거리 계산 함수\n",
        "def euclidean_distance(x, y):\n",
        "    return tf.reduce_sum(tf.square(x - y), axis=-1)\n",
        "\n",
        "# 학습 단계\n",
        "@tf.function\n",
        "def train_step(source_image, source_label, target_image):\n",
        "    with tf.GradientTape() as tape:\n",
        "        # # 소스 도메인\n",
        "        # source_label_pred, source_domain_pred = dann_model(tf.expand_dims(source_image, 0), training=True)\n",
        "        # source_label_loss = label_loss(tf.expand_dims(source_label, 0), source_label_pred)\n",
        "\n",
        "        # 소스 도메인\n",
        "        source_label_pred, source_domain_pred = dann_model(tf.expand_dims(source_image, 0), training=True)\n",
        "        source_label_loss = label_loss(source_label, source_label_pred[0])  # [0]을 사용하여 배치 차원 제거\n",
        "\n",
        "        # 타겟 도메인\n",
        "        target_label_pred, target_domain_pred = dann_model(tf.expand_dims(target_image, 0), training=True)\n",
        "\n",
        "        # Domain Discriminator Loss\n",
        "        domain_preds = tf.concat([source_domain_pred, target_domain_pred], axis=0)\n",
        "        domain_labels = tf.concat([tf.ones_like(source_domain_pred), tf.zeros_like(target_domain_pred)], axis=0)\n",
        "        domain_loss_value = domain_loss(domain_labels, domain_preds)\n",
        "\n",
        "        # 유클리드 거리 손실\n",
        "        distance_loss = euclidean_distance(source_label_pred, target_label_pred)\n",
        "\n",
        "        # 총 손실\n",
        "        total_loss = source_label_loss + domain_loss_value + 0.1 * distance_loss\n",
        "\n",
        "    gradients = tape.gradient(total_loss, dann_model.trainable_variables)\n",
        "    optimizer.apply_gradients(zip(gradients, dann_model.trainable_variables))\n",
        "\n",
        "    return total_loss, source_label_loss, domain_loss_value, distance_loss\n",
        "\n",
        "# 학습 실행\n",
        "EPOCHS = 10\n",
        "for epoch in range(EPOCHS):\n",
        "    print(f\"Epoch {epoch + 1}/{EPOCHS}\")\n",
        "    epoch_loss_avg = tf.keras.metrics.Mean()\n",
        "    epoch_label_loss_avg = tf.keras.metrics.Mean()\n",
        "    epoch_domain_loss_avg = tf.keras.metrics.Mean()\n",
        "    epoch_distance_loss_avg = tf.keras.metrics.Mean()\n",
        "\n",
        "    # tqdm을 사용하여 진행 상황 표시\n",
        "    with tqdm(total=total_samples, desc=f\"Epoch {epoch + 1}/{EPOCHS}\", unit=\"sample\") as pbar:\n",
        "        for (source_image, source_label), target_image in zip(source_dataset, target_dataset):\n",
        "            loss, label_loss, domain_loss, distance_loss = train_step(source_image, source_label, target_image)\n",
        "            epoch_loss_avg.update_state(loss)\n",
        "            epoch_label_loss_avg.update_state(label_loss)\n",
        "            epoch_domain_loss_avg.update_state(domain_loss)\n",
        "            epoch_distance_loss_avg.update_state(distance_loss)\n",
        "\n",
        "            # 현재 샘플의 손실 값 출력\n",
        "            pbar.set_postfix({\n",
        "                \"Total Loss\": f\"{loss.numpy().item():.4f}\",\n",
        "                \"Label Loss\": f\"{label_loss.numpy().item():.4f}\",\n",
        "                \"Domain Loss\": f\"{domain_loss.numpy().item():.4f}\",\n",
        "                \"Distance Loss\": f\"{distance_loss.numpy().item():.4f}\"\n",
        "            })\n",
        "            pbar.update(1)\n",
        "\n",
        "            # 100개의 샘플마다 평균 손실 출력\n",
        "            if pbar.n % 100 == 0:\n",
        "                print(f\"\\nSample {pbar.n}/{total_samples}\")\n",
        "                print(f\"Average Total Loss: {epoch_loss_avg.result().numpy():.4f}\")\n",
        "                print(f\"Average Label Loss: {epoch_label_loss_avg.result().numpy():.4f}\")\n",
        "                print(f\"Average Domain Loss: {epoch_domain_loss_avg.result().numpy():.4f}\")\n",
        "                print(f\"Average Distance Loss: {epoch_distance_loss_avg.result().numpy():.4f}\")\n",
        "\n",
        "    # 에폭 종료 후 평균 손실 출력\n",
        "    print(f\"\\nEpoch {epoch + 1} completed.\")\n",
        "    print(f\"Average Total Loss: {epoch_loss_avg.result().numpy():.4f}\")\n",
        "    print(f\"Average Label Loss: {epoch_label_loss_avg.result().numpy():.4f}\")\n",
        "    print(f\"Average Domain Loss: {epoch_domain_loss_avg.result().numpy():.4f}\")\n",
        "    print(f\"Average Distance Loss: {epoch_distance_loss_avg.result().numpy():.4f}\\n\")"
      ],
      "metadata": {
        "colab": {
          "base_uri": "https://localhost:8080/"
        },
        "id": "ak00R6PIuaU6",
        "outputId": "9a2137b4-e79d-426e-b8f3-92607dda7293"
      },
      "execution_count": null,
      "outputs": [
        {
          "output_type": "stream",
          "name": "stdout",
          "text": [
            "Downloading data from https://storage.googleapis.com/tensorflow/keras-applications/resnet/resnet50_weights_tf_dim_ordering_tf_kernels_notop.h5\n",
            "\u001b[1m94765736/94765736\u001b[0m \u001b[32m━━━━━━━━━━━━━━━━━━━━\u001b[0m\u001b[37m\u001b[0m \u001b[1m5s\u001b[0m 0us/step\n",
            "Epoch 1/10\n"
          ]
        },
        {
          "output_type": "stream",
          "name": "stderr",
          "text": [
            "Epoch 1/10:   4%|▍         | 100/2427 [02:06<29:37,  1.31sample/s, Total Loss=4.6326, Label Loss=3.9397, Domain Loss=0.6928, Distance Loss=0.0000]"
          ]
        },
        {
          "output_type": "stream",
          "name": "stdout",
          "text": [
            "\n",
            "Sample 100/2427\n",
            "Average Total Loss: 5.2353\n",
            "Average Label Loss: 4.5360\n",
            "Average Domain Loss: 0.6992\n",
            "Average Distance Loss: 0.0004\n"
          ]
        },
        {
          "output_type": "stream",
          "name": "stderr",
          "text": [
            "Epoch 1/10:   8%|▊         | 200/2427 [03:20<27:08,  1.37sample/s, Total Loss=4.9933, Label Loss=4.3000, Domain Loss=0.6933, Distance Loss=0.0000]"
          ]
        },
        {
          "output_type": "stream",
          "name": "stdout",
          "text": [
            "\n",
            "Sample 200/2427\n",
            "Average Total Loss: 5.0825\n",
            "Average Label Loss: 4.3862\n",
            "Average Domain Loss: 0.6962\n",
            "Average Distance Loss: 0.0002\n"
          ]
        },
        {
          "output_type": "stream",
          "name": "stderr",
          "text": [
            "Epoch 1/10:  12%|█▏        | 300/2427 [04:35<26:03,  1.36sample/s, Total Loss=4.7258, Label Loss=4.0325, Domain Loss=0.6933, Distance Loss=0.0000]"
          ]
        },
        {
          "output_type": "stream",
          "name": "stdout",
          "text": [
            "\n",
            "Sample 300/2427\n",
            "Average Total Loss: 5.0388\n",
            "Average Label Loss: 4.3436\n",
            "Average Domain Loss: 0.6953\n",
            "Average Distance Loss: 0.0001\n"
          ]
        },
        {
          "output_type": "stream",
          "name": "stderr",
          "text": [
            "Epoch 1/10:  16%|█▋        | 400/2427 [05:51<24:50,  1.36sample/s, Total Loss=6.6870, Label Loss=5.9938, Domain Loss=0.6932, Distance Loss=0.0000]"
          ]
        },
        {
          "output_type": "stream",
          "name": "stdout",
          "text": [
            "\n",
            "Sample 400/2427\n",
            "Average Total Loss: 4.9947\n",
            "Average Label Loss: 4.2999\n",
            "Average Domain Loss: 0.6948\n",
            "Average Distance Loss: 0.0001\n"
          ]
        },
        {
          "output_type": "stream",
          "name": "stderr",
          "text": [
            "Epoch 1/10:  21%|██        | 500/2427 [07:05<23:57,  1.34sample/s, Total Loss=4.9472, Label Loss=4.2533, Domain Loss=0.6940, Distance Loss=0.0000]"
          ]
        },
        {
          "output_type": "stream",
          "name": "stdout",
          "text": [
            "\n",
            "Sample 500/2427\n",
            "Average Total Loss: 4.9702\n",
            "Average Label Loss: 4.2757\n",
            "Average Domain Loss: 0.6944\n",
            "Average Distance Loss: 0.0001\n"
          ]
        },
        {
          "output_type": "stream",
          "name": "stderr",
          "text": [
            "Epoch 1/10:  25%|██▍       | 600/2427 [08:17<21:07,  1.44sample/s, Total Loss=4.3362, Label Loss=3.6433, Domain Loss=0.6929, Distance Loss=0.0000]"
          ]
        },
        {
          "output_type": "stream",
          "name": "stdout",
          "text": [
            "\n",
            "Sample 600/2427\n",
            "Average Total Loss: 4.9374\n",
            "Average Label Loss: 4.2431\n",
            "Average Domain Loss: 0.6942\n",
            "Average Distance Loss: 0.0001\n"
          ]
        },
        {
          "output_type": "stream",
          "name": "stderr",
          "text": [
            "Epoch 1/10:  29%|██▉       | 700/2427 [09:33<21:44,  1.32sample/s, Total Loss=5.1714, Label Loss=4.4778, Domain Loss=0.6936, Distance Loss=0.0000]"
          ]
        },
        {
          "output_type": "stream",
          "name": "stdout",
          "text": [
            "\n",
            "Sample 700/2427\n",
            "Average Total Loss: 4.9303\n",
            "Average Label Loss: 4.2362\n",
            "Average Domain Loss: 0.6941\n",
            "Average Distance Loss: 0.0001\n"
          ]
        },
        {
          "output_type": "stream",
          "name": "stderr",
          "text": [
            "Epoch 1/10:  33%|███▎      | 800/2427 [10:47<19:30,  1.39sample/s, Total Loss=5.1429, Label Loss=4.4505, Domain Loss=0.6924, Distance Loss=0.0000]"
          ]
        },
        {
          "output_type": "stream",
          "name": "stdout",
          "text": [
            "\n",
            "Sample 800/2427\n",
            "Average Total Loss: 4.9212\n",
            "Average Label Loss: 4.2272\n",
            "Average Domain Loss: 0.6939\n",
            "Average Distance Loss: 0.0001\n"
          ]
        },
        {
          "output_type": "stream",
          "name": "stderr",
          "text": [
            "Epoch 1/10:  37%|███▋      | 900/2427 [12:02<17:59,  1.41sample/s, Total Loss=5.1557, Label Loss=4.4611, Domain Loss=0.6946, Distance Loss=0.0000]"
          ]
        },
        {
          "output_type": "stream",
          "name": "stdout",
          "text": [
            "\n",
            "Sample 900/2427\n",
            "Average Total Loss: 4.9103\n",
            "Average Label Loss: 4.2164\n",
            "Average Domain Loss: 0.6938\n",
            "Average Distance Loss: 0.0000\n"
          ]
        },
        {
          "output_type": "stream",
          "name": "stderr",
          "text": [
            "Epoch 1/10:  41%|████      | 1000/2427 [13:17<17:58,  1.32sample/s, Total Loss=4.6199, Label Loss=3.9368, Domain Loss=0.6831, Distance Loss=0.0000]"
          ]
        },
        {
          "output_type": "stream",
          "name": "stdout",
          "text": [
            "\n",
            "Sample 1000/2427\n",
            "Average Total Loss: 4.8992\n",
            "Average Label Loss: 4.2057\n",
            "Average Domain Loss: 0.6935\n",
            "Average Distance Loss: 0.0000\n"
          ]
        },
        {
          "output_type": "stream",
          "name": "stderr",
          "text": [
            "Epoch 1/10:  45%|████▌     | 1100/2427 [14:35<16:05,  1.37sample/s, Total Loss=5.1081, Label Loss=4.4150, Domain Loss=0.6931, Distance Loss=0.0000]"
          ]
        },
        {
          "output_type": "stream",
          "name": "stdout",
          "text": [
            "\n",
            "Sample 1100/2427\n",
            "Average Total Loss: 4.8960\n",
            "Average Label Loss: 4.2024\n",
            "Average Domain Loss: 0.6936\n",
            "Average Distance Loss: 0.0000\n"
          ]
        },
        {
          "output_type": "stream",
          "name": "stderr",
          "text": [
            "Epoch 1/10:  49%|████▉     | 1200/2427 [15:51<15:47,  1.30sample/s, Total Loss=4.4828, Label Loss=3.7888, Domain Loss=0.6940, Distance Loss=0.0000]"
          ]
        },
        {
          "output_type": "stream",
          "name": "stdout",
          "text": [
            "\n",
            "Sample 1200/2427\n",
            "Average Total Loss: 4.8923\n",
            "Average Label Loss: 4.1986\n",
            "Average Domain Loss: 0.6937\n",
            "Average Distance Loss: 0.0000\n"
          ]
        },
        {
          "output_type": "stream",
          "name": "stderr",
          "text": [
            "Epoch 1/10:  54%|█████▎    | 1300/2427 [17:05<14:07,  1.33sample/s, Total Loss=4.0970, Label Loss=3.4016, Domain Loss=0.6954, Distance Loss=0.0000]"
          ]
        },
        {
          "output_type": "stream",
          "name": "stdout",
          "text": [
            "\n",
            "Sample 1300/2427\n",
            "Average Total Loss: 4.8851\n",
            "Average Label Loss: 4.1914\n",
            "Average Domain Loss: 0.6937\n",
            "Average Distance Loss: 0.0000\n"
          ]
        },
        {
          "output_type": "stream",
          "name": "stderr",
          "text": [
            "Epoch 1/10:  58%|█████▊    | 1400/2427 [18:21<12:29,  1.37sample/s, Total Loss=3.6233, Label Loss=2.9450, Domain Loss=0.6782, Distance Loss=0.0000]"
          ]
        },
        {
          "output_type": "stream",
          "name": "stdout",
          "text": [
            "\n",
            "Sample 1400/2427\n",
            "Average Total Loss: 4.8714\n",
            "Average Label Loss: 4.1777\n",
            "Average Domain Loss: 0.6937\n",
            "Average Distance Loss: 0.0000\n"
          ]
        },
        {
          "output_type": "stream",
          "name": "stderr",
          "text": [
            "Epoch 1/10:  62%|██████▏   | 1500/2427 [19:36<11:05,  1.39sample/s, Total Loss=5.5067, Label Loss=4.8149, Domain Loss=0.6919, Distance Loss=0.0000]"
          ]
        },
        {
          "output_type": "stream",
          "name": "stdout",
          "text": [
            "\n",
            "Sample 1500/2427\n",
            "Average Total Loss: 4.8718\n",
            "Average Label Loss: 4.1782\n",
            "Average Domain Loss: 0.6936\n",
            "Average Distance Loss: 0.0000\n"
          ]
        },
        {
          "output_type": "stream",
          "name": "stderr",
          "text": [
            "Epoch 1/10:  66%|██████▌   | 1600/2427 [21:08<10:30,  1.31sample/s, Total Loss=5.1519, Label Loss=4.4578, Domain Loss=0.6942, Distance Loss=0.0000]"
          ]
        },
        {
          "output_type": "stream",
          "name": "stdout",
          "text": [
            "\n",
            "Sample 1600/2427\n",
            "Average Total Loss: 4.8672\n",
            "Average Label Loss: 4.1736\n",
            "Average Domain Loss: 0.6937\n",
            "Average Distance Loss: 0.0000\n"
          ]
        },
        {
          "output_type": "stream",
          "name": "stderr",
          "text": [
            "Epoch 1/10:  70%|███████   | 1700/2427 [22:25<09:18,  1.30sample/s, Total Loss=4.4263, Label Loss=3.7337, Domain Loss=0.6925, Distance Loss=0.0000]"
          ]
        },
        {
          "output_type": "stream",
          "name": "stdout",
          "text": [
            "\n",
            "Sample 1700/2427\n",
            "Average Total Loss: 4.8624\n",
            "Average Label Loss: 4.1689\n",
            "Average Domain Loss: 0.6936\n",
            "Average Distance Loss: 0.0000\n"
          ]
        },
        {
          "output_type": "stream",
          "name": "stderr",
          "text": [
            "Epoch 1/10:  74%|███████▍  | 1800/2427 [23:38<08:09,  1.28sample/s, Total Loss=5.4286, Label Loss=4.7325, Domain Loss=0.6962, Distance Loss=0.0000]"
          ]
        },
        {
          "output_type": "stream",
          "name": "stdout",
          "text": [
            "\n",
            "Sample 1800/2427\n",
            "Average Total Loss: 4.8616\n",
            "Average Label Loss: 4.1680\n",
            "Average Domain Loss: 0.6935\n",
            "Average Distance Loss: 0.0000\n"
          ]
        },
        {
          "output_type": "stream",
          "name": "stderr",
          "text": [
            "Epoch 1/10:  78%|███████▊  | 1900/2427 [24:54<05:58,  1.47sample/s, Total Loss=5.7432, Label Loss=5.0506, Domain Loss=0.6926, Distance Loss=0.0000]"
          ]
        },
        {
          "output_type": "stream",
          "name": "stdout",
          "text": [
            "\n",
            "Sample 1900/2427\n",
            "Average Total Loss: 4.8591\n",
            "Average Label Loss: 4.1656\n",
            "Average Domain Loss: 0.6935\n",
            "Average Distance Loss: 0.0000\n"
          ]
        },
        {
          "output_type": "stream",
          "name": "stderr",
          "text": [
            "Epoch 1/10:  82%|████████▏ | 2000/2427 [26:09<05:31,  1.29sample/s, Total Loss=4.1960, Label Loss=3.5010, Domain Loss=0.6950, Distance Loss=0.0000]"
          ]
        },
        {
          "output_type": "stream",
          "name": "stdout",
          "text": [
            "\n",
            "Sample 2000/2427\n",
            "Average Total Loss: 4.8552\n",
            "Average Label Loss: 4.1617\n",
            "Average Domain Loss: 0.6936\n",
            "Average Distance Loss: 0.0000\n"
          ]
        },
        {
          "output_type": "stream",
          "name": "stderr",
          "text": [
            "Epoch 1/10:  87%|████████▋ | 2100/2427 [27:29<03:48,  1.43sample/s, Total Loss=4.7133, Label Loss=4.0190, Domain Loss=0.6943, Distance Loss=0.0000]"
          ]
        },
        {
          "output_type": "stream",
          "name": "stdout",
          "text": [
            "\n",
            "Sample 2100/2427\n",
            "Average Total Loss: 4.8516\n",
            "Average Label Loss: 4.1580\n",
            "Average Domain Loss: 0.6935\n",
            "Average Distance Loss: 0.0000\n"
          ]
        },
        {
          "output_type": "stream",
          "name": "stderr",
          "text": [
            "Epoch 1/10:  91%|█████████ | 2200/2427 [29:58<02:28,  1.53sample/s, Total Loss=4.6210, Label Loss=3.9327, Domain Loss=0.6883, Distance Loss=0.0000]"
          ]
        },
        {
          "output_type": "stream",
          "name": "stdout",
          "text": [
            "\n",
            "Sample 2200/2427\n",
            "Average Total Loss: 4.8496\n",
            "Average Label Loss: 4.1561\n",
            "Average Domain Loss: 0.6935\n",
            "Average Distance Loss: 0.0000\n"
          ]
        },
        {
          "output_type": "stream",
          "name": "stderr",
          "text": [
            "Epoch 1/10:  95%|█████████▍| 2300/2427 [31:19<01:26,  1.47sample/s, Total Loss=4.7844, Label Loss=4.0926, Domain Loss=0.6918, Distance Loss=0.0000]"
          ]
        },
        {
          "output_type": "stream",
          "name": "stdout",
          "text": [
            "\n",
            "Sample 2300/2427\n",
            "Average Total Loss: 4.8444\n",
            "Average Label Loss: 4.1508\n",
            "Average Domain Loss: 0.6935\n",
            "Average Distance Loss: 0.0000\n"
          ]
        },
        {
          "output_type": "stream",
          "name": "stderr",
          "text": [
            "Epoch 1/10:  99%|█████████▉| 2400/2427 [32:35<00:20,  1.35sample/s, Total Loss=5.2094, Label Loss=4.5070, Domain Loss=0.7024, Distance Loss=0.0000]"
          ]
        },
        {
          "output_type": "stream",
          "name": "stdout",
          "text": [
            "\n",
            "Sample 2400/2427\n",
            "Average Total Loss: 4.8451\n",
            "Average Label Loss: 4.1516\n",
            "Average Domain Loss: 0.6935\n",
            "Average Distance Loss: 0.0000\n"
          ]
        },
        {
          "output_type": "stream",
          "name": "stderr",
          "text": [
            "Epoch 1/10: 100%|██████████| 2427/2427 [32:56<00:00,  1.23sample/s, Total Loss=4.8232, Label Loss=4.1413, Domain Loss=0.6819, Distance Loss=0.0000]\n"
          ]
        },
        {
          "output_type": "stream",
          "name": "stdout",
          "text": [
            "\n",
            "Epoch 1 completed.\n",
            "Average Total Loss: 4.8448\n",
            "Average Label Loss: 4.1513\n",
            "Average Domain Loss: 0.6935\n",
            "Average Distance Loss: 0.0000\n",
            "\n",
            "Epoch 2/10\n"
          ]
        },
        {
          "output_type": "stream",
          "name": "stderr",
          "text": [
            "Epoch 2/10:   4%|▍         | 100/2427 [00:35<06:46,  5.73sample/s, Total Loss=4.7761, Label Loss=4.0815, Domain Loss=0.6946, Distance Loss=0.0000]"
          ]
        },
        {
          "output_type": "stream",
          "name": "stdout",
          "text": [
            "\n",
            "Sample 100/2427\n",
            "Average Total Loss: 4.7905\n",
            "Average Label Loss: 4.0965\n",
            "Average Domain Loss: 0.6939\n",
            "Average Distance Loss: 0.0000\n"
          ]
        },
        {
          "output_type": "stream",
          "name": "stderr",
          "text": [
            "Epoch 2/10:   8%|▊         | 200/2427 [01:01<14:37,  2.54sample/s, Total Loss=4.9916, Label Loss=4.3069, Domain Loss=0.6847, Distance Loss=0.0001]"
          ]
        },
        {
          "output_type": "stream",
          "name": "stdout",
          "text": [
            "\n",
            "Sample 200/2427\n",
            "Average Total Loss: 4.7905\n",
            "Average Label Loss: 4.0966\n",
            "Average Domain Loss: 0.6939\n",
            "Average Distance Loss: 0.0000\n"
          ]
        },
        {
          "output_type": "stream",
          "name": "stderr",
          "text": [
            "Epoch 2/10:  12%|█▏        | 301/2427 [01:33<11:30,  3.08sample/s, Total Loss=4.2181, Label Loss=3.5157, Domain Loss=0.7024, Distance Loss=0.0001]"
          ]
        },
        {
          "output_type": "stream",
          "name": "stdout",
          "text": [
            "\n",
            "Sample 300/2427\n",
            "Average Total Loss: 4.7955\n",
            "Average Label Loss: 4.1015\n",
            "Average Domain Loss: 0.6940\n",
            "Average Distance Loss: 0.0000\n"
          ]
        },
        {
          "output_type": "stream",
          "name": "stderr",
          "text": [
            "Epoch 2/10:  16%|█▋        | 400/2427 [02:02<05:39,  5.98sample/s, Total Loss=4.1936, Label Loss=3.4995, Domain Loss=0.6941, Distance Loss=0.0000]"
          ]
        },
        {
          "output_type": "stream",
          "name": "stdout",
          "text": [
            "\n",
            "Sample 400/2427\n",
            "Average Total Loss: 4.7892\n",
            "Average Label Loss: 4.0953\n",
            "Average Domain Loss: 0.6939\n",
            "Average Distance Loss: 0.0000\n"
          ]
        },
        {
          "output_type": "stream",
          "name": "stderr",
          "text": [
            "Epoch 2/10:  21%|██        | 499/2427 [02:28<10:12,  3.15sample/s, Total Loss=4.2484, Label Loss=3.5559, Domain Loss=0.6926, Distance Loss=0.0000]"
          ]
        },
        {
          "output_type": "stream",
          "name": "stdout",
          "text": [
            "\n",
            "Sample 500/2427\n",
            "Average Total Loss: 4.7828\n",
            "Average Label Loss: 4.0890\n",
            "Average Domain Loss: 0.6938\n",
            "Average Distance Loss: 0.0000\n"
          ]
        },
        {
          "output_type": "stream",
          "name": "stderr",
          "text": [
            "Epoch 2/10:  25%|██▍       | 599/2427 [02:54<11:27,  2.66sample/s, Total Loss=3.9680, Label Loss=3.2727, Domain Loss=0.6953, Distance Loss=0.0001]"
          ]
        },
        {
          "output_type": "stream",
          "name": "stdout",
          "text": [
            "\n",
            "Sample 600/2427\n",
            "Average Total Loss: 4.7768\n",
            "Average Label Loss: 4.0830\n",
            "Average Domain Loss: 0.6937\n",
            "Average Distance Loss: 0.0001\n"
          ]
        },
        {
          "output_type": "stream",
          "name": "stderr",
          "text": [
            "Epoch 2/10:  29%|██▉       | 700/2427 [03:30<13:50,  2.08sample/s, Total Loss=4.5328, Label Loss=3.8405, Domain Loss=0.6923, Distance Loss=0.0000]"
          ]
        },
        {
          "output_type": "stream",
          "name": "stdout",
          "text": [
            "\n",
            "Sample 700/2427\n",
            "Average Total Loss: 4.7839\n",
            "Average Label Loss: 4.0902\n",
            "Average Domain Loss: 0.6937\n",
            "Average Distance Loss: 0.0001\n"
          ]
        },
        {
          "output_type": "stream",
          "name": "stderr",
          "text": [
            "Epoch 2/10:  33%|███▎      | 800/2427 [03:59<14:34,  1.86sample/s, Total Loss=4.6651, Label Loss=3.9717, Domain Loss=0.6934, Distance Loss=0.0000]"
          ]
        },
        {
          "output_type": "stream",
          "name": "stdout",
          "text": [
            "\n",
            "Sample 800/2427\n",
            "Average Total Loss: 4.7767\n",
            "Average Label Loss: 4.0831\n",
            "Average Domain Loss: 0.6936\n",
            "Average Distance Loss: 0.0001\n"
          ]
        },
        {
          "output_type": "stream",
          "name": "stderr",
          "text": [
            "Epoch 2/10:  37%|███▋      | 901/2427 [04:27<04:42,  5.40sample/s, Total Loss=5.4925, Label Loss=4.7983, Domain Loss=0.6943, Distance Loss=0.0001]"
          ]
        },
        {
          "output_type": "stream",
          "name": "stdout",
          "text": [
            "\n",
            "Sample 900/2427\n",
            "Average Total Loss: 4.7752\n",
            "Average Label Loss: 4.0816\n",
            "Average Domain Loss: 0.6936\n",
            "Average Distance Loss: 0.0001\n"
          ]
        },
        {
          "output_type": "stream",
          "name": "stderr",
          "text": [
            "Epoch 2/10:  41%|████      | 1000/2427 [04:54<05:39,  4.21sample/s, Total Loss=5.0729, Label Loss=4.3778, Domain Loss=0.6950, Distance Loss=0.0000]"
          ]
        },
        {
          "output_type": "stream",
          "name": "stdout",
          "text": [
            "\n",
            "Sample 1000/2427\n",
            "Average Total Loss: 4.7754\n",
            "Average Label Loss: 4.0818\n",
            "Average Domain Loss: 0.6936\n",
            "Average Distance Loss: 0.0001\n"
          ]
        },
        {
          "output_type": "stream",
          "name": "stderr",
          "text": [
            "Epoch 2/10:  45%|████▌     | 1101/2427 [05:19<05:27,  4.04sample/s, Total Loss=4.3233, Label Loss=3.6307, Domain Loss=0.6926, Distance Loss=0.0000]"
          ]
        },
        {
          "output_type": "stream",
          "name": "stdout",
          "text": [
            "\n",
            "Sample 1100/2427\n",
            "Average Total Loss: 4.7759\n",
            "Average Label Loss: 4.0822\n",
            "Average Domain Loss: 0.6936\n",
            "Average Distance Loss: 0.0001\n"
          ]
        },
        {
          "output_type": "stream",
          "name": "stderr",
          "text": [
            "Epoch 2/10:  49%|████▉     | 1201/2427 [05:56<08:37,  2.37sample/s, Total Loss=5.3179, Label Loss=4.6258, Domain Loss=0.6921, Distance Loss=0.0003]"
          ]
        },
        {
          "output_type": "stream",
          "name": "stdout",
          "text": [
            "\n",
            "Sample 1200/2427\n",
            "Average Total Loss: 4.7755\n",
            "Average Label Loss: 4.0819\n",
            "Average Domain Loss: 0.6936\n",
            "Average Distance Loss: 0.0001\n"
          ]
        },
        {
          "output_type": "stream",
          "name": "stderr",
          "text": [
            "Epoch 2/10:  54%|█████▎    | 1300/2427 [06:21<04:01,  4.66sample/s, Total Loss=5.3701, Label Loss=4.6737, Domain Loss=0.6964, Distance Loss=0.0001]"
          ]
        },
        {
          "output_type": "stream",
          "name": "stdout",
          "text": [
            "\n",
            "Sample 1300/2427\n",
            "Average Total Loss: 4.7784\n",
            "Average Label Loss: 4.0849\n",
            "Average Domain Loss: 0.6935\n",
            "Average Distance Loss: 0.0001\n"
          ]
        },
        {
          "output_type": "stream",
          "name": "stderr",
          "text": [
            "Epoch 2/10:  58%|█████▊    | 1400/2427 [06:43<02:32,  6.74sample/s, Total Loss=4.1453, Label Loss=3.4511, Domain Loss=0.6942, Distance Loss=0.0000]"
          ]
        },
        {
          "output_type": "stream",
          "name": "stdout",
          "text": [
            "\n",
            "Sample 1400/2427\n",
            "Average Total Loss: 4.7804\n",
            "Average Label Loss: 4.0869\n",
            "Average Domain Loss: 0.6935\n",
            "Average Distance Loss: 0.0001\n"
          ]
        },
        {
          "output_type": "stream",
          "name": "stderr",
          "text": [
            "Epoch 2/10:  62%|██████▏   | 1499/2427 [07:14<04:26,  3.49sample/s, Total Loss=3.8531, Label Loss=3.1609, Domain Loss=0.6923, Distance Loss=0.0000]"
          ]
        },
        {
          "output_type": "stream",
          "name": "stdout",
          "text": [
            "\n",
            "Sample 1500/2427\n",
            "Average Total Loss: 4.7808\n",
            "Average Label Loss: 4.0874\n",
            "Average Domain Loss: 0.6934\n",
            "Average Distance Loss: 0.0001\n"
          ]
        },
        {
          "output_type": "stream",
          "name": "stderr",
          "text": [
            "Epoch 2/10:  66%|██████▌   | 1600/2427 [07:41<04:12,  3.28sample/s, Total Loss=4.8440, Label Loss=4.1401, Domain Loss=0.7040, Distance Loss=0.0000]"
          ]
        },
        {
          "output_type": "stream",
          "name": "stdout",
          "text": [
            "\n",
            "Sample 1600/2427\n",
            "Average Total Loss: 4.7806\n",
            "Average Label Loss: 4.0873\n",
            "Average Domain Loss: 0.6933\n",
            "Average Distance Loss: 0.0001\n"
          ]
        },
        {
          "output_type": "stream",
          "name": "stderr",
          "text": [
            "Epoch 2/10:  70%|███████   | 1701/2427 [08:09<03:19,  3.63sample/s, Total Loss=4.7578, Label Loss=4.0559, Domain Loss=0.7019, Distance Loss=0.0000]"
          ]
        },
        {
          "output_type": "stream",
          "name": "stdout",
          "text": [
            "\n",
            "Sample 1700/2427\n",
            "Average Total Loss: 4.7789\n",
            "Average Label Loss: 4.0857\n",
            "Average Domain Loss: 0.6932\n",
            "Average Distance Loss: 0.0001\n"
          ]
        },
        {
          "output_type": "stream",
          "name": "stderr",
          "text": [
            "Epoch 2/10:  74%|███████▍  | 1802/2427 [08:36<01:10,  8.89sample/s, Total Loss=4.7242, Label Loss=4.0275, Domain Loss=0.6967, Distance Loss=0.0000]"
          ]
        },
        {
          "output_type": "stream",
          "name": "stdout",
          "text": [
            "\n",
            "Sample 1800/2427\n",
            "Average Total Loss: 4.7765\n",
            "Average Label Loss: 4.0834\n",
            "Average Domain Loss: 0.6931\n",
            "Average Distance Loss: 0.0001\n"
          ]
        },
        {
          "output_type": "stream",
          "name": "stderr",
          "text": [
            "Epoch 2/10:  78%|███████▊  | 1899/2427 [09:07<01:26,  6.12sample/s, Total Loss=4.6420, Label Loss=3.9583, Domain Loss=0.6837, Distance Loss=0.0000]"
          ]
        },
        {
          "output_type": "stream",
          "name": "stdout",
          "text": [
            "\n",
            "Sample 1900/2427\n",
            "Average Total Loss: 4.7757\n",
            "Average Label Loss: 4.0826\n",
            "Average Domain Loss: 0.6931\n",
            "Average Distance Loss: 0.0001\n"
          ]
        },
        {
          "output_type": "stream",
          "name": "stderr",
          "text": [
            "Epoch 2/10:  82%|████████▏ | 2001/2427 [09:36<01:11,  5.94sample/s, Total Loss=4.9426, Label Loss=4.2742, Domain Loss=0.6684, Distance Loss=0.0002]"
          ]
        },
        {
          "output_type": "stream",
          "name": "stdout",
          "text": [
            "\n",
            "Sample 2000/2427\n",
            "Average Total Loss: 4.7734\n",
            "Average Label Loss: 4.0803\n",
            "Average Domain Loss: 0.6931\n",
            "Average Distance Loss: 0.0001\n"
          ]
        },
        {
          "output_type": "stream",
          "name": "stderr",
          "text": [
            "Epoch 2/10:  87%|████████▋ | 2100/2427 [10:05<01:49,  3.00sample/s, Total Loss=3.8115, Label Loss=3.1037, Domain Loss=0.7077, Distance Loss=0.0001]"
          ]
        },
        {
          "output_type": "stream",
          "name": "stdout",
          "text": [
            "\n",
            "Sample 2100/2427\n",
            "Average Total Loss: 4.7723\n",
            "Average Label Loss: 4.0791\n",
            "Average Domain Loss: 0.6932\n",
            "Average Distance Loss: 0.0001\n"
          ]
        },
        {
          "output_type": "stream",
          "name": "stderr",
          "text": [
            "Epoch 2/10:  91%|█████████ | 2201/2427 [10:41<01:17,  2.90sample/s, Total Loss=4.9958, Label Loss=4.3125, Domain Loss=0.6833, Distance Loss=0.0001]"
          ]
        },
        {
          "output_type": "stream",
          "name": "stdout",
          "text": [
            "\n",
            "Sample 2200/2427\n",
            "Average Total Loss: 4.7757\n",
            "Average Label Loss: 4.0825\n",
            "Average Domain Loss: 0.6932\n",
            "Average Distance Loss: 0.0001\n"
          ]
        },
        {
          "output_type": "stream",
          "name": "stderr",
          "text": [
            "Epoch 2/10:  95%|█████████▍| 2300/2427 [11:05<00:20,  6.29sample/s, Total Loss=4.3584, Label Loss=3.6837, Domain Loss=0.6746, Distance Loss=0.0001]"
          ]
        },
        {
          "output_type": "stream",
          "name": "stdout",
          "text": [
            "\n",
            "Sample 2300/2427\n",
            "Average Total Loss: 4.7774\n",
            "Average Label Loss: 4.0842\n",
            "Average Domain Loss: 0.6932\n",
            "Average Distance Loss: 0.0001\n"
          ]
        },
        {
          "output_type": "stream",
          "name": "stderr",
          "text": [
            "Epoch 2/10:  99%|█████████▉| 2400/2427 [11:32<00:09,  2.99sample/s, Total Loss=4.6510, Label Loss=3.9869, Domain Loss=0.6641, Distance Loss=0.0005]"
          ]
        },
        {
          "output_type": "stream",
          "name": "stdout",
          "text": [
            "\n",
            "Sample 2400/2427\n",
            "Average Total Loss: 4.7691\n",
            "Average Label Loss: 4.0759\n",
            "Average Domain Loss: 0.6932\n",
            "Average Distance Loss: 0.0001\n"
          ]
        },
        {
          "output_type": "stream",
          "name": "stderr",
          "text": [
            "Epoch 2/10: 100%|██████████| 2427/2427 [11:41<00:00,  3.46sample/s, Total Loss=6.5497, Label Loss=5.9071, Domain Loss=0.6424, Distance Loss=0.0016]\n"
          ]
        },
        {
          "output_type": "stream",
          "name": "stdout",
          "text": [
            "\n",
            "Epoch 2 completed.\n",
            "Average Total Loss: 4.7670\n",
            "Average Label Loss: 4.0740\n",
            "Average Domain Loss: 0.6931\n",
            "Average Distance Loss: 0.0001\n",
            "\n",
            "Epoch 3/10\n"
          ]
        },
        {
          "output_type": "stream",
          "name": "stderr",
          "text": [
            "Epoch 3/10:   4%|▍         | 100/2427 [00:15<06:37,  5.85sample/s, Total Loss=4.1485, Label Loss=3.4415, Domain Loss=0.7070, Distance Loss=0.0000]"
          ]
        },
        {
          "output_type": "stream",
          "name": "stdout",
          "text": [
            "\n",
            "Sample 100/2427\n",
            "Average Total Loss: 4.8123\n",
            "Average Label Loss: 4.1276\n",
            "Average Domain Loss: 0.6847\n",
            "Average Distance Loss: 0.0002\n"
          ]
        },
        {
          "output_type": "stream",
          "name": "stderr",
          "text": [
            "Epoch 3/10:   8%|▊         | 201/2427 [00:31<03:38, 10.17sample/s, Total Loss=4.7416, Label Loss=4.0556, Domain Loss=0.6860, Distance Loss=0.0007]"
          ]
        },
        {
          "output_type": "stream",
          "name": "stdout",
          "text": [
            "\n",
            "Sample 200/2427\n",
            "Average Total Loss: 4.7498\n",
            "Average Label Loss: 4.0732\n",
            "Average Domain Loss: 0.6766\n",
            "Average Distance Loss: 0.0005\n"
          ]
        },
        {
          "output_type": "stream",
          "name": "stderr",
          "text": [
            "Epoch 3/10:  12%|█▏        | 302/2427 [00:46<03:36,  9.79sample/s, Total Loss=5.5453, Label Loss=5.1882, Domain Loss=0.3565, Distance Loss=0.0058]"
          ]
        },
        {
          "output_type": "stream",
          "name": "stdout",
          "text": [
            "\n",
            "Sample 300/2427\n",
            "Average Total Loss: 4.7521\n",
            "Average Label Loss: 4.0844\n",
            "Average Domain Loss: 0.6676\n",
            "Average Distance Loss: 0.0005\n"
          ]
        },
        {
          "output_type": "stream",
          "name": "stderr",
          "text": [
            "Epoch 3/10:  17%|█▋        | 402/2427 [01:01<03:20, 10.07sample/s, Total Loss=4.8015, Label Loss=4.2327, Domain Loss=0.5687, Distance Loss=0.0006]"
          ]
        },
        {
          "output_type": "stream",
          "name": "stdout",
          "text": [
            "\n",
            "Sample 400/2427\n",
            "Average Total Loss: 4.7398\n",
            "Average Label Loss: 4.0754\n",
            "Average Domain Loss: 0.6644\n",
            "Average Distance Loss: 0.0006\n"
          ]
        },
        {
          "output_type": "stream",
          "name": "stderr",
          "text": [
            "Epoch 3/10:  21%|██        | 501/2427 [01:13<03:41,  8.71sample/s, Total Loss=5.5388, Label Loss=5.2928, Domain Loss=0.2456, Distance Loss=0.0046]"
          ]
        },
        {
          "output_type": "stream",
          "name": "stdout",
          "text": [
            "\n",
            "Sample 500/2427\n",
            "Average Total Loss: 4.7237\n",
            "Average Label Loss: 4.0713\n",
            "Average Domain Loss: 0.6523\n",
            "Average Distance Loss: 0.0007\n"
          ]
        },
        {
          "output_type": "stream",
          "name": "stderr",
          "text": [
            "Epoch 3/10:  25%|██▍       | 601/2427 [01:29<02:56, 10.36sample/s, Total Loss=4.4114, Label Loss=3.6927, Domain Loss=0.7187, Distance Loss=0.0000]"
          ]
        },
        {
          "output_type": "stream",
          "name": "stdout",
          "text": [
            "\n",
            "Sample 600/2427\n",
            "Average Total Loss: 4.7082\n",
            "Average Label Loss: 4.0620\n",
            "Average Domain Loss: 0.6462\n",
            "Average Distance Loss: 0.0009\n"
          ]
        },
        {
          "output_type": "stream",
          "name": "stderr",
          "text": [
            "Epoch 3/10:  29%|██▉       | 701/2427 [01:43<04:56,  5.81sample/s, Total Loss=5.2271, Label Loss=4.7787, Domain Loss=0.4482, Distance Loss=0.0016]"
          ]
        },
        {
          "output_type": "stream",
          "name": "stdout",
          "text": [
            "\n",
            "Sample 700/2427\n",
            "Average Total Loss: 4.7007\n",
            "Average Label Loss: 4.0641\n",
            "Average Domain Loss: 0.6365\n",
            "Average Distance Loss: 0.0009\n"
          ]
        },
        {
          "output_type": "stream",
          "name": "stderr",
          "text": [
            "Epoch 3/10:  33%|███▎      | 801/2427 [01:59<03:30,  7.73sample/s, Total Loss=3.7529, Label Loss=3.0212, Domain Loss=0.7316, Distance Loss=0.0000]"
          ]
        },
        {
          "output_type": "stream",
          "name": "stdout",
          "text": [
            "\n",
            "Sample 800/2427\n",
            "Average Total Loss: 4.6968\n",
            "Average Label Loss: 4.0609\n",
            "Average Domain Loss: 0.6358\n",
            "Average Distance Loss: 0.0010\n"
          ]
        },
        {
          "output_type": "stream",
          "name": "stderr",
          "text": [
            "Epoch 3/10:  37%|███▋      | 899/2427 [02:10<04:04,  6.26sample/s, Total Loss=5.1387, Label Loss=4.2446, Domain Loss=0.8941, Distance Loss=0.0001]"
          ]
        },
        {
          "output_type": "stream",
          "name": "stdout",
          "text": [
            "\n",
            "Sample 900/2427\n",
            "Average Total Loss: 4.6933\n",
            "Average Label Loss: 4.0628\n",
            "Average Domain Loss: 0.6303\n",
            "Average Distance Loss: 0.0011\n"
          ]
        },
        {
          "output_type": "stream",
          "name": "stderr",
          "text": [
            "Epoch 3/10:  41%|████▏     | 1002/2427 [02:25<02:17, 10.34sample/s, Total Loss=4.2340, Label Loss=3.8935, Domain Loss=0.3402, Distance Loss=0.0027]"
          ]
        },
        {
          "output_type": "stream",
          "name": "stdout",
          "text": [
            "\n",
            "Sample 1000/2427\n",
            "Average Total Loss: 4.6921\n",
            "Average Label Loss: 4.0651\n",
            "Average Domain Loss: 0.6269\n",
            "Average Distance Loss: 0.0012\n"
          ]
        },
        {
          "output_type": "stream",
          "name": "stderr",
          "text": [
            "Epoch 3/10:  45%|████▌     | 1102/2427 [02:35<02:48,  7.88sample/s, Total Loss=4.3176, Label Loss=3.7894, Domain Loss=0.5281, Distance Loss=0.0012]"
          ]
        },
        {
          "output_type": "stream",
          "name": "stdout",
          "text": [
            "\n",
            "Sample 1100/2427\n",
            "Average Total Loss: 4.6892\n",
            "Average Label Loss: 4.0649\n",
            "Average Domain Loss: 0.6242\n",
            "Average Distance Loss: 0.0012\n"
          ]
        },
        {
          "output_type": "stream",
          "name": "stderr",
          "text": [
            "Epoch 3/10:  49%|████▉     | 1200/2427 [02:45<02:01, 10.07sample/s, Total Loss=4.5524, Label Loss=4.0817, Domain Loss=0.4706, Distance Loss=0.0008]"
          ]
        },
        {
          "output_type": "stream",
          "name": "stdout",
          "text": [
            "\n",
            "Sample 1200/2427\n",
            "Average Total Loss: 4.6882\n",
            "Average Label Loss: 4.0673\n",
            "Average Domain Loss: 0.6208\n",
            "Average Distance Loss: 0.0012\n"
          ]
        },
        {
          "output_type": "stream",
          "name": "stderr",
          "text": [
            "Epoch 3/10:  54%|█████▎    | 1299/2427 [02:58<07:54,  2.38sample/s, Total Loss=5.2363, Label Loss=3.9772, Domain Loss=1.2588, Distance Loss=0.0017]"
          ]
        },
        {
          "output_type": "stream",
          "name": "stdout",
          "text": [
            "\n",
            "Sample 1300/2427\n",
            "Average Total Loss: 4.6895\n",
            "Average Label Loss: 4.0705\n",
            "Average Domain Loss: 0.6188\n",
            "Average Distance Loss: 0.0012\n"
          ]
        },
        {
          "output_type": "stream",
          "name": "stderr",
          "text": [
            "Epoch 3/10:  58%|█████▊    | 1402/2427 [03:11<01:39, 10.31sample/s, Total Loss=4.2967, Label Loss=4.0239, Domain Loss=0.2723, Distance Loss=0.0043]"
          ]
        },
        {
          "output_type": "stream",
          "name": "stdout",
          "text": [
            "\n",
            "Sample 1400/2427\n",
            "Average Total Loss: 4.6954\n",
            "Average Label Loss: 4.0755\n",
            "Average Domain Loss: 0.6198\n",
            "Average Distance Loss: 0.0012\n"
          ]
        },
        {
          "output_type": "stream",
          "name": "stderr",
          "text": [
            "Epoch 3/10:  62%|██████▏   | 1501/2427 [03:24<01:51,  8.33sample/s, Total Loss=5.4005, Label Loss=4.1905, Domain Loss=1.2098, Distance Loss=0.0011]"
          ]
        },
        {
          "output_type": "stream",
          "name": "stdout",
          "text": [
            "\n",
            "Sample 1500/2427\n",
            "Average Total Loss: 4.6923\n",
            "Average Label Loss: 4.0808\n",
            "Average Domain Loss: 0.6113\n",
            "Average Distance Loss: 0.0013\n"
          ]
        },
        {
          "output_type": "stream",
          "name": "stderr",
          "text": [
            "Epoch 3/10:  66%|██████▌   | 1602/2427 [03:36<01:20, 10.27sample/s, Total Loss=4.9427, Label Loss=3.6137, Domain Loss=1.3289, Distance Loss=0.0012]"
          ]
        },
        {
          "output_type": "stream",
          "name": "stdout",
          "text": [
            "\n",
            "Sample 1600/2427\n",
            "Average Total Loss: 4.6832\n",
            "Average Label Loss: 4.0777\n",
            "Average Domain Loss: 0.6054\n",
            "Average Distance Loss: 0.0013\n"
          ]
        },
        {
          "output_type": "stream",
          "name": "stderr",
          "text": [
            "Epoch 3/10:  70%|███████   | 1700/2427 [03:45<01:11, 10.19sample/s, Total Loss=4.1205, Label Loss=3.5461, Domain Loss=0.5744, Distance Loss=0.0002]"
          ]
        },
        {
          "output_type": "stream",
          "name": "stdout",
          "text": [
            "\n",
            "Sample 1700/2427\n",
            "Average Total Loss: 4.6785\n",
            "Average Label Loss: 4.0762\n",
            "Average Domain Loss: 0.6022\n",
            "Average Distance Loss: 0.0013\n"
          ]
        },
        {
          "output_type": "stream",
          "name": "stderr",
          "text": [
            "Epoch 3/10:  74%|███████▍  | 1801/2427 [03:59<01:05,  9.54sample/s, Total Loss=3.7818, Label Loss=3.4477, Domain Loss=0.3338, Distance Loss=0.0021]"
          ]
        },
        {
          "output_type": "stream",
          "name": "stdout",
          "text": [
            "\n",
            "Sample 1800/2427\n",
            "Average Total Loss: 4.6745\n",
            "Average Label Loss: 4.0735\n",
            "Average Domain Loss: 0.6008\n",
            "Average Distance Loss: 0.0013\n"
          ]
        },
        {
          "output_type": "stream",
          "name": "stderr",
          "text": [
            "Epoch 3/10:  78%|███████▊  | 1901/2427 [04:14<00:51, 10.21sample/s, Total Loss=3.7213, Label Loss=3.4027, Domain Loss=0.3182, Distance Loss=0.0043]"
          ]
        },
        {
          "output_type": "stream",
          "name": "stdout",
          "text": [
            "\n",
            "Sample 1900/2427\n",
            "Average Total Loss: 4.6657\n",
            "Average Label Loss: 4.0712\n",
            "Average Domain Loss: 0.5944\n",
            "Average Distance Loss: 0.0014\n"
          ]
        },
        {
          "output_type": "stream",
          "name": "stderr",
          "text": [
            "Epoch 3/10:  82%|████████▏ | 2000/2427 [04:26<00:40, 10.45sample/s, Total Loss=4.3248, Label Loss=3.9246, Domain Loss=0.4000, Distance Loss=0.0024]"
          ]
        },
        {
          "output_type": "stream",
          "name": "stdout",
          "text": [
            "\n",
            "Sample 2000/2427\n",
            "Average Total Loss: 4.6597\n",
            "Average Label Loss: 4.0673\n",
            "Average Domain Loss: 0.5923\n",
            "Average Distance Loss: 0.0014\n"
          ]
        },
        {
          "output_type": "stream",
          "name": "stderr",
          "text": [
            "Epoch 3/10:  87%|████████▋ | 2101/2427 [04:39<00:32, 10.13sample/s, Total Loss=4.5199, Label Loss=4.2754, Domain Loss=0.2442, Distance Loss=0.0031]"
          ]
        },
        {
          "output_type": "stream",
          "name": "stdout",
          "text": [
            "\n",
            "Sample 2100/2427\n",
            "Average Total Loss: 4.6535\n",
            "Average Label Loss: 4.0662\n",
            "Average Domain Loss: 0.5871\n",
            "Average Distance Loss: 0.0015\n"
          ]
        },
        {
          "output_type": "stream",
          "name": "stderr",
          "text": [
            "Epoch 3/10:  91%|█████████ | 2201/2427 [04:51<00:22, 10.25sample/s, Total Loss=4.1799, Label Loss=3.9653, Domain Loss=0.2142, Distance Loss=0.0037]"
          ]
        },
        {
          "output_type": "stream",
          "name": "stdout",
          "text": [
            "\n",
            "Sample 2200/2427\n",
            "Average Total Loss: 4.6554\n",
            "Average Label Loss: 4.0684\n",
            "Average Domain Loss: 0.5868\n",
            "Average Distance Loss: 0.0015\n"
          ]
        },
        {
          "output_type": "stream",
          "name": "stderr",
          "text": [
            "Epoch 3/10:  95%|█████████▍| 2301/2427 [05:03<00:12, 10.29sample/s, Total Loss=3.3878, Label Loss=3.1945, Domain Loss=0.1930, Distance Loss=0.0035]"
          ]
        },
        {
          "output_type": "stream",
          "name": "stdout",
          "text": [
            "\n",
            "Sample 2300/2427\n",
            "Average Total Loss: 4.6504\n",
            "Average Label Loss: 4.0682\n",
            "Average Domain Loss: 0.5820\n",
            "Average Distance Loss: 0.0015\n"
          ]
        },
        {
          "output_type": "stream",
          "name": "stderr",
          "text": [
            "Epoch 3/10:  99%|█████████▉| 2401/2427 [05:13<00:02, 10.19sample/s, Total Loss=5.8408, Label Loss=5.4133, Domain Loss=0.4272, Distance Loss=0.0025]"
          ]
        },
        {
          "output_type": "stream",
          "name": "stdout",
          "text": [
            "\n",
            "Sample 2400/2427\n",
            "Average Total Loss: 4.6465\n",
            "Average Label Loss: 4.0663\n",
            "Average Domain Loss: 0.5800\n",
            "Average Distance Loss: 0.0015\n"
          ]
        },
        {
          "output_type": "stream",
          "name": "stderr",
          "text": [
            "Epoch 3/10: 100%|██████████| 2427/2427 [05:16<00:00,  7.67sample/s, Total Loss=4.9980, Label Loss=3.9840, Domain Loss=1.0140, Distance Loss=0.0001]\n"
          ]
        },
        {
          "output_type": "stream",
          "name": "stdout",
          "text": [
            "\n",
            "Epoch 3 completed.\n",
            "Average Total Loss: 4.6459\n",
            "Average Label Loss: 4.0670\n",
            "Average Domain Loss: 0.5788\n",
            "Average Distance Loss: 0.0016\n",
            "\n",
            "Epoch 4/10\n"
          ]
        },
        {
          "output_type": "stream",
          "name": "stderr",
          "text": [
            "Epoch 4/10:   4%|▍         | 102/2427 [00:12<03:51, 10.04sample/s, Total Loss=4.2394, Label Loss=3.9676, Domain Loss=0.2714, Distance Loss=0.0042]"
          ]
        },
        {
          "output_type": "stream",
          "name": "stdout",
          "text": [
            "\n",
            "Sample 100/2427\n",
            "Average Total Loss: 4.4860\n",
            "Average Label Loss: 4.0434\n",
            "Average Domain Loss: 0.4423\n",
            "Average Distance Loss: 0.0027\n"
          ]
        },
        {
          "output_type": "stream",
          "name": "stderr",
          "text": [
            "Epoch 4/10:   8%|▊         | 201/2427 [00:22<03:35, 10.34sample/s, Total Loss=5.6495, Label Loss=4.3026, Domain Loss=1.3468, Distance Loss=0.0014]"
          ]
        },
        {
          "output_type": "stream",
          "name": "stdout",
          "text": [
            "\n",
            "Sample 200/2427\n",
            "Average Total Loss: 4.5550\n",
            "Average Label Loss: 4.0752\n",
            "Average Domain Loss: 0.4796\n",
            "Average Distance Loss: 0.0024\n"
          ]
        },
        {
          "output_type": "stream",
          "name": "stderr",
          "text": [
            "Epoch 4/10:  12%|█▏        | 301/2427 [00:32<03:34,  9.89sample/s, Total Loss=5.2432, Label Loss=4.0645, Domain Loss=1.1786, Distance Loss=0.0006]"
          ]
        },
        {
          "output_type": "stream",
          "name": "stdout",
          "text": [
            "\n",
            "Sample 300/2427\n",
            "Average Total Loss: 4.5891\n",
            "Average Label Loss: 4.1009\n",
            "Average Domain Loss: 0.4880\n",
            "Average Distance Loss: 0.0021\n"
          ]
        },
        {
          "output_type": "stream",
          "name": "stderr",
          "text": [
            "Epoch 4/10:  17%|█▋        | 401/2427 [00:42<03:17, 10.23sample/s, Total Loss=3.5480, Label Loss=3.0663, Domain Loss=0.4816, Distance Loss=0.0013]"
          ]
        },
        {
          "output_type": "stream",
          "name": "stdout",
          "text": [
            "\n",
            "Sample 400/2427\n",
            "Average Total Loss: 4.5661\n",
            "Average Label Loss: 4.0855\n",
            "Average Domain Loss: 0.4804\n",
            "Average Distance Loss: 0.0021\n"
          ]
        },
        {
          "output_type": "stream",
          "name": "stderr",
          "text": [
            "Epoch 4/10:  21%|██        | 501/2427 [00:51<03:08, 10.23sample/s, Total Loss=4.1891, Label Loss=3.9806, Domain Loss=0.2083, Distance Loss=0.0022]"
          ]
        },
        {
          "output_type": "stream",
          "name": "stdout",
          "text": [
            "\n",
            "Sample 500/2427\n",
            "Average Total Loss: 4.5428\n",
            "Average Label Loss: 4.0738\n",
            "Average Domain Loss: 0.4687\n",
            "Average Distance Loss: 0.0021\n"
          ]
        },
        {
          "output_type": "stream",
          "name": "stderr",
          "text": [
            "Epoch 4/10:  25%|██▍       | 602/2427 [01:01<02:59, 10.14sample/s, Total Loss=4.3076, Label Loss=3.9498, Domain Loss=0.3577, Distance Loss=0.0006]"
          ]
        },
        {
          "output_type": "stream",
          "name": "stdout",
          "text": [
            "\n",
            "Sample 600/2427\n",
            "Average Total Loss: 4.5460\n",
            "Average Label Loss: 4.0755\n",
            "Average Domain Loss: 0.4703\n",
            "Average Distance Loss: 0.0021\n"
          ]
        },
        {
          "output_type": "stream",
          "name": "stderr",
          "text": [
            "Epoch 4/10:  29%|██▉       | 701/2427 [01:11<02:47, 10.31sample/s, Total Loss=4.2371, Label Loss=3.9985, Domain Loss=0.2384, Distance Loss=0.0018]"
          ]
        },
        {
          "output_type": "stream",
          "name": "stdout",
          "text": [
            "\n",
            "Sample 700/2427\n",
            "Average Total Loss: 4.5250\n",
            "Average Label Loss: 4.0588\n",
            "Average Domain Loss: 0.4660\n",
            "Average Distance Loss: 0.0022\n"
          ]
        },
        {
          "output_type": "stream",
          "name": "stderr",
          "text": [
            "Epoch 4/10:  33%|███▎      | 802/2427 [01:21<02:42, 10.00sample/s, Total Loss=4.4031, Label Loss=3.9382, Domain Loss=0.4649, Distance Loss=0.0002]"
          ]
        },
        {
          "output_type": "stream",
          "name": "stdout",
          "text": [
            "\n",
            "Sample 800/2427\n",
            "Average Total Loss: 4.5367\n",
            "Average Label Loss: 4.0694\n",
            "Average Domain Loss: 0.4671\n",
            "Average Distance Loss: 0.0021\n"
          ]
        },
        {
          "output_type": "stream",
          "name": "stderr",
          "text": [
            "Epoch 4/10:  37%|███▋      | 902/2427 [01:30<02:28, 10.29sample/s, Total Loss=5.4129, Label Loss=3.5990, Domain Loss=1.8135, Distance Loss=0.0030]"
          ]
        },
        {
          "output_type": "stream",
          "name": "stdout",
          "text": [
            "\n",
            "Sample 900/2427\n",
            "Average Total Loss: 4.5342\n",
            "Average Label Loss: 4.0624\n",
            "Average Domain Loss: 0.4715\n",
            "Average Distance Loss: 0.0021\n"
          ]
        },
        {
          "output_type": "stream",
          "name": "stderr",
          "text": [
            "Epoch 4/10:  41%|████      | 1001/2427 [01:40<02:19, 10.24sample/s, Total Loss=3.8982, Label Loss=3.5585, Domain Loss=0.3396, Distance Loss=0.0008]"
          ]
        },
        {
          "output_type": "stream",
          "name": "stdout",
          "text": [
            "\n",
            "Sample 1000/2427\n",
            "Average Total Loss: 4.5310\n",
            "Average Label Loss: 4.0590\n",
            "Average Domain Loss: 0.4718\n",
            "Average Distance Loss: 0.0021\n"
          ]
        },
        {
          "output_type": "stream",
          "name": "stderr",
          "text": [
            "Epoch 4/10:  45%|████▌     | 1101/2427 [01:50<02:11, 10.08sample/s, Total Loss=4.5800, Label Loss=4.1359, Domain Loss=0.4441, Distance Loss=0.0003]"
          ]
        },
        {
          "output_type": "stream",
          "name": "stdout",
          "text": [
            "\n",
            "Sample 1100/2427\n",
            "Average Total Loss: 4.5412\n",
            "Average Label Loss: 4.0667\n",
            "Average Domain Loss: 0.4743\n",
            "Average Distance Loss: 0.0021\n"
          ]
        },
        {
          "output_type": "stream",
          "name": "stderr",
          "text": [
            "Epoch 4/10:  49%|████▉     | 1201/2427 [02:00<02:01, 10.08sample/s, Total Loss=4.2844, Label Loss=4.1085, Domain Loss=0.1757, Distance Loss=0.0024]"
          ]
        },
        {
          "output_type": "stream",
          "name": "stdout",
          "text": [
            "\n",
            "Sample 1200/2427\n",
            "Average Total Loss: 4.5432\n",
            "Average Label Loss: 4.0740\n",
            "Average Domain Loss: 0.4690\n",
            "Average Distance Loss: 0.0020\n"
          ]
        },
        {
          "output_type": "stream",
          "name": "stderr",
          "text": [
            "Epoch 4/10:  54%|█████▎    | 1301/2427 [02:10<01:56,  9.69sample/s, Total Loss=4.9193, Label Loss=4.4621, Domain Loss=0.4571, Distance Loss=0.0008]"
          ]
        },
        {
          "output_type": "stream",
          "name": "stdout",
          "text": [
            "\n",
            "Sample 1300/2427\n",
            "Average Total Loss: 4.5461\n",
            "Average Label Loss: 4.0768\n",
            "Average Domain Loss: 0.4692\n",
            "Average Distance Loss: 0.0020\n"
          ]
        },
        {
          "output_type": "stream",
          "name": "stderr",
          "text": [
            "Epoch 4/10:  58%|█████▊    | 1401/2427 [02:20<01:40, 10.20sample/s, Total Loss=5.3677, Label Loss=3.7693, Domain Loss=1.5983, Distance Loss=0.0012]"
          ]
        },
        {
          "output_type": "stream",
          "name": "stdout",
          "text": [
            "\n",
            "Sample 1400/2427\n",
            "Average Total Loss: 4.5441\n",
            "Average Label Loss: 4.0748\n",
            "Average Domain Loss: 0.4690\n",
            "Average Distance Loss: 0.0020\n"
          ]
        },
        {
          "output_type": "stream",
          "name": "stderr",
          "text": [
            "Epoch 4/10:  62%|██████▏   | 1501/2427 [02:29<01:30, 10.28sample/s, Total Loss=4.4531, Label Loss=3.9548, Domain Loss=0.4982, Distance Loss=0.0006]"
          ]
        },
        {
          "output_type": "stream",
          "name": "stdout",
          "text": [
            "\n",
            "Sample 1500/2427\n",
            "Average Total Loss: 4.5393\n",
            "Average Label Loss: 4.0730\n",
            "Average Domain Loss: 0.4661\n",
            "Average Distance Loss: 0.0019\n"
          ]
        },
        {
          "output_type": "stream",
          "name": "stderr",
          "text": [
            "Epoch 4/10:  66%|██████▌   | 1601/2427 [02:39<01:20, 10.26sample/s, Total Loss=5.3371, Label Loss=4.8084, Domain Loss=0.5286, Distance Loss=0.0005]"
          ]
        },
        {
          "output_type": "stream",
          "name": "stdout",
          "text": [
            "\n",
            "Sample 1600/2427\n",
            "Average Total Loss: 4.5337\n",
            "Average Label Loss: 4.0694\n",
            "Average Domain Loss: 0.4642\n",
            "Average Distance Loss: 0.0019\n"
          ]
        },
        {
          "output_type": "stream",
          "name": "stderr",
          "text": [
            "Epoch 4/10:  70%|███████   | 1702/2427 [02:49<01:10, 10.32sample/s, Total Loss=4.4416, Label Loss=3.9564, Domain Loss=0.4852, Distance Loss=0.0002]"
          ]
        },
        {
          "output_type": "stream",
          "name": "stdout",
          "text": [
            "\n",
            "Sample 1700/2427\n",
            "Average Total Loss: 4.5312\n",
            "Average Label Loss: 4.0651\n",
            "Average Domain Loss: 0.4659\n",
            "Average Distance Loss: 0.0019\n"
          ]
        },
        {
          "output_type": "stream",
          "name": "stderr",
          "text": [
            "Epoch 4/10:  74%|███████▍  | 1802/2427 [02:59<01:02, 10.06sample/s, Total Loss=4.5330, Label Loss=4.1601, Domain Loss=0.3729, Distance Loss=0.0006]"
          ]
        },
        {
          "output_type": "stream",
          "name": "stdout",
          "text": [
            "\n",
            "Sample 1800/2427\n",
            "Average Total Loss: 4.5341\n",
            "Average Label Loss: 4.0643\n",
            "Average Domain Loss: 0.4696\n",
            "Average Distance Loss: 0.0019\n"
          ]
        },
        {
          "output_type": "stream",
          "name": "stderr",
          "text": [
            "Epoch 4/10:  78%|███████▊  | 1902/2427 [03:08<00:50, 10.32sample/s, Total Loss=4.9594, Label Loss=4.1640, Domain Loss=0.7954, Distance Loss=0.0000]"
          ]
        },
        {
          "output_type": "stream",
          "name": "stdout",
          "text": [
            "\n",
            "Sample 1900/2427\n",
            "Average Total Loss: 4.5357\n",
            "Average Label Loss: 4.0652\n",
            "Average Domain Loss: 0.4703\n",
            "Average Distance Loss: 0.0019\n"
          ]
        },
        {
          "output_type": "stream",
          "name": "stderr",
          "text": [
            "Epoch 4/10:  82%|████████▏ | 2002/2427 [03:18<00:41, 10.25sample/s, Total Loss=4.0328, Label Loss=3.6536, Domain Loss=0.3792, Distance Loss=0.0013]"
          ]
        },
        {
          "output_type": "stream",
          "name": "stdout",
          "text": [
            "\n",
            "Sample 2000/2427\n",
            "Average Total Loss: 4.5354\n",
            "Average Label Loss: 4.0663\n",
            "Average Domain Loss: 0.4690\n",
            "Average Distance Loss: 0.0019\n"
          ]
        },
        {
          "output_type": "stream",
          "name": "stderr",
          "text": [
            "Epoch 4/10:  87%|████████▋ | 2102/2427 [03:28<00:31, 10.32sample/s, Total Loss=6.2494, Label Loss=5.0242, Domain Loss=1.2251, Distance Loss=0.0008]"
          ]
        },
        {
          "output_type": "stream",
          "name": "stdout",
          "text": [
            "\n",
            "Sample 2100/2427\n",
            "Average Total Loss: 4.5285\n",
            "Average Label Loss: 4.0630\n",
            "Average Domain Loss: 0.4653\n",
            "Average Distance Loss: 0.0019\n"
          ]
        },
        {
          "output_type": "stream",
          "name": "stderr",
          "text": [
            "Epoch 4/10:  91%|█████████ | 2202/2427 [03:37<00:21, 10.28sample/s, Total Loss=4.1293, Label Loss=3.4436, Domain Loss=0.6857, Distance Loss=0.0000]"
          ]
        },
        {
          "output_type": "stream",
          "name": "stdout",
          "text": [
            "\n",
            "Sample 2200/2427\n",
            "Average Total Loss: 4.5293\n",
            "Average Label Loss: 4.0630\n",
            "Average Domain Loss: 0.4662\n",
            "Average Distance Loss: 0.0019\n"
          ]
        },
        {
          "output_type": "stream",
          "name": "stderr",
          "text": [
            "Epoch 4/10:  95%|█████████▍| 2301/2427 [03:47<00:12,  9.93sample/s, Total Loss=3.4814, Label Loss=3.3054, Domain Loss=0.1757, Distance Loss=0.0029]"
          ]
        },
        {
          "output_type": "stream",
          "name": "stdout",
          "text": [
            "\n",
            "Sample 2300/2427\n",
            "Average Total Loss: 4.5263\n",
            "Average Label Loss: 4.0614\n",
            "Average Domain Loss: 0.4647\n",
            "Average Distance Loss: 0.0019\n"
          ]
        },
        {
          "output_type": "stream",
          "name": "stderr",
          "text": [
            "Epoch 4/10:  99%|█████████▉| 2401/2427 [03:57<00:02, 10.29sample/s, Total Loss=3.7581, Label Loss=3.3761, Domain Loss=0.3818, Distance Loss=0.0013]"
          ]
        },
        {
          "output_type": "stream",
          "name": "stdout",
          "text": [
            "\n",
            "Sample 2400/2427\n",
            "Average Total Loss: 4.5232\n",
            "Average Label Loss: 4.0616\n",
            "Average Domain Loss: 0.4614\n",
            "Average Distance Loss: 0.0020\n"
          ]
        },
        {
          "output_type": "stream",
          "name": "stderr",
          "text": [
            "Epoch 4/10: 100%|██████████| 2427/2427 [03:59<00:00, 10.12sample/s, Total Loss=4.0272, Label Loss=3.9064, Domain Loss=0.1205, Distance Loss=0.0034]\n"
          ]
        },
        {
          "output_type": "stream",
          "name": "stdout",
          "text": [
            "\n",
            "Epoch 4 completed.\n",
            "Average Total Loss: 4.5211\n",
            "Average Label Loss: 4.0600\n",
            "Average Domain Loss: 0.4609\n",
            "Average Distance Loss: 0.0020\n",
            "\n",
            "Epoch 5/10\n"
          ]
        },
        {
          "output_type": "stream",
          "name": "stderr",
          "text": [
            "Epoch 5/10:   4%|▍         | 102/2427 [00:10<03:54,  9.91sample/s, Total Loss=5.5170, Label Loss=4.7583, Domain Loss=0.7587, Distance Loss=0.0003]"
          ]
        },
        {
          "output_type": "stream",
          "name": "stdout",
          "text": [
            "\n",
            "Sample 100/2427\n",
            "Average Total Loss: 4.5898\n",
            "Average Label Loss: 4.1566\n",
            "Average Domain Loss: 0.4330\n",
            "Average Distance Loss: 0.0020\n"
          ]
        },
        {
          "output_type": "stream",
          "name": "stderr",
          "text": [
            "Epoch 5/10:   8%|▊         | 202/2427 [00:21<03:38, 10.19sample/s, Total Loss=4.1464, Label Loss=3.9742, Domain Loss=0.1718, Distance Loss=0.0040]"
          ]
        },
        {
          "output_type": "stream",
          "name": "stdout",
          "text": [
            "\n",
            "Sample 200/2427\n",
            "Average Total Loss: 4.5300\n",
            "Average Label Loss: 4.0785\n",
            "Average Domain Loss: 0.4513\n",
            "Average Distance Loss: 0.0020\n"
          ]
        },
        {
          "output_type": "stream",
          "name": "stderr",
          "text": [
            "Epoch 5/10:  12%|█▏        | 301/2427 [00:31<03:27, 10.24sample/s, Total Loss=5.2725, Label Loss=4.1773, Domain Loss=1.0951, Distance Loss=0.0004]"
          ]
        },
        {
          "output_type": "stream",
          "name": "stdout",
          "text": [
            "\n",
            "Sample 300/2427\n",
            "Average Total Loss: 4.5412\n",
            "Average Label Loss: 4.0668\n",
            "Average Domain Loss: 0.4743\n",
            "Average Distance Loss: 0.0019\n"
          ]
        },
        {
          "output_type": "stream",
          "name": "stderr",
          "text": [
            "Epoch 5/10:  17%|█▋        | 401/2427 [00:41<03:18, 10.19sample/s, Total Loss=3.3695, Label Loss=3.2411, Domain Loss=0.1280, Distance Loss=0.0047]"
          ]
        },
        {
          "output_type": "stream",
          "name": "stdout",
          "text": [
            "\n",
            "Sample 400/2427\n",
            "Average Total Loss: 4.5028\n",
            "Average Label Loss: 4.0441\n",
            "Average Domain Loss: 0.4585\n",
            "Average Distance Loss: 0.0020\n"
          ]
        },
        {
          "output_type": "stream",
          "name": "stderr",
          "text": [
            "Epoch 5/10:  21%|██        | 501/2427 [00:51<03:07, 10.27sample/s, Total Loss=3.3330, Label Loss=3.1708, Domain Loss=0.1617, Distance Loss=0.0056]"
          ]
        },
        {
          "output_type": "stream",
          "name": "stdout",
          "text": [
            "\n",
            "Sample 500/2427\n",
            "Average Total Loss: 4.4638\n",
            "Average Label Loss: 4.0258\n",
            "Average Domain Loss: 0.4378\n",
            "Average Distance Loss: 0.0023\n"
          ]
        },
        {
          "output_type": "stream",
          "name": "stderr",
          "text": [
            "Epoch 5/10:  25%|██▍       | 601/2427 [01:00<03:04,  9.88sample/s, Total Loss=4.2476, Label Loss=4.0546, Domain Loss=0.1928, Distance Loss=0.0029]"
          ]
        },
        {
          "output_type": "stream",
          "name": "stdout",
          "text": [
            "\n",
            "Sample 600/2427\n",
            "Average Total Loss: 4.4860\n",
            "Average Label Loss: 4.0472\n",
            "Average Domain Loss: 0.4385\n",
            "Average Distance Loss: 0.0024\n"
          ]
        },
        {
          "output_type": "stream",
          "name": "stderr",
          "text": [
            "Epoch 5/10:  29%|██▉       | 702/2427 [01:10<02:47, 10.32sample/s, Total Loss=4.2436, Label Loss=4.1810, Domain Loss=0.0618, Distance Loss=0.0074]"
          ]
        },
        {
          "output_type": "stream",
          "name": "stdout",
          "text": [
            "\n",
            "Sample 700/2427\n",
            "Average Total Loss: 4.4648\n",
            "Average Label Loss: 4.0390\n",
            "Average Domain Loss: 0.4256\n",
            "Average Distance Loss: 0.0025\n"
          ]
        },
        {
          "output_type": "stream",
          "name": "stderr",
          "text": [
            "Epoch 5/10:  33%|███▎      | 802/2427 [01:20<02:37, 10.29sample/s, Total Loss=3.6624, Label Loss=3.5080, Domain Loss=0.1542, Distance Loss=0.0027]"
          ]
        },
        {
          "output_type": "stream",
          "name": "stdout",
          "text": [
            "\n",
            "Sample 800/2427\n",
            "Average Total Loss: 4.4518\n",
            "Average Label Loss: 4.0352\n",
            "Average Domain Loss: 0.4163\n",
            "Average Distance Loss: 0.0026\n"
          ]
        },
        {
          "output_type": "stream",
          "name": "stderr",
          "text": [
            "Epoch 5/10:  37%|███▋      | 901/2427 [01:30<02:28, 10.31sample/s, Total Loss=4.4629, Label Loss=3.4464, Domain Loss=1.0165, Distance Loss=0.0000]"
          ]
        },
        {
          "output_type": "stream",
          "name": "stdout",
          "text": [
            "\n",
            "Sample 900/2427\n",
            "Average Total Loss: 4.4510\n",
            "Average Label Loss: 4.0341\n",
            "Average Domain Loss: 0.4167\n",
            "Average Distance Loss: 0.0026\n"
          ]
        },
        {
          "output_type": "stream",
          "name": "stderr",
          "text": [
            "Epoch 5/10:  41%|████      | 1001/2427 [01:40<02:19, 10.26sample/s, Total Loss=5.4433, Label Loss=4.5503, Domain Loss=0.8930, Distance Loss=0.0001]"
          ]
        },
        {
          "output_type": "stream",
          "name": "stdout",
          "text": [
            "\n",
            "Sample 1000/2427\n",
            "Average Total Loss: 4.4590\n",
            "Average Label Loss: 4.0439\n",
            "Average Domain Loss: 0.4148\n",
            "Average Distance Loss: 0.0027\n"
          ]
        },
        {
          "output_type": "stream",
          "name": "stderr",
          "text": [
            "Epoch 5/10:  45%|████▌     | 1101/2427 [01:49<02:09, 10.24sample/s, Total Loss=4.4701, Label Loss=4.2869, Domain Loss=0.1830, Distance Loss=0.0017]"
          ]
        },
        {
          "output_type": "stream",
          "name": "stdout",
          "text": [
            "\n",
            "Sample 1100/2427\n",
            "Average Total Loss: 4.4627\n",
            "Average Label Loss: 4.0516\n",
            "Average Domain Loss: 0.4109\n",
            "Average Distance Loss: 0.0026\n"
          ]
        },
        {
          "output_type": "stream",
          "name": "stderr",
          "text": [
            "Epoch 5/10:  49%|████▉     | 1201/2427 [01:59<01:59, 10.26sample/s, Total Loss=3.7227, Label Loss=3.4262, Domain Loss=0.2962, Distance Loss=0.0020]"
          ]
        },
        {
          "output_type": "stream",
          "name": "stdout",
          "text": [
            "\n",
            "Sample 1200/2427\n",
            "Average Total Loss: 4.4521\n",
            "Average Label Loss: 4.0441\n",
            "Average Domain Loss: 0.4078\n",
            "Average Distance Loss: 0.0026\n"
          ]
        },
        {
          "output_type": "stream",
          "name": "stderr",
          "text": [
            "Epoch 5/10:  54%|█████▎    | 1301/2427 [02:09<01:49, 10.32sample/s, Total Loss=4.6560, Label Loss=4.3253, Domain Loss=0.3304, Distance Loss=0.0029]"
          ]
        },
        {
          "output_type": "stream",
          "name": "stdout",
          "text": [
            "\n",
            "Sample 1300/2427\n",
            "Average Total Loss: 4.4487\n",
            "Average Label Loss: 4.0441\n",
            "Average Domain Loss: 0.4043\n",
            "Average Distance Loss: 0.0026\n"
          ]
        },
        {
          "output_type": "stream",
          "name": "stderr",
          "text": [
            "Epoch 5/10:  58%|█████▊    | 1401/2427 [02:18<01:39, 10.32sample/s, Total Loss=4.3582, Label Loss=3.8768, Domain Loss=0.4814, Distance Loss=0.0008]"
          ]
        },
        {
          "output_type": "stream",
          "name": "stdout",
          "text": [
            "\n",
            "Sample 1400/2427\n",
            "Average Total Loss: 4.4477\n",
            "Average Label Loss: 4.0463\n",
            "Average Domain Loss: 0.4011\n",
            "Average Distance Loss: 0.0027\n"
          ]
        },
        {
          "output_type": "stream",
          "name": "stderr",
          "text": [
            "Epoch 5/10:  62%|██████▏   | 1502/2427 [02:28<01:29, 10.29sample/s, Total Loss=5.2520, Label Loss=4.8616, Domain Loss=0.3903, Distance Loss=0.0005]"
          ]
        },
        {
          "output_type": "stream",
          "name": "stdout",
          "text": [
            "\n",
            "Sample 1500/2427\n",
            "Average Total Loss: 4.4464\n",
            "Average Label Loss: 4.0421\n",
            "Average Domain Loss: 0.4040\n",
            "Average Distance Loss: 0.0027\n"
          ]
        },
        {
          "output_type": "stream",
          "name": "stderr",
          "text": [
            "Epoch 5/10:  66%|██████▌   | 1602/2427 [02:38<01:21, 10.08sample/s, Total Loss=5.0284, Label Loss=4.8504, Domain Loss=0.1777, Distance Loss=0.0025]"
          ]
        },
        {
          "output_type": "stream",
          "name": "stdout",
          "text": [
            "\n",
            "Sample 1600/2427\n",
            "Average Total Loss: 4.4420\n",
            "Average Label Loss: 4.0408\n",
            "Average Domain Loss: 0.4010\n",
            "Average Distance Loss: 0.0027\n"
          ]
        },
        {
          "output_type": "stream",
          "name": "stderr",
          "text": [
            "Epoch 5/10:  70%|███████   | 1701/2427 [02:47<01:10, 10.30sample/s, Total Loss=4.1185, Label Loss=3.9501, Domain Loss=0.1683, Distance Loss=0.0019]"
          ]
        },
        {
          "output_type": "stream",
          "name": "stdout",
          "text": [
            "\n",
            "Sample 1700/2427\n",
            "Average Total Loss: 4.4445\n",
            "Average Label Loss: 4.0443\n",
            "Average Domain Loss: 0.3999\n",
            "Average Distance Loss: 0.0027\n"
          ]
        },
        {
          "output_type": "stream",
          "name": "stderr",
          "text": [
            "Epoch 5/10:  74%|███████▍  | 1802/2427 [02:57<01:01, 10.24sample/s, Total Loss=4.0434, Label Loss=3.7380, Domain Loss=0.3052, Distance Loss=0.0012]"
          ]
        },
        {
          "output_type": "stream",
          "name": "stdout",
          "text": [
            "\n",
            "Sample 1800/2427\n",
            "Average Total Loss: 4.4422\n",
            "Average Label Loss: 4.0427\n",
            "Average Domain Loss: 0.3992\n",
            "Average Distance Loss: 0.0027\n"
          ]
        },
        {
          "output_type": "stream",
          "name": "stderr",
          "text": [
            "Epoch 5/10:  78%|███████▊  | 1902/2427 [03:07<00:51, 10.22sample/s, Total Loss=5.2227, Label Loss=5.0632, Domain Loss=0.1592, Distance Loss=0.0028]"
          ]
        },
        {
          "output_type": "stream",
          "name": "stdout",
          "text": [
            "\n",
            "Sample 1900/2427\n",
            "Average Total Loss: 4.4485\n",
            "Average Label Loss: 4.0484\n",
            "Average Domain Loss: 0.3999\n",
            "Average Distance Loss: 0.0027\n"
          ]
        },
        {
          "output_type": "stream",
          "name": "stderr",
          "text": [
            "Epoch 5/10:  82%|████████▏ | 2001/2427 [03:17<00:42, 10.14sample/s, Total Loss=4.2816, Label Loss=4.2069, Domain Loss=0.0743, Distance Loss=0.0046]"
          ]
        },
        {
          "output_type": "stream",
          "name": "stdout",
          "text": [
            "\n",
            "Sample 2000/2427\n",
            "Average Total Loss: 4.4475\n",
            "Average Label Loss: 4.0494\n",
            "Average Domain Loss: 0.3979\n",
            "Average Distance Loss: 0.0027\n"
          ]
        },
        {
          "output_type": "stream",
          "name": "stderr",
          "text": [
            "Epoch 5/10:  87%|████████▋ | 2101/2427 [03:26<00:32, 10.03sample/s, Total Loss=3.8827, Label Loss=3.6420, Domain Loss=0.2406, Distance Loss=0.0008]"
          ]
        },
        {
          "output_type": "stream",
          "name": "stdout",
          "text": [
            "\n",
            "Sample 2100/2427\n",
            "Average Total Loss: 4.4535\n",
            "Average Label Loss: 4.0558\n",
            "Average Domain Loss: 0.3974\n",
            "Average Distance Loss: 0.0026\n"
          ]
        },
        {
          "output_type": "stream",
          "name": "stderr",
          "text": [
            "Epoch 5/10:  91%|█████████ | 2201/2427 [03:36<00:21, 10.39sample/s, Total Loss=4.6569, Label Loss=4.0472, Domain Loss=0.6097, Distance Loss=0.0003]"
          ]
        },
        {
          "output_type": "stream",
          "name": "stdout",
          "text": [
            "\n",
            "Sample 2200/2427\n",
            "Average Total Loss: 4.4497\n",
            "Average Label Loss: 4.0526\n",
            "Average Domain Loss: 0.3969\n",
            "Average Distance Loss: 0.0026\n"
          ]
        },
        {
          "output_type": "stream",
          "name": "stderr",
          "text": [
            "Epoch 5/10:  95%|█████████▍| 2301/2427 [03:46<00:12, 10.24sample/s, Total Loss=4.1289, Label Loss=3.3640, Domain Loss=0.7648, Distance Loss=0.0010]"
          ]
        },
        {
          "output_type": "stream",
          "name": "stdout",
          "text": [
            "\n",
            "Sample 2300/2427\n",
            "Average Total Loss: 4.4470\n",
            "Average Label Loss: 4.0518\n",
            "Average Domain Loss: 0.3949\n",
            "Average Distance Loss: 0.0026\n"
          ]
        },
        {
          "output_type": "stream",
          "name": "stderr",
          "text": [
            "Epoch 5/10:  99%|█████████▉| 2401/2427 [03:56<00:02, 10.37sample/s, Total Loss=4.7556, Label Loss=4.7073, Domain Loss=0.0477, Distance Loss=0.0051]"
          ]
        },
        {
          "output_type": "stream",
          "name": "stdout",
          "text": [
            "\n",
            "Sample 2400/2427\n",
            "Average Total Loss: 4.4447\n",
            "Average Label Loss: 4.0524\n",
            "Average Domain Loss: 0.3921\n",
            "Average Distance Loss: 0.0026\n"
          ]
        },
        {
          "output_type": "stream",
          "name": "stderr",
          "text": [
            "Epoch 5/10: 100%|██████████| 2427/2427 [03:59<00:00, 10.15sample/s, Total Loss=4.4375, Label Loss=4.1200, Domain Loss=0.3174, Distance Loss=0.0005]\n"
          ]
        },
        {
          "output_type": "stream",
          "name": "stdout",
          "text": [
            "\n",
            "Epoch 5 completed.\n",
            "Average Total Loss: 4.4449\n",
            "Average Label Loss: 4.0524\n",
            "Average Domain Loss: 0.3923\n",
            "Average Distance Loss: 0.0026\n",
            "\n",
            "Epoch 6/10\n"
          ]
        },
        {
          "output_type": "stream",
          "name": "stderr",
          "text": [
            "Epoch 6/10:   4%|▍         | 101/2427 [00:11<03:47, 10.24sample/s, Total Loss=3.5311, Label Loss=3.4704, Domain Loss=0.0603, Distance Loss=0.0042]"
          ]
        },
        {
          "output_type": "stream",
          "name": "stdout",
          "text": [
            "\n",
            "Sample 100/2427\n",
            "Average Total Loss: 4.5097\n",
            "Average Label Loss: 4.0985\n",
            "Average Domain Loss: 0.4110\n",
            "Average Distance Loss: 0.0019\n"
          ]
        },
        {
          "output_type": "stream",
          "name": "stderr",
          "text": [
            "Epoch 6/10:   8%|▊         | 201/2427 [00:21<03:36, 10.30sample/s, Total Loss=3.4009, Label Loss=3.3449, Domain Loss=0.0555, Distance Loss=0.0048]"
          ]
        },
        {
          "output_type": "stream",
          "name": "stdout",
          "text": [
            "\n",
            "Sample 200/2427\n",
            "Average Total Loss: 4.4375\n",
            "Average Label Loss: 4.0431\n",
            "Average Domain Loss: 0.3942\n",
            "Average Distance Loss: 0.0020\n"
          ]
        },
        {
          "output_type": "stream",
          "name": "stderr",
          "text": [
            "Epoch 6/10:  12%|█▏        | 301/2427 [00:31<03:26, 10.29sample/s, Total Loss=5.4240, Label Loss=4.1675, Domain Loss=1.2565, Distance Loss=0.0000]"
          ]
        },
        {
          "output_type": "stream",
          "name": "stdout",
          "text": [
            "\n",
            "Sample 300/2427\n",
            "Average Total Loss: 4.3899\n",
            "Average Label Loss: 4.0372\n",
            "Average Domain Loss: 0.3525\n",
            "Average Distance Loss: 0.0024\n"
          ]
        },
        {
          "output_type": "stream",
          "name": "stderr",
          "text": [
            "Epoch 6/10:  17%|█▋        | 401/2427 [00:40<03:22,  9.98sample/s, Total Loss=3.0972, Label Loss=3.0587, Domain Loss=0.0377, Distance Loss=0.0074]"
          ]
        },
        {
          "output_type": "stream",
          "name": "stdout",
          "text": [
            "\n",
            "Sample 400/2427\n",
            "Average Total Loss: 4.3733\n",
            "Average Label Loss: 4.0202\n",
            "Average Domain Loss: 0.3529\n",
            "Average Distance Loss: 0.0027\n"
          ]
        },
        {
          "output_type": "stream",
          "name": "stderr",
          "text": [
            "Epoch 6/10:  21%|██        | 502/2427 [00:50<03:05, 10.36sample/s, Total Loss=5.4233, Label Loss=4.7323, Domain Loss=0.6909, Distance Loss=0.0008]"
          ]
        },
        {
          "output_type": "stream",
          "name": "stdout",
          "text": [
            "\n",
            "Sample 500/2427\n",
            "Average Total Loss: 4.3720\n",
            "Average Label Loss: 4.0182\n",
            "Average Domain Loss: 0.3535\n",
            "Average Distance Loss: 0.0028\n"
          ]
        },
        {
          "output_type": "stream",
          "name": "stderr",
          "text": [
            "Epoch 6/10:  25%|██▍       | 602/2427 [01:01<02:56, 10.36sample/s, Total Loss=3.4570, Label Loss=3.2772, Domain Loss=0.1797, Distance Loss=0.0019]"
          ]
        },
        {
          "output_type": "stream",
          "name": "stdout",
          "text": [
            "\n",
            "Sample 600/2427\n",
            "Average Total Loss: 4.3754\n",
            "Average Label Loss: 4.0172\n",
            "Average Domain Loss: 0.3579\n",
            "Average Distance Loss: 0.0029\n"
          ]
        },
        {
          "output_type": "stream",
          "name": "stderr",
          "text": [
            "Epoch 6/10:  29%|██▉       | 702/2427 [01:11<02:46, 10.34sample/s, Total Loss=3.7901, Label Loss=3.4956, Domain Loss=0.2944, Distance Loss=0.0013]"
          ]
        },
        {
          "output_type": "stream",
          "name": "stdout",
          "text": [
            "\n",
            "Sample 700/2427\n",
            "Average Total Loss: 4.3959\n",
            "Average Label Loss: 4.0337\n",
            "Average Domain Loss: 0.3619\n",
            "Average Distance Loss: 0.0028\n"
          ]
        },
        {
          "output_type": "stream",
          "name": "stderr",
          "text": [
            "Epoch 6/10:  33%|███▎      | 802/2427 [01:20<02:39, 10.18sample/s, Total Loss=3.3712, Label Loss=3.0521, Domain Loss=0.3187, Distance Loss=0.0038]"
          ]
        },
        {
          "output_type": "stream",
          "name": "stdout",
          "text": [
            "\n",
            "Sample 800/2427\n",
            "Average Total Loss: 4.3771\n",
            "Average Label Loss: 4.0237\n",
            "Average Domain Loss: 0.3530\n",
            "Average Distance Loss: 0.0029\n"
          ]
        },
        {
          "output_type": "stream",
          "name": "stderr",
          "text": [
            "Epoch 6/10:  37%|███▋      | 902/2427 [01:30<02:30, 10.16sample/s, Total Loss=3.1171, Label Loss=3.0758, Domain Loss=0.0406, Distance Loss=0.0065]"
          ]
        },
        {
          "output_type": "stream",
          "name": "stdout",
          "text": [
            "\n",
            "Sample 900/2427\n",
            "Average Total Loss: 4.3784\n",
            "Average Label Loss: 4.0311\n",
            "Average Domain Loss: 0.3470\n",
            "Average Distance Loss: 0.0029\n"
          ]
        },
        {
          "output_type": "stream",
          "name": "stderr",
          "text": [
            "Epoch 6/10:  41%|████      | 1001/2427 [01:40<02:21, 10.09sample/s, Total Loss=3.6541, Label Loss=3.3152, Domain Loss=0.3387, Distance Loss=0.0027]"
          ]
        },
        {
          "output_type": "stream",
          "name": "stdout",
          "text": [
            "\n",
            "Sample 1000/2427\n",
            "Average Total Loss: 4.3721\n",
            "Average Label Loss: 4.0306\n",
            "Average Domain Loss: 0.3413\n",
            "Average Distance Loss: 0.0030\n"
          ]
        },
        {
          "output_type": "stream",
          "name": "stderr",
          "text": [
            "Epoch 6/10:  45%|████▌     | 1101/2427 [01:50<02:08, 10.28sample/s, Total Loss=4.3293, Label Loss=4.2681, Domain Loss=0.0608, Distance Loss=0.0037]"
          ]
        },
        {
          "output_type": "stream",
          "name": "stdout",
          "text": [
            "\n",
            "Sample 1100/2427\n",
            "Average Total Loss: 4.3743\n",
            "Average Label Loss: 4.0357\n",
            "Average Domain Loss: 0.3383\n",
            "Average Distance Loss: 0.0030\n"
          ]
        },
        {
          "output_type": "stream",
          "name": "stderr",
          "text": [
            "Epoch 6/10:  49%|████▉     | 1201/2427 [01:59<02:01, 10.11sample/s, Total Loss=4.2015, Label Loss=4.0951, Domain Loss=0.1060, Distance Loss=0.0039]"
          ]
        },
        {
          "output_type": "stream",
          "name": "stdout",
          "text": [
            "\n",
            "Sample 1200/2427\n",
            "Average Total Loss: 4.3754\n",
            "Average Label Loss: 4.0332\n",
            "Average Domain Loss: 0.3418\n",
            "Average Distance Loss: 0.0030\n"
          ]
        },
        {
          "output_type": "stream",
          "name": "stderr",
          "text": [
            "Epoch 6/10:  54%|█████▎    | 1301/2427 [02:09<01:51, 10.12sample/s, Total Loss=4.0696, Label Loss=3.9616, Domain Loss=0.1077, Distance Loss=0.0038]"
          ]
        },
        {
          "output_type": "stream",
          "name": "stdout",
          "text": [
            "\n",
            "Sample 1300/2427\n",
            "Average Total Loss: 4.3782\n",
            "Average Label Loss: 4.0333\n",
            "Average Domain Loss: 0.3446\n",
            "Average Distance Loss: 0.0030\n"
          ]
        },
        {
          "output_type": "stream",
          "name": "stderr",
          "text": [
            "Epoch 6/10:  58%|█████▊    | 1401/2427 [02:19<01:45,  9.75sample/s, Total Loss=4.9083, Label Loss=4.6251, Domain Loss=0.2831, Distance Loss=0.0011]"
          ]
        },
        {
          "output_type": "stream",
          "name": "stdout",
          "text": [
            "\n",
            "Sample 1400/2427\n",
            "Average Total Loss: 4.3841\n",
            "Average Label Loss: 4.0387\n",
            "Average Domain Loss: 0.3451\n",
            "Average Distance Loss: 0.0030\n"
          ]
        },
        {
          "output_type": "stream",
          "name": "stderr",
          "text": [
            "Epoch 6/10:  62%|██████▏   | 1502/2427 [02:29<01:32, 10.01sample/s, Total Loss=4.0179, Label Loss=3.4707, Domain Loss=0.5472, Distance Loss=0.0002]"
          ]
        },
        {
          "output_type": "stream",
          "name": "stdout",
          "text": [
            "\n",
            "Sample 1500/2427\n",
            "Average Total Loss: 4.3810\n",
            "Average Label Loss: 4.0347\n",
            "Average Domain Loss: 0.3460\n",
            "Average Distance Loss: 0.0030\n"
          ]
        },
        {
          "output_type": "stream",
          "name": "stderr",
          "text": [
            "Epoch 6/10:  66%|██████▌   | 1601/2427 [02:39<01:21, 10.14sample/s, Total Loss=5.1232, Label Loss=4.9821, Domain Loss=0.1408, Distance Loss=0.0026]"
          ]
        },
        {
          "output_type": "stream",
          "name": "stdout",
          "text": [
            "\n",
            "Sample 1600/2427\n",
            "Average Total Loss: 4.3852\n",
            "Average Label Loss: 4.0326\n",
            "Average Domain Loss: 0.3523\n",
            "Average Distance Loss: 0.0029\n"
          ]
        },
        {
          "output_type": "stream",
          "name": "stderr",
          "text": [
            "Epoch 6/10:  70%|███████   | 1701/2427 [02:49<01:11, 10.11sample/s, Total Loss=4.8984, Label Loss=4.6791, Domain Loss=0.2192, Distance Loss=0.0015]"
          ]
        },
        {
          "output_type": "stream",
          "name": "stdout",
          "text": [
            "\n",
            "Sample 1700/2427\n",
            "Average Total Loss: 4.3908\n",
            "Average Label Loss: 4.0356\n",
            "Average Domain Loss: 0.3549\n",
            "Average Distance Loss: 0.0029\n"
          ]
        },
        {
          "output_type": "stream",
          "name": "stderr",
          "text": [
            "Epoch 6/10:  74%|███████▍  | 1801/2427 [02:59<01:02, 10.04sample/s, Total Loss=3.0798, Label Loss=3.0044, Domain Loss=0.0748, Distance Loss=0.0059]"
          ]
        },
        {
          "output_type": "stream",
          "name": "stdout",
          "text": [
            "\n",
            "Sample 1800/2427\n",
            "Average Total Loss: 4.3888\n",
            "Average Label Loss: 4.0366\n",
            "Average Domain Loss: 0.3520\n",
            "Average Distance Loss: 0.0029\n"
          ]
        },
        {
          "output_type": "stream",
          "name": "stderr",
          "text": [
            "Epoch 6/10:  78%|███████▊  | 1901/2427 [03:09<00:53,  9.75sample/s, Total Loss=3.8640, Label Loss=3.8112, Domain Loss=0.0522, Distance Loss=0.0058]"
          ]
        },
        {
          "output_type": "stream",
          "name": "stdout",
          "text": [
            "\n",
            "Sample 1900/2427\n",
            "Average Total Loss: 4.3918\n",
            "Average Label Loss: 4.0375\n",
            "Average Domain Loss: 0.3540\n",
            "Average Distance Loss: 0.0029\n"
          ]
        },
        {
          "output_type": "stream",
          "name": "stderr",
          "text": [
            "Epoch 6/10:  82%|████████▏ | 2001/2427 [03:19<00:41, 10.19sample/s, Total Loss=5.0021, Label Loss=4.9036, Domain Loss=0.0982, Distance Loss=0.0026]"
          ]
        },
        {
          "output_type": "stream",
          "name": "stdout",
          "text": [
            "\n",
            "Sample 2000/2427\n",
            "Average Total Loss: 4.3906\n",
            "Average Label Loss: 4.0398\n",
            "Average Domain Loss: 0.3505\n",
            "Average Distance Loss: 0.0029\n"
          ]
        },
        {
          "output_type": "stream",
          "name": "stderr",
          "text": [
            "Epoch 6/10:  87%|████████▋ | 2101/2427 [03:29<00:32, 10.17sample/s, Total Loss=3.7136, Label Loss=3.5907, Domain Loss=0.1227, Distance Loss=0.0017]"
          ]
        },
        {
          "output_type": "stream",
          "name": "stdout",
          "text": [
            "\n",
            "Sample 2100/2427\n",
            "Average Total Loss: 4.3902\n",
            "Average Label Loss: 4.0422\n",
            "Average Domain Loss: 0.3477\n",
            "Average Distance Loss: 0.0029\n"
          ]
        },
        {
          "output_type": "stream",
          "name": "stderr",
          "text": [
            "Epoch 6/10:  91%|█████████ | 2201/2427 [03:39<00:22, 10.14sample/s, Total Loss=3.8694, Label Loss=3.7093, Domain Loss=0.1596, Distance Loss=0.0055]"
          ]
        },
        {
          "output_type": "stream",
          "name": "stdout",
          "text": [
            "\n",
            "Sample 2200/2427\n",
            "Average Total Loss: 4.3888\n",
            "Average Label Loss: 4.0404\n",
            "Average Domain Loss: 0.3481\n",
            "Average Distance Loss: 0.0029\n"
          ]
        },
        {
          "output_type": "stream",
          "name": "stderr",
          "text": [
            "Epoch 6/10:  95%|█████████▍| 2300/2427 [03:48<00:12, 10.17sample/s, Total Loss=4.3907, Label Loss=4.0031, Domain Loss=0.3876, Distance Loss=0.0004]"
          ]
        },
        {
          "output_type": "stream",
          "name": "stdout",
          "text": [
            "\n",
            "Sample 2300/2427\n",
            "Average Total Loss: 4.3963\n",
            "Average Label Loss: 4.0453\n",
            "Average Domain Loss: 0.3506\n",
            "Average Distance Loss: 0.0028\n"
          ]
        },
        {
          "output_type": "stream",
          "name": "stderr",
          "text": [
            "Epoch 6/10:  99%|█████████▉| 2401/2427 [03:58<00:02,  9.79sample/s, Total Loss=5.6352, Label Loss=4.1146, Domain Loss=1.5206, Distance Loss=0.0000]"
          ]
        },
        {
          "output_type": "stream",
          "name": "stdout",
          "text": [
            "\n",
            "Sample 2400/2427\n",
            "Average Total Loss: 4.3952\n",
            "Average Label Loss: 4.0457\n",
            "Average Domain Loss: 0.3492\n",
            "Average Distance Loss: 0.0028\n"
          ]
        },
        {
          "output_type": "stream",
          "name": "stderr",
          "text": [
            "Epoch 6/10: 100%|██████████| 2427/2427 [04:01<00:00, 10.06sample/s, Total Loss=3.3781, Label Loss=3.3271, Domain Loss=0.0504, Distance Loss=0.0054]\n"
          ]
        },
        {
          "output_type": "stream",
          "name": "stdout",
          "text": [
            "\n",
            "Epoch 6 completed.\n",
            "Average Total Loss: 4.3979\n",
            "Average Label Loss: 4.0455\n",
            "Average Domain Loss: 0.3521\n",
            "Average Distance Loss: 0.0028\n",
            "\n",
            "Epoch 7/10\n"
          ]
        },
        {
          "output_type": "stream",
          "name": "stderr",
          "text": [
            "Epoch 7/10:   4%|▍         | 101/2427 [00:11<04:39,  8.31sample/s, Total Loss=4.3524, Label Loss=4.2988, Domain Loss=0.0531, Distance Loss=0.0041]"
          ]
        },
        {
          "output_type": "stream",
          "name": "stdout",
          "text": [
            "\n",
            "Sample 100/2427\n",
            "Average Total Loss: 4.3080\n",
            "Average Label Loss: 4.0128\n",
            "Average Domain Loss: 0.2949\n",
            "Average Distance Loss: 0.0023\n"
          ]
        },
        {
          "output_type": "stream",
          "name": "stderr",
          "text": [
            "Epoch 7/10:   8%|▊         | 201/2427 [00:21<03:48,  9.74sample/s, Total Loss=5.2984, Label Loss=4.8271, Domain Loss=0.4712, Distance Loss=0.0009]"
          ]
        },
        {
          "output_type": "stream",
          "name": "stdout",
          "text": [
            "\n",
            "Sample 200/2427\n",
            "Average Total Loss: 4.2719\n",
            "Average Label Loss: 3.9807\n",
            "Average Domain Loss: 0.2909\n",
            "Average Distance Loss: 0.0030\n"
          ]
        },
        {
          "output_type": "stream",
          "name": "stderr",
          "text": [
            "Epoch 7/10:  12%|█▏        | 301/2427 [00:31<03:32,  9.99sample/s, Total Loss=4.9954, Label Loss=4.7487, Domain Loss=0.2466, Distance Loss=0.0009]"
          ]
        },
        {
          "output_type": "stream",
          "name": "stdout",
          "text": [
            "\n",
            "Sample 300/2427\n",
            "Average Total Loss: 4.3401\n",
            "Average Label Loss: 4.0163\n",
            "Average Domain Loss: 0.3235\n",
            "Average Distance Loss: 0.0028\n"
          ]
        },
        {
          "output_type": "stream",
          "name": "stderr",
          "text": [
            "Epoch 7/10:  17%|█▋        | 402/2427 [00:41<03:19, 10.16sample/s, Total Loss=4.5373, Label Loss=3.8001, Domain Loss=0.7371, Distance Loss=0.0002]"
          ]
        },
        {
          "output_type": "stream",
          "name": "stdout",
          "text": [
            "\n",
            "Sample 400/2427\n",
            "Average Total Loss: 4.3538\n",
            "Average Label Loss: 4.0291\n",
            "Average Domain Loss: 0.3244\n",
            "Average Distance Loss: 0.0028\n"
          ]
        },
        {
          "output_type": "stream",
          "name": "stderr",
          "text": [
            "Epoch 7/10:  21%|██        | 502/2427 [00:51<03:07, 10.26sample/s, Total Loss=3.6192, Label Loss=3.5175, Domain Loss=0.1015, Distance Loss=0.0026]"
          ]
        },
        {
          "output_type": "stream",
          "name": "stdout",
          "text": [
            "\n",
            "Sample 500/2427\n",
            "Average Total Loss: 4.3610\n",
            "Average Label Loss: 4.0302\n",
            "Average Domain Loss: 0.3305\n",
            "Average Distance Loss: 0.0028\n"
          ]
        },
        {
          "output_type": "stream",
          "name": "stderr",
          "text": [
            "Epoch 7/10:  25%|██▍       | 602/2427 [01:01<02:59, 10.15sample/s, Total Loss=5.1634, Label Loss=3.8981, Domain Loss=1.2653, Distance Loss=0.0004]"
          ]
        },
        {
          "output_type": "stream",
          "name": "stdout",
          "text": [
            "\n",
            "Sample 600/2427\n",
            "Average Total Loss: 4.3616\n",
            "Average Label Loss: 4.0373\n",
            "Average Domain Loss: 0.3240\n",
            "Average Distance Loss: 0.0028\n"
          ]
        },
        {
          "output_type": "stream",
          "name": "stderr",
          "text": [
            "Epoch 7/10:  29%|██▉       | 701/2427 [01:10<02:58,  9.68sample/s, Total Loss=4.2318, Label Loss=4.1882, Domain Loss=0.0429, Distance Loss=0.0063]"
          ]
        },
        {
          "output_type": "stream",
          "name": "stdout",
          "text": [
            "\n",
            "Sample 700/2427\n",
            "Average Total Loss: 4.3598\n",
            "Average Label Loss: 4.0357\n",
            "Average Domain Loss: 0.3238\n",
            "Average Distance Loss: 0.0028\n"
          ]
        },
        {
          "output_type": "stream",
          "name": "stderr",
          "text": [
            "Epoch 7/10:  33%|███▎      | 801/2427 [01:20<02:39, 10.22sample/s, Total Loss=4.5389, Label Loss=4.3919, Domain Loss=0.1468, Distance Loss=0.0017]"
          ]
        },
        {
          "output_type": "stream",
          "name": "stdout",
          "text": [
            "\n",
            "Sample 800/2427\n",
            "Average Total Loss: 4.3618\n",
            "Average Label Loss: 4.0372\n",
            "Average Domain Loss: 0.3243\n",
            "Average Distance Loss: 0.0028\n"
          ]
        },
        {
          "output_type": "stream",
          "name": "stderr",
          "text": [
            "Epoch 7/10:  37%|███▋      | 902/2427 [01:30<02:29, 10.18sample/s, Total Loss=3.3368, Label Loss=3.2842, Domain Loss=0.0521, Distance Loss=0.0055]"
          ]
        },
        {
          "output_type": "stream",
          "name": "stdout",
          "text": [
            "\n",
            "Sample 900/2427\n",
            "Average Total Loss: 4.3704\n",
            "Average Label Loss: 4.0398\n",
            "Average Domain Loss: 0.3303\n",
            "Average Distance Loss: 0.0029\n"
          ]
        },
        {
          "output_type": "stream",
          "name": "stderr",
          "text": [
            "Epoch 7/10:  41%|████▏     | 1002/2427 [01:40<02:22, 10.03sample/s, Total Loss=4.6890, Label Loss=4.0788, Domain Loss=0.6102, Distance Loss=0.0001]"
          ]
        },
        {
          "output_type": "stream",
          "name": "stdout",
          "text": [
            "\n",
            "Sample 1000/2427\n",
            "Average Total Loss: 4.3772\n",
            "Average Label Loss: 4.0417\n",
            "Average Domain Loss: 0.3352\n",
            "Average Distance Loss: 0.0029\n"
          ]
        },
        {
          "output_type": "stream",
          "name": "stderr",
          "text": [
            "Epoch 7/10:  45%|████▌     | 1101/2427 [01:50<02:09, 10.28sample/s, Total Loss=3.5599, Label Loss=3.4675, Domain Loss=0.0920, Distance Loss=0.0034]"
          ]
        },
        {
          "output_type": "stream",
          "name": "stdout",
          "text": [
            "\n",
            "Sample 1100/2427\n",
            "Average Total Loss: 4.3819\n",
            "Average Label Loss: 4.0409\n",
            "Average Domain Loss: 0.3406\n",
            "Average Distance Loss: 0.0028\n"
          ]
        },
        {
          "output_type": "stream",
          "name": "stderr",
          "text": [
            "Epoch 7/10:  49%|████▉     | 1201/2427 [02:00<02:04,  9.84sample/s, Total Loss=4.4219, Label Loss=4.3382, Domain Loss=0.0834, Distance Loss=0.0030]"
          ]
        },
        {
          "output_type": "stream",
          "name": "stdout",
          "text": [
            "\n",
            "Sample 1200/2427\n",
            "Average Total Loss: 4.3774\n",
            "Average Label Loss: 4.0422\n",
            "Average Domain Loss: 0.3349\n",
            "Average Distance Loss: 0.0029\n"
          ]
        },
        {
          "output_type": "stream",
          "name": "stderr",
          "text": [
            "Epoch 7/10:  54%|█████▎    | 1301/2427 [02:09<01:51, 10.13sample/s, Total Loss=5.0213, Label Loss=4.9295, Domain Loss=0.0915, Distance Loss=0.0028]"
          ]
        },
        {
          "output_type": "stream",
          "name": "stdout",
          "text": [
            "\n",
            "Sample 1300/2427\n",
            "Average Total Loss: 4.3792\n",
            "Average Label Loss: 4.0447\n",
            "Average Domain Loss: 0.3342\n",
            "Average Distance Loss: 0.0028\n"
          ]
        },
        {
          "output_type": "stream",
          "name": "stderr",
          "text": [
            "Epoch 7/10:  58%|█████▊    | 1401/2427 [02:19<01:39, 10.28sample/s, Total Loss=4.9699, Label Loss=4.0739, Domain Loss=0.8960, Distance Loss=0.0001]"
          ]
        },
        {
          "output_type": "stream",
          "name": "stdout",
          "text": [
            "\n",
            "Sample 1400/2427\n",
            "Average Total Loss: 4.3820\n",
            "Average Label Loss: 4.0437\n",
            "Average Domain Loss: 0.3381\n",
            "Average Distance Loss: 0.0028\n"
          ]
        },
        {
          "output_type": "stream",
          "name": "stderr",
          "text": [
            "Epoch 7/10:  62%|██████▏   | 1500/2427 [02:29<01:30, 10.23sample/s, Total Loss=5.2997, Label Loss=4.1365, Domain Loss=1.1632, Distance Loss=0.0000]"
          ]
        },
        {
          "output_type": "stream",
          "name": "stdout",
          "text": [
            "\n",
            "Sample 1500/2427\n",
            "Average Total Loss: 4.3897\n",
            "Average Label Loss: 4.0449\n",
            "Average Domain Loss: 0.3445\n",
            "Average Distance Loss: 0.0027\n"
          ]
        },
        {
          "output_type": "stream",
          "name": "stderr",
          "text": [
            "Epoch 7/10:  66%|██████▌   | 1601/2427 [02:39<01:20, 10.22sample/s, Total Loss=3.5573, Label Loss=3.4565, Domain Loss=0.1005, Distance Loss=0.0032]"
          ]
        },
        {
          "output_type": "stream",
          "name": "stdout",
          "text": [
            "\n",
            "Sample 1600/2427\n",
            "Average Total Loss: 4.3835\n",
            "Average Label Loss: 4.0393\n",
            "Average Domain Loss: 0.3440\n",
            "Average Distance Loss: 0.0028\n"
          ]
        },
        {
          "output_type": "stream",
          "name": "stderr",
          "text": [
            "Epoch 7/10:  70%|███████   | 1701/2427 [02:49<01:12, 10.03sample/s, Total Loss=3.5144, Label Loss=3.4496, Domain Loss=0.0642, Distance Loss=0.0053]"
          ]
        },
        {
          "output_type": "stream",
          "name": "stdout",
          "text": [
            "\n",
            "Sample 1700/2427\n",
            "Average Total Loss: 4.3802\n",
            "Average Label Loss: 4.0374\n",
            "Average Domain Loss: 0.3426\n",
            "Average Distance Loss: 0.0028\n"
          ]
        },
        {
          "output_type": "stream",
          "name": "stderr",
          "text": [
            "Epoch 7/10:  74%|███████▍  | 1801/2427 [02:58<01:01, 10.23sample/s, Total Loss=4.1321, Label Loss=4.0720, Domain Loss=0.0596, Distance Loss=0.0052]"
          ]
        },
        {
          "output_type": "stream",
          "name": "stdout",
          "text": [
            "\n",
            "Sample 1800/2427\n",
            "Average Total Loss: 4.3798\n",
            "Average Label Loss: 4.0372\n",
            "Average Domain Loss: 0.3423\n",
            "Average Distance Loss: 0.0028\n"
          ]
        },
        {
          "output_type": "stream",
          "name": "stderr",
          "text": [
            "Epoch 7/10:  78%|███████▊  | 1902/2427 [03:09<00:53,  9.73sample/s, Total Loss=3.0318, Label Loss=2.9941, Domain Loss=0.0367, Distance Loss=0.0100]"
          ]
        },
        {
          "output_type": "stream",
          "name": "stdout",
          "text": [
            "\n",
            "Sample 1900/2427\n",
            "Average Total Loss: 4.3763\n",
            "Average Label Loss: 4.0355\n",
            "Average Domain Loss: 0.3405\n",
            "Average Distance Loss: 0.0029\n"
          ]
        },
        {
          "output_type": "stream",
          "name": "stderr",
          "text": [
            "Epoch 7/10:  82%|████████▏ | 2002/2427 [03:18<00:41, 10.19sample/s, Total Loss=4.1782, Label Loss=4.0218, Domain Loss=0.1562, Distance Loss=0.0015]"
          ]
        },
        {
          "output_type": "stream",
          "name": "stdout",
          "text": [
            "\n",
            "Sample 2000/2427\n",
            "Average Total Loss: 4.3830\n",
            "Average Label Loss: 4.0411\n",
            "Average Domain Loss: 0.3417\n",
            "Average Distance Loss: 0.0029\n"
          ]
        },
        {
          "output_type": "stream",
          "name": "stderr",
          "text": [
            "Epoch 7/10:  87%|████████▋ | 2101/2427 [03:28<00:32, 10.10sample/s, Total Loss=5.0738, Label Loss=4.9848, Domain Loss=0.0887, Distance Loss=0.0027]"
          ]
        },
        {
          "output_type": "stream",
          "name": "stdout",
          "text": [
            "\n",
            "Sample 2100/2427\n",
            "Average Total Loss: 4.3833\n",
            "Average Label Loss: 4.0424\n",
            "Average Domain Loss: 0.3406\n",
            "Average Distance Loss: 0.0028\n"
          ]
        },
        {
          "output_type": "stream",
          "name": "stderr",
          "text": [
            "Epoch 7/10:  91%|█████████ | 2202/2427 [03:38<00:22, 10.11sample/s, Total Loss=4.7750, Label Loss=4.7267, Domain Loss=0.0477, Distance Loss=0.0051]"
          ]
        },
        {
          "output_type": "stream",
          "name": "stdout",
          "text": [
            "\n",
            "Sample 2200/2427\n",
            "Average Total Loss: 4.3785\n",
            "Average Label Loss: 4.0409\n",
            "Average Domain Loss: 0.3374\n",
            "Average Distance Loss: 0.0029\n"
          ]
        },
        {
          "output_type": "stream",
          "name": "stderr",
          "text": [
            "Epoch 7/10:  95%|█████████▍| 2302/2427 [03:48<00:12, 10.14sample/s, Total Loss=3.3985, Label Loss=3.2299, Domain Loss=0.1674, Distance Loss=0.0116]"
          ]
        },
        {
          "output_type": "stream",
          "name": "stdout",
          "text": [
            "\n",
            "Sample 2300/2427\n",
            "Average Total Loss: 4.3772\n",
            "Average Label Loss: 4.0391\n",
            "Average Domain Loss: 0.3378\n",
            "Average Distance Loss: 0.0029\n"
          ]
        },
        {
          "output_type": "stream",
          "name": "stderr",
          "text": [
            "Epoch 7/10:  99%|█████████▉| 2402/2427 [03:58<00:02, 10.24sample/s, Total Loss=5.1943, Label Loss=5.1012, Domain Loss=0.0928, Distance Loss=0.0026]"
          ]
        },
        {
          "output_type": "stream",
          "name": "stdout",
          "text": [
            "\n",
            "Sample 2400/2427\n",
            "Average Total Loss: 4.3764\n",
            "Average Label Loss: 4.0407\n",
            "Average Domain Loss: 0.3354\n",
            "Average Distance Loss: 0.0029\n"
          ]
        },
        {
          "output_type": "stream",
          "name": "stderr",
          "text": [
            "Epoch 7/10: 100%|██████████| 2427/2427 [04:00<00:00, 10.09sample/s, Total Loss=4.0611, Label Loss=4.0026, Domain Loss=0.0581, Distance Loss=0.0038]\n"
          ]
        },
        {
          "output_type": "stream",
          "name": "stdout",
          "text": [
            "\n",
            "Epoch 7 completed.\n",
            "Average Total Loss: 4.3747\n",
            "Average Label Loss: 4.0405\n",
            "Average Domain Loss: 0.3339\n",
            "Average Distance Loss: 0.0029\n",
            "\n",
            "Epoch 8/10\n"
          ]
        },
        {
          "output_type": "stream",
          "name": "stderr",
          "text": [
            "Epoch 8/10:   4%|▍         | 101/2427 [00:10<03:46, 10.28sample/s, Total Loss=4.8809, Label Loss=4.8418, Domain Loss=0.0383, Distance Loss=0.0077]"
          ]
        },
        {
          "output_type": "stream",
          "name": "stdout",
          "text": [
            "\n",
            "Sample 100/2427\n",
            "Average Total Loss: 4.3811\n",
            "Average Label Loss: 4.0429\n",
            "Average Domain Loss: 0.3380\n",
            "Average Distance Loss: 0.0028\n"
          ]
        },
        {
          "output_type": "stream",
          "name": "stderr",
          "text": [
            "Epoch 8/10:   8%|▊         | 202/2427 [00:19<03:38, 10.18sample/s, Total Loss=4.1012, Label Loss=3.7859, Domain Loss=0.3152, Distance Loss=0.0008]"
          ]
        },
        {
          "output_type": "stream",
          "name": "stdout",
          "text": [
            "\n",
            "Sample 200/2427\n",
            "Average Total Loss: 4.3667\n",
            "Average Label Loss: 4.0259\n",
            "Average Domain Loss: 0.3405\n",
            "Average Distance Loss: 0.0029\n"
          ]
        },
        {
          "output_type": "stream",
          "name": "stderr",
          "text": [
            "Epoch 8/10:  12%|█▏        | 302/2427 [00:29<03:28, 10.17sample/s, Total Loss=4.9979, Label Loss=4.7115, Domain Loss=0.2863, Distance Loss=0.0011]"
          ]
        },
        {
          "output_type": "stream",
          "name": "stdout",
          "text": [
            "\n",
            "Sample 300/2427\n",
            "Average Total Loss: 4.3722\n",
            "Average Label Loss: 4.0273\n",
            "Average Domain Loss: 0.3446\n",
            "Average Distance Loss: 0.0029\n"
          ]
        },
        {
          "output_type": "stream",
          "name": "stderr",
          "text": [
            "Epoch 8/10:  17%|█▋        | 401/2427 [00:39<03:50,  8.79sample/s, Total Loss=4.7863, Label Loss=4.6201, Domain Loss=0.1658, Distance Loss=0.0032]"
          ]
        },
        {
          "output_type": "stream",
          "name": "stdout",
          "text": [
            "\n",
            "Sample 400/2427\n",
            "Average Total Loss: 4.3942\n",
            "Average Label Loss: 4.0475\n",
            "Average Domain Loss: 0.3464\n",
            "Average Distance Loss: 0.0029\n"
          ]
        },
        {
          "output_type": "stream",
          "name": "stderr",
          "text": [
            "Epoch 8/10:  21%|██        | 501/2427 [00:49<03:13,  9.94sample/s, Total Loss=3.9884, Label Loss=3.9200, Domain Loss=0.0680, Distance Loss=0.0037]"
          ]
        },
        {
          "output_type": "stream",
          "name": "stdout",
          "text": [
            "\n",
            "Sample 500/2427\n",
            "Average Total Loss: 4.3656\n",
            "Average Label Loss: 4.0305\n",
            "Average Domain Loss: 0.3348\n",
            "Average Distance Loss: 0.0029\n"
          ]
        },
        {
          "output_type": "stream",
          "name": "stderr",
          "text": [
            "Epoch 8/10:  25%|██▍       | 601/2427 [00:59<02:57, 10.29sample/s, Total Loss=4.2910, Label Loss=4.2524, Domain Loss=0.0377, Distance Loss=0.0095]"
          ]
        },
        {
          "output_type": "stream",
          "name": "stdout",
          "text": [
            "\n",
            "Sample 600/2427\n",
            "Average Total Loss: 4.3518\n",
            "Average Label Loss: 4.0293\n",
            "Average Domain Loss: 0.3221\n",
            "Average Distance Loss: 0.0032\n"
          ]
        },
        {
          "output_type": "stream",
          "name": "stderr",
          "text": [
            "Epoch 8/10:  29%|██▉       | 702/2427 [01:09<02:47, 10.29sample/s, Total Loss=4.1578, Label Loss=4.0909, Domain Loss=0.0662, Distance Loss=0.0071]"
          ]
        },
        {
          "output_type": "stream",
          "name": "stdout",
          "text": [
            "\n",
            "Sample 700/2427\n",
            "Average Total Loss: 4.3609\n",
            "Average Label Loss: 4.0332\n",
            "Average Domain Loss: 0.3273\n",
            "Average Distance Loss: 0.0032\n"
          ]
        },
        {
          "output_type": "stream",
          "name": "stderr",
          "text": [
            "Epoch 8/10:  33%|███▎      | 802/2427 [01:19<02:38, 10.24sample/s, Total Loss=4.6894, Label Loss=4.3044, Domain Loss=0.3849, Distance Loss=0.0003]"
          ]
        },
        {
          "output_type": "stream",
          "name": "stdout",
          "text": [
            "\n",
            "Sample 800/2427\n",
            "Average Total Loss: 4.3580\n",
            "Average Label Loss: 4.0338\n",
            "Average Domain Loss: 0.3239\n",
            "Average Distance Loss: 0.0031\n"
          ]
        },
        {
          "output_type": "stream",
          "name": "stderr",
          "text": [
            "Epoch 8/10:  37%|███▋      | 900/2427 [01:29<02:31, 10.08sample/s, Total Loss=3.1771, Label Loss=3.1370, Domain Loss=0.0394, Distance Loss=0.0065]"
          ]
        },
        {
          "output_type": "stream",
          "name": "stdout",
          "text": [
            "\n",
            "Sample 900/2427\n",
            "Average Total Loss: 4.3633\n",
            "Average Label Loss: 4.0396\n",
            "Average Domain Loss: 0.3233\n",
            "Average Distance Loss: 0.0031\n"
          ]
        },
        {
          "output_type": "stream",
          "name": "stderr",
          "text": [
            "Epoch 8/10:  41%|████      | 1001/2427 [01:39<02:24,  9.89sample/s, Total Loss=5.4701, Label Loss=4.0520, Domain Loss=1.4181, Distance Loss=0.0000]"
          ]
        },
        {
          "output_type": "stream",
          "name": "stdout",
          "text": [
            "\n",
            "Sample 1000/2427\n",
            "Average Total Loss: 4.3602\n",
            "Average Label Loss: 4.0381\n",
            "Average Domain Loss: 0.3218\n",
            "Average Distance Loss: 0.0031\n"
          ]
        },
        {
          "output_type": "stream",
          "name": "stderr",
          "text": [
            "Epoch 8/10:  45%|████▌     | 1102/2427 [01:49<02:09, 10.20sample/s, Total Loss=4.0756, Label Loss=3.8748, Domain Loss=0.2006, Distance Loss=0.0032]"
          ]
        },
        {
          "output_type": "stream",
          "name": "stdout",
          "text": [
            "\n",
            "Sample 1100/2427\n",
            "Average Total Loss: 4.3522\n",
            "Average Label Loss: 4.0314\n",
            "Average Domain Loss: 0.3205\n",
            "Average Distance Loss: 0.0031\n"
          ]
        },
        {
          "output_type": "stream",
          "name": "stderr",
          "text": [
            "Epoch 8/10:  49%|████▉     | 1201/2427 [01:59<01:58, 10.36sample/s, Total Loss=4.1322, Label Loss=4.0745, Domain Loss=0.0568, Distance Loss=0.0091]"
          ]
        },
        {
          "output_type": "stream",
          "name": "stdout",
          "text": [
            "\n",
            "Sample 1200/2427\n",
            "Average Total Loss: 4.3477\n",
            "Average Label Loss: 4.0262\n",
            "Average Domain Loss: 0.3213\n",
            "Average Distance Loss: 0.0032\n"
          ]
        },
        {
          "output_type": "stream",
          "name": "stderr",
          "text": [
            "Epoch 8/10:  54%|█████▎    | 1302/2427 [02:08<01:50, 10.19sample/s, Total Loss=3.3028, Label Loss=3.2651, Domain Loss=0.0369, Distance Loss=0.0081]"
          ]
        },
        {
          "output_type": "stream",
          "name": "stdout",
          "text": [
            "\n",
            "Sample 1300/2427\n",
            "Average Total Loss: 4.3389\n",
            "Average Label Loss: 4.0239\n",
            "Average Domain Loss: 0.3148\n",
            "Average Distance Loss: 0.0032\n"
          ]
        },
        {
          "output_type": "stream",
          "name": "stderr",
          "text": [
            "Epoch 8/10:  58%|█████▊    | 1401/2427 [02:18<01:40, 10.17sample/s, Total Loss=5.1205, Label Loss=4.2290, Domain Loss=0.8914, Distance Loss=0.0006]"
          ]
        },
        {
          "output_type": "stream",
          "name": "stdout",
          "text": [
            "\n",
            "Sample 1400/2427\n",
            "Average Total Loss: 4.3362\n",
            "Average Label Loss: 4.0250\n",
            "Average Domain Loss: 0.3109\n",
            "Average Distance Loss: 0.0033\n"
          ]
        },
        {
          "output_type": "stream",
          "name": "stderr",
          "text": [
            "Epoch 8/10:  62%|██████▏   | 1502/2427 [02:28<01:32, 10.05sample/s, Total Loss=3.9570, Label Loss=3.9126, Domain Loss=0.0436, Distance Loss=0.0081]"
          ]
        },
        {
          "output_type": "stream",
          "name": "stdout",
          "text": [
            "\n",
            "Sample 1500/2427\n",
            "Average Total Loss: 4.3478\n",
            "Average Label Loss: 4.0298\n",
            "Average Domain Loss: 0.3177\n",
            "Average Distance Loss: 0.0033\n"
          ]
        },
        {
          "output_type": "stream",
          "name": "stderr",
          "text": [
            "Epoch 8/10:  66%|██████▌   | 1602/2427 [02:38<01:20, 10.27sample/s, Total Loss=4.1098, Label Loss=4.0478, Domain Loss=0.0617, Distance Loss=0.0032]"
          ]
        },
        {
          "output_type": "stream",
          "name": "stdout",
          "text": [
            "\n",
            "Sample 1600/2427\n",
            "Average Total Loss: 4.3396\n",
            "Average Label Loss: 4.0279\n",
            "Average Domain Loss: 0.3114\n",
            "Average Distance Loss: 0.0033\n"
          ]
        },
        {
          "output_type": "stream",
          "name": "stderr",
          "text": [
            "Epoch 8/10:  70%|███████   | 1702/2427 [02:48<01:11, 10.09sample/s, Total Loss=3.2952, Label Loss=3.2470, Domain Loss=0.0478, Distance Loss=0.0040]"
          ]
        },
        {
          "output_type": "stream",
          "name": "stdout",
          "text": [
            "\n",
            "Sample 1700/2427\n",
            "Average Total Loss: 4.3395\n",
            "Average Label Loss: 4.0304\n",
            "Average Domain Loss: 0.3088\n",
            "Average Distance Loss: 0.0034\n"
          ]
        },
        {
          "output_type": "stream",
          "name": "stderr",
          "text": [
            "Epoch 8/10:  74%|███████▍  | 1800/2427 [02:58<01:01, 10.25sample/s, Total Loss=3.6022, Label Loss=3.5179, Domain Loss=0.0840, Distance Loss=0.0031]"
          ]
        },
        {
          "output_type": "stream",
          "name": "stdout",
          "text": [
            "\n",
            "Sample 1800/2427\n",
            "Average Total Loss: 4.3432\n",
            "Average Label Loss: 4.0325\n",
            "Average Domain Loss: 0.3103\n",
            "Average Distance Loss: 0.0034\n"
          ]
        },
        {
          "output_type": "stream",
          "name": "stderr",
          "text": [
            "Epoch 8/10:  78%|███████▊  | 1901/2427 [03:08<00:52, 10.05sample/s, Total Loss=5.3497, Label Loss=4.3710, Domain Loss=0.9787, Distance Loss=0.0000]"
          ]
        },
        {
          "output_type": "stream",
          "name": "stdout",
          "text": [
            "\n",
            "Sample 1900/2427\n",
            "Average Total Loss: 4.3408\n",
            "Average Label Loss: 4.0325\n",
            "Average Domain Loss: 0.3080\n",
            "Average Distance Loss: 0.0034\n"
          ]
        },
        {
          "output_type": "stream",
          "name": "stderr",
          "text": [
            "Epoch 8/10:  82%|████████▏ | 2001/2427 [03:17<00:42,  9.99sample/s, Total Loss=4.9419, Label Loss=4.4377, Domain Loss=0.5041, Distance Loss=0.0017]"
          ]
        },
        {
          "output_type": "stream",
          "name": "stdout",
          "text": [
            "\n",
            "Sample 2000/2427\n",
            "Average Total Loss: 4.3449\n",
            "Average Label Loss: 4.0353\n",
            "Average Domain Loss: 0.3093\n",
            "Average Distance Loss: 0.0034\n"
          ]
        },
        {
          "output_type": "stream",
          "name": "stderr",
          "text": [
            "Epoch 8/10:  87%|████████▋ | 2101/2427 [03:27<00:31, 10.21sample/s, Total Loss=3.7947, Label Loss=3.5703, Domain Loss=0.2243, Distance Loss=0.0014]"
          ]
        },
        {
          "output_type": "stream",
          "name": "stdout",
          "text": [
            "\n",
            "Sample 2100/2427\n",
            "Average Total Loss: 4.3483\n",
            "Average Label Loss: 4.0372\n",
            "Average Domain Loss: 0.3108\n",
            "Average Distance Loss: 0.0034\n"
          ]
        },
        {
          "output_type": "stream",
          "name": "stderr",
          "text": [
            "Epoch 8/10:  91%|█████████ | 2202/2427 [03:37<00:22, 10.17sample/s, Total Loss=3.9977, Label Loss=3.5541, Domain Loss=0.4435, Distance Loss=0.0004]"
          ]
        },
        {
          "output_type": "stream",
          "name": "stdout",
          "text": [
            "\n",
            "Sample 2200/2427\n",
            "Average Total Loss: 4.3520\n",
            "Average Label Loss: 4.0368\n",
            "Average Domain Loss: 0.3148\n",
            "Average Distance Loss: 0.0034\n"
          ]
        },
        {
          "output_type": "stream",
          "name": "stderr",
          "text": [
            "Epoch 8/10:  95%|█████████▍| 2301/2427 [03:47<00:12, 10.21sample/s, Total Loss=5.1372, Label Loss=4.5761, Domain Loss=0.5611, Distance Loss=0.0001]"
          ]
        },
        {
          "output_type": "stream",
          "name": "stdout",
          "text": [
            "\n",
            "Sample 2300/2427\n",
            "Average Total Loss: 4.3466\n",
            "Average Label Loss: 4.0332\n",
            "Average Domain Loss: 0.3130\n",
            "Average Distance Loss: 0.0034\n"
          ]
        },
        {
          "output_type": "stream",
          "name": "stderr",
          "text": [
            "Epoch 8/10:  99%|█████████▉| 2402/2427 [03:57<00:02, 10.13sample/s, Total Loss=4.1688, Label Loss=4.0861, Domain Loss=0.0823, Distance Loss=0.0034]"
          ]
        },
        {
          "output_type": "stream",
          "name": "stdout",
          "text": [
            "\n",
            "Sample 2400/2427\n",
            "Average Total Loss: 4.3496\n",
            "Average Label Loss: 4.0354\n",
            "Average Domain Loss: 0.3139\n",
            "Average Distance Loss: 0.0034\n"
          ]
        },
        {
          "output_type": "stream",
          "name": "stderr",
          "text": [
            "Epoch 8/10: 100%|██████████| 2427/2427 [03:59<00:00, 10.12sample/s, Total Loss=4.4120, Label Loss=4.0158, Domain Loss=0.3961, Distance Loss=0.0007]\n"
          ]
        },
        {
          "output_type": "stream",
          "name": "stdout",
          "text": [
            "\n",
            "Epoch 8 completed.\n",
            "Average Total Loss: 4.3485\n",
            "Average Label Loss: 4.0345\n",
            "Average Domain Loss: 0.3137\n",
            "Average Distance Loss: 0.0034\n",
            "\n",
            "Epoch 9/10\n"
          ]
        },
        {
          "output_type": "stream",
          "name": "stderr",
          "text": [
            "Epoch 9/10:   4%|▍         | 101/2427 [00:10<03:47, 10.21sample/s, Total Loss=4.7671, Label Loss=4.4686, Domain Loss=0.2983, Distance Loss=0.0019]"
          ]
        },
        {
          "output_type": "stream",
          "name": "stdout",
          "text": [
            "\n",
            "Sample 100/2427\n",
            "Average Total Loss: 4.3719\n",
            "Average Label Loss: 4.1286\n",
            "Average Domain Loss: 0.2429\n",
            "Average Distance Loss: 0.0037\n"
          ]
        },
        {
          "output_type": "stream",
          "name": "stderr",
          "text": [
            "Epoch 9/10:   8%|▊         | 201/2427 [00:20<03:41, 10.07sample/s, Total Loss=3.5358, Label Loss=3.5059, Domain Loss=0.0295, Distance Loss=0.0041]"
          ]
        },
        {
          "output_type": "stream",
          "name": "stdout",
          "text": [
            "\n",
            "Sample 200/2427\n",
            "Average Total Loss: 4.3732\n",
            "Average Label Loss: 4.1003\n",
            "Average Domain Loss: 0.2725\n",
            "Average Distance Loss: 0.0034\n"
          ]
        },
        {
          "output_type": "stream",
          "name": "stderr",
          "text": [
            "Epoch 9/10:  12%|█▏        | 300/2427 [00:29<03:29, 10.13sample/s, Total Loss=4.1694, Label Loss=4.1191, Domain Loss=0.0498, Distance Loss=0.0045]"
          ]
        },
        {
          "output_type": "stream",
          "name": "stdout",
          "text": [
            "\n",
            "Sample 300/2427\n",
            "Average Total Loss: 4.3084\n",
            "Average Label Loss: 4.0429\n",
            "Average Domain Loss: 0.2650\n",
            "Average Distance Loss: 0.0043\n"
          ]
        },
        {
          "output_type": "stream",
          "name": "stderr",
          "text": [
            "Epoch 9/10:  17%|█▋        | 402/2427 [00:39<03:17, 10.24sample/s, Total Loss=4.2621, Label Loss=3.9464, Domain Loss=0.3157, Distance Loss=0.0007]"
          ]
        },
        {
          "output_type": "stream",
          "name": "stdout",
          "text": [
            "\n",
            "Sample 400/2427\n",
            "Average Total Loss: 4.3035\n",
            "Average Label Loss: 4.0428\n",
            "Average Domain Loss: 0.2602\n",
            "Average Distance Loss: 0.0045\n"
          ]
        },
        {
          "output_type": "stream",
          "name": "stderr",
          "text": [
            "Epoch 9/10:  21%|██        | 501/2427 [00:50<03:09, 10.18sample/s, Total Loss=5.0784, Label Loss=4.1011, Domain Loss=0.9773, Distance Loss=0.0003]"
          ]
        },
        {
          "output_type": "stream",
          "name": "stdout",
          "text": [
            "\n",
            "Sample 500/2427\n",
            "Average Total Loss: 4.3212\n",
            "Average Label Loss: 4.0539\n",
            "Average Domain Loss: 0.2669\n",
            "Average Distance Loss: 0.0043\n"
          ]
        },
        {
          "output_type": "stream",
          "name": "stderr",
          "text": [
            "Epoch 9/10:  25%|██▍       | 602/2427 [01:00<02:59, 10.16sample/s, Total Loss=4.8731, Label Loss=4.4288, Domain Loss=0.4443, Distance Loss=0.0002]"
          ]
        },
        {
          "output_type": "stream",
          "name": "stdout",
          "text": [
            "\n",
            "Sample 600/2427\n",
            "Average Total Loss: 4.3398\n",
            "Average Label Loss: 4.0596\n",
            "Average Domain Loss: 0.2798\n",
            "Average Distance Loss: 0.0041\n"
          ]
        },
        {
          "output_type": "stream",
          "name": "stderr",
          "text": [
            "Epoch 9/10:  29%|██▉       | 702/2427 [01:09<02:49, 10.17sample/s, Total Loss=6.7957, Label Loss=4.0384, Domain Loss=2.7569, Distance Loss=0.0037]"
          ]
        },
        {
          "output_type": "stream",
          "name": "stdout",
          "text": [
            "\n",
            "Sample 700/2427\n",
            "Average Total Loss: 4.3567\n",
            "Average Label Loss: 4.0586\n",
            "Average Domain Loss: 0.2977\n",
            "Average Distance Loss: 0.0038\n"
          ]
        },
        {
          "output_type": "stream",
          "name": "stderr",
          "text": [
            "Epoch 9/10:  33%|███▎      | 800/2427 [01:19<02:42, 10.03sample/s, Total Loss=4.1677, Label Loss=4.0829, Domain Loss=0.0844, Distance Loss=0.0034]"
          ]
        },
        {
          "output_type": "stream",
          "name": "stdout",
          "text": [
            "\n",
            "Sample 800/2427\n",
            "Average Total Loss: 4.3649\n",
            "Average Label Loss: 4.0506\n",
            "Average Domain Loss: 0.3140\n",
            "Average Distance Loss: 0.0036\n"
          ]
        },
        {
          "output_type": "stream",
          "name": "stderr",
          "text": [
            "Epoch 9/10:  37%|███▋      | 902/2427 [01:29<02:29, 10.22sample/s, Total Loss=4.6869, Label Loss=3.9547, Domain Loss=0.7322, Distance Loss=0.0000]"
          ]
        },
        {
          "output_type": "stream",
          "name": "stdout",
          "text": [
            "\n",
            "Sample 900/2427\n",
            "Average Total Loss: 4.3724\n",
            "Average Label Loss: 4.0561\n",
            "Average Domain Loss: 0.3159\n",
            "Average Distance Loss: 0.0036\n"
          ]
        },
        {
          "output_type": "stream",
          "name": "stderr",
          "text": [
            "Epoch 9/10:  41%|████      | 1001/2427 [01:39<02:20, 10.11sample/s, Total Loss=3.9513, Label Loss=3.9356, Domain Loss=0.0146, Distance Loss=0.0106]"
          ]
        },
        {
          "output_type": "stream",
          "name": "stdout",
          "text": [
            "\n",
            "Sample 1000/2427\n",
            "Average Total Loss: 4.3629\n",
            "Average Label Loss: 4.0526\n",
            "Average Domain Loss: 0.3100\n",
            "Average Distance Loss: 0.0036\n"
          ]
        },
        {
          "output_type": "stream",
          "name": "stderr",
          "text": [
            "Epoch 9/10:  45%|████▌     | 1102/2427 [01:49<02:10, 10.15sample/s, Total Loss=5.0843, Label Loss=4.0645, Domain Loss=1.0198, Distance Loss=0.0001]"
          ]
        },
        {
          "output_type": "stream",
          "name": "stdout",
          "text": [
            "\n",
            "Sample 1100/2427\n",
            "Average Total Loss: 4.3661\n",
            "Average Label Loss: 4.0515\n",
            "Average Domain Loss: 0.3143\n",
            "Average Distance Loss: 0.0036\n"
          ]
        },
        {
          "output_type": "stream",
          "name": "stderr",
          "text": [
            "Epoch 9/10:  49%|████▉     | 1201/2427 [01:59<02:01, 10.08sample/s, Total Loss=3.2335, Label Loss=3.0762, Domain Loss=0.1562, Distance Loss=0.0110]"
          ]
        },
        {
          "output_type": "stream",
          "name": "stdout",
          "text": [
            "\n",
            "Sample 1200/2427\n",
            "Average Total Loss: 4.3527\n",
            "Average Label Loss: 4.0386\n",
            "Average Domain Loss: 0.3138\n",
            "Average Distance Loss: 0.0036\n"
          ]
        },
        {
          "output_type": "stream",
          "name": "stderr",
          "text": [
            "Epoch 9/10:  54%|█████▎    | 1301/2427 [02:09<01:54,  9.81sample/s, Total Loss=5.2073, Label Loss=3.9660, Domain Loss=1.2413, Distance Loss=0.0000]"
          ]
        },
        {
          "output_type": "stream",
          "name": "stdout",
          "text": [
            "\n",
            "Sample 1300/2427\n",
            "Average Total Loss: 4.3440\n",
            "Average Label Loss: 4.0288\n",
            "Average Domain Loss: 0.3148\n",
            "Average Distance Loss: 0.0037\n"
          ]
        },
        {
          "output_type": "stream",
          "name": "stderr",
          "text": [
            "Epoch 9/10:  58%|█████▊    | 1401/2427 [02:19<01:40, 10.19sample/s, Total Loss=5.4115, Label Loss=5.3701, Domain Loss=0.0403, Distance Loss=0.0112]"
          ]
        },
        {
          "output_type": "stream",
          "name": "stdout",
          "text": [
            "\n",
            "Sample 1400/2427\n",
            "Average Total Loss: 4.3441\n",
            "Average Label Loss: 4.0302\n",
            "Average Domain Loss: 0.3135\n",
            "Average Distance Loss: 0.0038\n"
          ]
        },
        {
          "output_type": "stream",
          "name": "stderr",
          "text": [
            "Epoch 9/10:  62%|██████▏   | 1501/2427 [02:28<01:31, 10.10sample/s, Total Loss=5.0998, Label Loss=4.3695, Domain Loss=0.7303, Distance Loss=0.0002]"
          ]
        },
        {
          "output_type": "stream",
          "name": "stdout",
          "text": [
            "\n",
            "Sample 1500/2427\n",
            "Average Total Loss: 4.3433\n",
            "Average Label Loss: 4.0320\n",
            "Average Domain Loss: 0.3109\n",
            "Average Distance Loss: 0.0038\n"
          ]
        },
        {
          "output_type": "stream",
          "name": "stderr",
          "text": [
            "Epoch 9/10:  66%|██████▌   | 1602/2427 [02:38<01:21, 10.14sample/s, Total Loss=4.2835, Label Loss=4.1586, Domain Loss=0.1244, Distance Loss=0.0058]"
          ]
        },
        {
          "output_type": "stream",
          "name": "stdout",
          "text": [
            "\n",
            "Sample 1600/2427\n",
            "Average Total Loss: 4.3472\n",
            "Average Label Loss: 4.0363\n",
            "Average Domain Loss: 0.3105\n",
            "Average Distance Loss: 0.0037\n"
          ]
        },
        {
          "output_type": "stream",
          "name": "stderr",
          "text": [
            "Epoch 9/10:  70%|███████   | 1701/2427 [02:48<01:11, 10.15sample/s, Total Loss=5.2942, Label Loss=3.8020, Domain Loss=1.4921, Distance Loss=0.0005]"
          ]
        },
        {
          "output_type": "stream",
          "name": "stdout",
          "text": [
            "\n",
            "Sample 1700/2427\n",
            "Average Total Loss: 4.3429\n",
            "Average Label Loss: 4.0359\n",
            "Average Domain Loss: 0.3067\n",
            "Average Distance Loss: 0.0037\n"
          ]
        },
        {
          "output_type": "stream",
          "name": "stderr",
          "text": [
            "Epoch 9/10:  74%|███████▍  | 1801/2427 [02:58<01:02,  9.95sample/s, Total Loss=5.7779, Label Loss=4.2276, Domain Loss=1.5503, Distance Loss=0.0000]"
          ]
        },
        {
          "output_type": "stream",
          "name": "stdout",
          "text": [
            "\n",
            "Sample 1800/2427\n",
            "Average Total Loss: 4.3424\n",
            "Average Label Loss: 4.0354\n",
            "Average Domain Loss: 0.3066\n",
            "Average Distance Loss: 0.0037\n"
          ]
        },
        {
          "output_type": "stream",
          "name": "stderr",
          "text": [
            "Epoch 9/10:  78%|███████▊  | 1901/2427 [03:09<00:51, 10.17sample/s, Total Loss=4.2156, Label Loss=4.1574, Domain Loss=0.0577, Distance Loss=0.0042]"
          ]
        },
        {
          "output_type": "stream",
          "name": "stdout",
          "text": [
            "\n",
            "Sample 1900/2427\n",
            "Average Total Loss: 4.3378\n",
            "Average Label Loss: 4.0329\n",
            "Average Domain Loss: 0.3046\n",
            "Average Distance Loss: 0.0037\n"
          ]
        },
        {
          "output_type": "stream",
          "name": "stderr",
          "text": [
            "Epoch 9/10:  82%|████████▏ | 2001/2427 [03:19<00:41, 10.20sample/s, Total Loss=4.2219, Label Loss=4.1852, Domain Loss=0.0361, Distance Loss=0.0050]"
          ]
        },
        {
          "output_type": "stream",
          "name": "stdout",
          "text": [
            "\n",
            "Sample 2000/2427\n",
            "Average Total Loss: 4.3312\n",
            "Average Label Loss: 4.0301\n",
            "Average Domain Loss: 0.3008\n",
            "Average Distance Loss: 0.0038\n"
          ]
        },
        {
          "output_type": "stream",
          "name": "stderr",
          "text": [
            "Epoch 9/10:  87%|████████▋ | 2101/2427 [03:28<00:32, 10.10sample/s, Total Loss=4.2918, Label Loss=4.1793, Domain Loss=0.1123, Distance Loss=0.0019]"
          ]
        },
        {
          "output_type": "stream",
          "name": "stdout",
          "text": [
            "\n",
            "Sample 2100/2427\n",
            "Average Total Loss: 4.3317\n",
            "Average Label Loss: 4.0332\n",
            "Average Domain Loss: 0.2981\n",
            "Average Distance Loss: 0.0038\n"
          ]
        },
        {
          "output_type": "stream",
          "name": "stderr",
          "text": [
            "Epoch 9/10:  91%|█████████ | 2200/2427 [03:38<00:22, 10.11sample/s, Total Loss=3.9226, Label Loss=3.8163, Domain Loss=0.1059, Distance Loss=0.0033]"
          ]
        },
        {
          "output_type": "stream",
          "name": "stdout",
          "text": [
            "\n",
            "Sample 2200/2427\n",
            "Average Total Loss: 4.3255\n",
            "Average Label Loss: 4.0287\n",
            "Average Domain Loss: 0.2964\n",
            "Average Distance Loss: 0.0038\n"
          ]
        },
        {
          "output_type": "stream",
          "name": "stderr",
          "text": [
            "Epoch 9/10:  95%|█████████▍| 2302/2427 [03:48<00:12, 10.09sample/s, Total Loss=4.3105, Label Loss=4.2844, Domain Loss=0.0254, Distance Loss=0.0076]"
          ]
        },
        {
          "output_type": "stream",
          "name": "stdout",
          "text": [
            "\n",
            "Sample 2300/2427\n",
            "Average Total Loss: 4.3236\n",
            "Average Label Loss: 4.0290\n",
            "Average Domain Loss: 0.2942\n",
            "Average Distance Loss: 0.0039\n"
          ]
        },
        {
          "output_type": "stream",
          "name": "stderr",
          "text": [
            "Epoch 9/10:  99%|█████████▉| 2401/2427 [03:58<00:02, 10.15sample/s, Total Loss=3.3705, Label Loss=3.3369, Domain Loss=0.0329, Distance Loss=0.0061]"
          ]
        },
        {
          "output_type": "stream",
          "name": "stdout",
          "text": [
            "\n",
            "Sample 2400/2427\n",
            "Average Total Loss: 4.3260\n",
            "Average Label Loss: 4.0300\n",
            "Average Domain Loss: 0.2956\n",
            "Average Distance Loss: 0.0039\n"
          ]
        },
        {
          "output_type": "stream",
          "name": "stderr",
          "text": [
            "Epoch 9/10: 100%|██████████| 2427/2427 [04:01<00:00, 10.07sample/s, Total Loss=4.0395, Label Loss=3.8689, Domain Loss=0.1705, Distance Loss=0.0022]\n"
          ]
        },
        {
          "output_type": "stream",
          "name": "stdout",
          "text": [
            "\n",
            "Epoch 9 completed.\n",
            "Average Total Loss: 4.3266\n",
            "Average Label Loss: 4.0301\n",
            "Average Domain Loss: 0.2961\n",
            "Average Distance Loss: 0.0039\n",
            "\n",
            "Epoch 10/10\n"
          ]
        },
        {
          "output_type": "stream",
          "name": "stderr",
          "text": [
            "Epoch 10/10:   4%|▍         | 101/2427 [00:10<03:57,  9.81sample/s, Total Loss=4.4108, Label Loss=4.0659, Domain Loss=0.3448, Distance Loss=0.0008]"
          ]
        },
        {
          "output_type": "stream",
          "name": "stdout",
          "text": [
            "\n",
            "Sample 100/2427\n",
            "Average Total Loss: 4.3546\n",
            "Average Label Loss: 4.0333\n",
            "Average Domain Loss: 0.3208\n",
            "Average Distance Loss: 0.0041\n"
          ]
        },
        {
          "output_type": "stream",
          "name": "stderr",
          "text": [
            "Epoch 10/10:   8%|▊         | 201/2427 [00:20<03:40, 10.10sample/s, Total Loss=5.5155, Label Loss=3.9723, Domain Loss=1.5432, Distance Loss=0.0000]"
          ]
        },
        {
          "output_type": "stream",
          "name": "stdout",
          "text": [
            "\n",
            "Sample 200/2427\n",
            "Average Total Loss: 4.3055\n",
            "Average Label Loss: 4.0083\n",
            "Average Domain Loss: 0.2968\n",
            "Average Distance Loss: 0.0038\n"
          ]
        },
        {
          "output_type": "stream",
          "name": "stderr",
          "text": [
            "Epoch 10/10:  12%|█▏        | 302/2427 [00:30<03:31, 10.05sample/s, Total Loss=4.1687, Label Loss=3.9437, Domain Loss=0.2249, Distance Loss=0.0015]"
          ]
        },
        {
          "output_type": "stream",
          "name": "stdout",
          "text": [
            "\n",
            "Sample 300/2427\n",
            "Average Total Loss: 4.3011\n",
            "Average Label Loss: 3.9914\n",
            "Average Domain Loss: 0.3093\n",
            "Average Distance Loss: 0.0040\n"
          ]
        },
        {
          "output_type": "stream",
          "name": "stderr",
          "text": [
            "Epoch 10/10:  17%|█▋        | 402/2427 [00:40<03:19, 10.16sample/s, Total Loss=3.2971, Label Loss=3.2451, Domain Loss=0.0513, Distance Loss=0.0066]"
          ]
        },
        {
          "output_type": "stream",
          "name": "stdout",
          "text": [
            "\n",
            "Sample 400/2427\n",
            "Average Total Loss: 4.2962\n",
            "Average Label Loss: 3.9760\n",
            "Average Domain Loss: 0.3198\n",
            "Average Distance Loss: 0.0041\n"
          ]
        },
        {
          "output_type": "stream",
          "name": "stderr",
          "text": [
            "Epoch 10/10:  21%|██        | 501/2427 [00:50<03:08, 10.21sample/s, Total Loss=5.1404, Label Loss=5.0520, Domain Loss=0.0881, Distance Loss=0.0033]"
          ]
        },
        {
          "output_type": "stream",
          "name": "stdout",
          "text": [
            "\n",
            "Sample 500/2427\n",
            "Average Total Loss: 4.2993\n",
            "Average Label Loss: 3.9958\n",
            "Average Domain Loss: 0.3031\n",
            "Average Distance Loss: 0.0042\n"
          ]
        },
        {
          "output_type": "stream",
          "name": "stderr",
          "text": [
            "Epoch 10/10:  25%|██▍       | 601/2427 [01:00<03:02, 10.00sample/s, Total Loss=4.2769, Label Loss=4.2076, Domain Loss=0.0690, Distance Loss=0.0041]"
          ]
        },
        {
          "output_type": "stream",
          "name": "stdout",
          "text": [
            "\n",
            "Sample 600/2427\n",
            "Average Total Loss: 4.2987\n",
            "Average Label Loss: 3.9962\n",
            "Average Domain Loss: 0.3021\n",
            "Average Distance Loss: 0.0042\n"
          ]
        },
        {
          "output_type": "stream",
          "name": "stderr",
          "text": [
            "Epoch 10/10:  29%|██▉       | 701/2427 [01:09<02:49, 10.16sample/s, Total Loss=4.1438, Label Loss=4.0622, Domain Loss=0.0813, Distance Loss=0.0030]"
          ]
        },
        {
          "output_type": "stream",
          "name": "stdout",
          "text": [
            "\n",
            "Sample 700/2427\n",
            "Average Total Loss: 4.2981\n",
            "Average Label Loss: 4.0017\n",
            "Average Domain Loss: 0.2959\n",
            "Average Distance Loss: 0.0043\n"
          ]
        },
        {
          "output_type": "stream",
          "name": "stderr",
          "text": [
            "Epoch 10/10:  33%|███▎      | 801/2427 [01:19<02:39, 10.22sample/s, Total Loss=2.7739, Label Loss=2.7676, Domain Loss=0.0046, Distance Loss=0.0159]"
          ]
        },
        {
          "output_type": "stream",
          "name": "stdout",
          "text": [
            "\n",
            "Sample 800/2427\n",
            "Average Total Loss: 4.3019\n",
            "Average Label Loss: 4.0070\n",
            "Average Domain Loss: 0.2944\n",
            "Average Distance Loss: 0.0045\n"
          ]
        },
        {
          "output_type": "stream",
          "name": "stderr",
          "text": [
            "Epoch 10/10:  37%|███▋      | 902/2427 [01:29<02:30, 10.16sample/s, Total Loss=4.0847, Label Loss=3.9902, Domain Loss=0.0942, Distance Loss=0.0026]"
          ]
        },
        {
          "output_type": "stream",
          "name": "stdout",
          "text": [
            "\n",
            "Sample 900/2427\n",
            "Average Total Loss: 4.3132\n",
            "Average Label Loss: 4.0134\n",
            "Average Domain Loss: 0.2994\n",
            "Average Distance Loss: 0.0044\n"
          ]
        },
        {
          "output_type": "stream",
          "name": "stderr",
          "text": [
            "Epoch 10/10:  41%|████▏     | 1002/2427 [01:39<02:20, 10.12sample/s, Total Loss=6.5854, Label Loss=5.0339, Domain Loss=1.5515, Distance Loss=0.0001]"
          ]
        },
        {
          "output_type": "stream",
          "name": "stdout",
          "text": [
            "\n",
            "Sample 1000/2427\n",
            "Average Total Loss: 4.3131\n",
            "Average Label Loss: 4.0171\n",
            "Average Domain Loss: 0.2956\n",
            "Average Distance Loss: 0.0043\n"
          ]
        },
        {
          "output_type": "stream",
          "name": "stderr",
          "text": [
            "Epoch 10/10:  45%|████▌     | 1101/2427 [01:49<02:17,  9.62sample/s, Total Loss=4.9877, Label Loss=4.8959, Domain Loss=0.0915, Distance Loss=0.0030]"
          ]
        },
        {
          "output_type": "stream",
          "name": "stdout",
          "text": [
            "\n",
            "Sample 1100/2427\n",
            "Average Total Loss: 4.3219\n",
            "Average Label Loss: 4.0185\n",
            "Average Domain Loss: 0.3030\n",
            "Average Distance Loss: 0.0042\n"
          ]
        },
        {
          "output_type": "stream",
          "name": "stderr",
          "text": [
            "Epoch 10/10:  50%|████▉     | 1202/2427 [01:59<02:00, 10.16sample/s, Total Loss=4.8955, Label Loss=4.7501, Domain Loss=0.1452, Distance Loss=0.0017]"
          ]
        },
        {
          "output_type": "stream",
          "name": "stdout",
          "text": [
            "\n",
            "Sample 1200/2427\n",
            "Average Total Loss: 4.3215\n",
            "Average Label Loss: 4.0176\n",
            "Average Domain Loss: 0.3035\n",
            "Average Distance Loss: 0.0042\n"
          ]
        },
        {
          "output_type": "stream",
          "name": "stderr",
          "text": [
            "Epoch 10/10:  54%|█████▎    | 1301/2427 [02:09<01:51, 10.06sample/s, Total Loss=4.1423, Label Loss=4.0975, Domain Loss=0.0443, Distance Loss=0.0048]"
          ]
        },
        {
          "output_type": "stream",
          "name": "stdout",
          "text": [
            "\n",
            "Sample 1300/2427\n",
            "Average Total Loss: 4.3106\n",
            "Average Label Loss: 4.0117\n",
            "Average Domain Loss: 0.2985\n",
            "Average Distance Loss: 0.0042\n"
          ]
        },
        {
          "output_type": "stream",
          "name": "stderr",
          "text": [
            "Epoch 10/10:  58%|█████▊    | 1402/2427 [02:19<01:40, 10.17sample/s, Total Loss=4.0573, Label Loss=3.9829, Domain Loss=0.0741, Distance Loss=0.0035]"
          ]
        },
        {
          "output_type": "stream",
          "name": "stdout",
          "text": [
            "\n",
            "Sample 1400/2427\n",
            "Average Total Loss: 4.3133\n",
            "Average Label Loss: 4.0119\n",
            "Average Domain Loss: 0.3010\n",
            "Average Distance Loss: 0.0042\n"
          ]
        },
        {
          "output_type": "stream",
          "name": "stderr",
          "text": [
            "Epoch 10/10:  62%|██████▏   | 1502/2427 [02:29<01:38,  9.41sample/s, Total Loss=3.8715, Label Loss=3.8280, Domain Loss=0.0428, Distance Loss=0.0063]"
          ]
        },
        {
          "output_type": "stream",
          "name": "stdout",
          "text": [
            "\n",
            "Sample 1500/2427\n",
            "Average Total Loss: 4.3176\n",
            "Average Label Loss: 4.0132\n",
            "Average Domain Loss: 0.3040\n",
            "Average Distance Loss: 0.0041\n"
          ]
        },
        {
          "output_type": "stream",
          "name": "stderr",
          "text": [
            "Epoch 10/10:  66%|██████▌   | 1600/2427 [02:38<01:21, 10.11sample/s, Total Loss=3.6667, Label Loss=3.3346, Domain Loss=0.3318, Distance Loss=0.0033]"
          ]
        },
        {
          "output_type": "stream",
          "name": "stdout",
          "text": [
            "\n",
            "Sample 1600/2427\n",
            "Average Total Loss: 4.3221\n",
            "Average Label Loss: 4.0153\n",
            "Average Domain Loss: 0.3064\n",
            "Average Distance Loss: 0.0041\n"
          ]
        },
        {
          "output_type": "stream",
          "name": "stderr",
          "text": [
            "Epoch 10/10:  70%|███████   | 1702/2427 [02:48<01:11, 10.19sample/s, Total Loss=4.1041, Label Loss=3.8971, Domain Loss=0.2069, Distance Loss=0.0015]"
          ]
        },
        {
          "output_type": "stream",
          "name": "stdout",
          "text": [
            "\n",
            "Sample 1700/2427\n",
            "Average Total Loss: 4.3215\n",
            "Average Label Loss: 4.0144\n",
            "Average Domain Loss: 0.3066\n",
            "Average Distance Loss: 0.0041\n"
          ]
        },
        {
          "output_type": "stream",
          "name": "stderr",
          "text": [
            "Epoch 10/10:  74%|███████▍  | 1800/2427 [02:58<01:01, 10.16sample/s, Total Loss=5.7683, Label Loss=5.7337, Domain Loss=0.0336, Distance Loss=0.0098]"
          ]
        },
        {
          "output_type": "stream",
          "name": "stdout",
          "text": [
            "\n",
            "Sample 1800/2427\n",
            "Average Total Loss: 4.3205\n",
            "Average Label Loss: 4.0174\n",
            "Average Domain Loss: 0.3027\n",
            "Average Distance Loss: 0.0041\n"
          ]
        },
        {
          "output_type": "stream",
          "name": "stderr",
          "text": [
            "Epoch 10/10:  78%|███████▊  | 1901/2427 [03:08<00:51, 10.29sample/s, Total Loss=3.5448, Label Loss=3.4930, Domain Loss=0.0514, Distance Loss=0.0042]"
          ]
        },
        {
          "output_type": "stream",
          "name": "stdout",
          "text": [
            "\n",
            "Sample 1900/2427\n",
            "Average Total Loss: 4.3238\n",
            "Average Label Loss: 4.0209\n",
            "Average Domain Loss: 0.3024\n",
            "Average Distance Loss: 0.0042\n"
          ]
        },
        {
          "output_type": "stream",
          "name": "stderr",
          "text": [
            "Epoch 10/10:  82%|████████▏ | 2002/2427 [03:18<00:41, 10.14sample/s, Total Loss=3.7739, Label Loss=3.7244, Domain Loss=0.0491, Distance Loss=0.0042]"
          ]
        },
        {
          "output_type": "stream",
          "name": "stdout",
          "text": [
            "\n",
            "Sample 2000/2427\n",
            "Average Total Loss: 4.3224\n",
            "Average Label Loss: 4.0217\n",
            "Average Domain Loss: 0.3002\n",
            "Average Distance Loss: 0.0041\n"
          ]
        },
        {
          "output_type": "stream",
          "name": "stderr",
          "text": [
            "Epoch 10/10:  87%|████████▋ | 2102/2427 [03:28<00:32, 10.03sample/s, Total Loss=4.7938, Label Loss=4.7539, Domain Loss=0.0394, Distance Loss=0.0047]"
          ]
        },
        {
          "output_type": "stream",
          "name": "stdout",
          "text": [
            "\n",
            "Sample 2100/2427\n",
            "Average Total Loss: 4.3230\n",
            "Average Label Loss: 4.0257\n",
            "Average Domain Loss: 0.2970\n",
            "Average Distance Loss: 0.0041\n"
          ]
        },
        {
          "output_type": "stream",
          "name": "stderr",
          "text": [
            "Epoch 10/10:  91%|█████████ | 2200/2427 [03:37<00:22, 10.30sample/s, Total Loss=3.2022, Label Loss=3.1620, Domain Loss=0.0396, Distance Loss=0.0057]"
          ]
        },
        {
          "output_type": "stream",
          "name": "stdout",
          "text": [
            "\n",
            "Sample 2200/2427\n",
            "Average Total Loss: 4.3269\n",
            "Average Label Loss: 4.0288\n",
            "Average Domain Loss: 0.2977\n",
            "Average Distance Loss: 0.0040\n"
          ]
        },
        {
          "output_type": "stream",
          "name": "stderr",
          "text": [
            "Epoch 10/10:  95%|█████████▍| 2301/2427 [03:47<00:12, 10.14sample/s, Total Loss=4.9087, Label Loss=4.8685, Domain Loss=0.0397, Distance Loss=0.0050]"
          ]
        },
        {
          "output_type": "stream",
          "name": "stdout",
          "text": [
            "\n",
            "Sample 2300/2427\n",
            "Average Total Loss: 4.3217\n",
            "Average Label Loss: 4.0255\n",
            "Average Domain Loss: 0.2959\n",
            "Average Distance Loss: 0.0040\n"
          ]
        },
        {
          "output_type": "stream",
          "name": "stderr",
          "text": [
            "Epoch 10/10:  99%|█████████▉| 2402/2427 [03:57<00:02, 10.23sample/s, Total Loss=3.9186, Label Loss=3.8884, Domain Loss=0.0296, Distance Loss=0.0069]"
          ]
        },
        {
          "output_type": "stream",
          "name": "stdout",
          "text": [
            "\n",
            "Sample 2400/2427\n",
            "Average Total Loss: 4.3179\n",
            "Average Label Loss: 4.0247\n",
            "Average Domain Loss: 0.2928\n",
            "Average Distance Loss: 0.0040\n"
          ]
        },
        {
          "output_type": "stream",
          "name": "stderr",
          "text": [
            "Epoch 10/10: 100%|██████████| 2427/2427 [04:00<00:00, 10.10sample/s, Total Loss=5.0107, Label Loss=4.4877, Domain Loss=0.5230, Distance Loss=0.0003]\n"
          ]
        },
        {
          "output_type": "stream",
          "name": "stdout",
          "text": [
            "\n",
            "Epoch 10 completed.\n",
            "Average Total Loss: 4.3189\n",
            "Average Label Loss: 4.0255\n",
            "Average Domain Loss: 0.2930\n",
            "Average Distance Loss: 0.0040\n",
            "\n"
          ]
        }
      ]
    },
    {
      "cell_type": "code",
      "source": [
        "# 평가 함수\n",
        "def evaluate_model(model, images, labels):\n",
        "    predictions, _ = model.predict(images)\n",
        "    predicted_labels = np.argmax(predictions, axis=1)\n",
        "    accuracy = np.mean(predicted_labels == labels)\n",
        "    return accuracy\n",
        "\n",
        "# 타겟 도메인 레이블 인코딩\n",
        "target_encoded_labels = label_encoder.texts_to_sequences(target_labels)\n",
        "target_encoded_labels = np.array(target_encoded_labels).flatten() - 1\n",
        "\n",
        "# 모델 평가\n",
        "target_accuracy = evaluate_model(dann_model, target_images, target_encoded_labels)\n",
        "print(f\"Target Domain Accuracy: {target_accuracy:.4f}\")"
      ],
      "metadata": {
        "id": "11impDECXzWg"
      },
      "execution_count": null,
      "outputs": []
    },
    {
      "cell_type": "code",
      "source": [
        "import numpy as np\n",
        "from sklearn.metrics import accuracy_score, classification_report\n",
        "from tqdm import tqdm\n",
        "\n",
        "# def evaluate_model(model, dataset, label_encoder, num_classes):\n",
        "#     true_labels = []\n",
        "#     predicted_labels = []\n",
        "\n",
        "#     for image, label in tqdm(dataset, desc=\"Evaluating\"):\n",
        "#         # 모델 예측\n",
        "#         label_pred, _ = model(tf.expand_dims(image, 0), training=False)\n",
        "#         predicted_label = tf.argmax(label_pred, axis=1).numpy()[0]\n",
        "\n",
        "#         true_labels.append(label.numpy())\n",
        "#         predicted_labels.append(predicted_label)\n",
        "\n",
        "#     # 전체 정확도 계산\n",
        "#     accuracy = accuracy_score(true_labels, predicted_labels)\n",
        "\n",
        "#     # Get class names from label_encoder's word_index\n",
        "#     # --- CHANGE START ---\n",
        "#     class_names = list(label_encoder.word_index.keys())\n",
        "#     # --- CHANGE END ---\n",
        "\n",
        "#     # # 클래스별 정확도 계산\n",
        "#     # class_report = classification_report(true_labels, predicted_labels,\n",
        "#     #                                      target_names=label_encoder.classes_,\n",
        "#     #                                      output_dict=True)\n",
        "\n",
        "#     # 클래스별 정확도 계산\n",
        "#     class_report = classification_report(true_labels, predicted_labels,\n",
        "#                                          # --- CHANGE START ---\n",
        "#                                          target_names=class_names,\n",
        "#                                          # --- CHANGE END ---\n",
        "#                                          output_dict=True)\n",
        "\n",
        "#     return accuracy, class_report\n",
        "\n",
        "def evaluate_model(model, dataset, label_encoder, num_classes):\n",
        "    true_labels = []\n",
        "    predicted_labels = []\n",
        "\n",
        "    for image, label in tqdm(dataset, desc=\"Evaluating\"):\n",
        "        # 모델 예측\n",
        "        label_pred, _ = model(tf.expand_dims(image, 0), training=False)\n",
        "        predicted_label = tf.argmax(label_pred, axis=1).numpy()[0]\n",
        "\n",
        "        true_labels.append(label.numpy())\n",
        "        predicted_labels.append(predicted_label)\n",
        "\n",
        "    # 전체 정확도 계산\n",
        "    accuracy = accuracy_score(true_labels, predicted_labels)\n",
        "\n",
        "    # Get unique class labels from true_labels\n",
        "    # This ensures that target_names matches the actual classes in the data\n",
        "    class_names = sorted(list(set(true_labels)))\n",
        "    class_names = [str(label) for label in class_names]  # convert to strings for target_names\n",
        "\n",
        "\n",
        "    # 클래스별 정확도 계산\n",
        "    class_report = classification_report(true_labels, predicted_labels,\n",
        "                                         target_names=class_names, # Fixed by using actual class names\n",
        "                                         output_dict=True)\n",
        "\n",
        "    return accuracy, class_report\n",
        "\n",
        "# 타겟 도메인 데이터셋 준비 (라벨 포함)\n",
        "def create_target_dataset_with_labels(target_path, label_encoder):\n",
        "    return tf.data.Dataset.from_generator(\n",
        "        lambda: image_generator(target_path, label_encoder),\n",
        "        output_signature=(\n",
        "            tf.TensorSpec(shape=(224, 224, 3), dtype=tf.float32),\n",
        "            tf.TensorSpec(shape=(), dtype=tf.int32)\n",
        "        )\n",
        "    )\n",
        "\n",
        "# 타겟 도메인 데이터셋 생성 (평가용)\n",
        "target_dataset_with_labels = create_target_dataset_with_labels(target_path, label_encoder)\n",
        "\n",
        "# # 모델 평가\n",
        "# overall_accuracy, class_report = evaluate_model(dann_model, target_dataset_with_labels, label_encoder, num_classes)\n",
        "\n",
        "# # 결과 출력\n",
        "# print(f\"Overall Accuracy: {overall_accuracy:.4f}\")\n",
        "# print(\"\\nClass-wise Accuracy:\")\n",
        "# for class_name, metrics in class_report.items():\n",
        "#     if class_name.isdigit():\n",
        "#         print(f\"Class {class_name} ({class_names[int(class_name)]}): {metrics['precision']:.4f}\")\n",
        "\n",
        "# 모델 평가\n",
        "overall_accuracy, class_report = evaluate_model(dann_model, target_dataset_with_labels, label_encoder, num_classes)\n",
        "\n",
        "# Get class names from class_report keys\n",
        "# This ensures that target_names matches the actual classes in the data\n",
        "class_names = list(class_report.keys())\n",
        "class_names = [name for name in class_names if name.isdigit()]  # Filter out non-digit keys\n",
        "\n",
        "# Update class names to start from 0 instead of 1\n",
        "# The label_encoder might start indexing from 1, but the index starts from 0\n",
        "# Therefore, if we just use the label_encoder, it would cause an index error for the class 0\n",
        "class_names = list(label_encoder.word_index.keys())\n",
        "#class_names = [name for name in range(len(class_names))]\n",
        "\n",
        "# 결과 출력\n",
        "print(f\"Overall Accuracy: {overall_accuracy:.4f}\")\n",
        "print(\"\\nClass-wise Accuracy:\")\n",
        "for class_name, metrics in class_report.items():\n",
        "    if class_name.isdigit():\n",
        "        class_index = int(class_name)  # Get class index as an integer\n",
        "        if 0 <= class_index < len(class_names):  # Check if the class_index is in a valid range\n",
        "            #print(f\"Class {class_name} ({class_names[class_index]}): {metrics['precision']:.4f}\")\n",
        "            print(f\"Class {class_name} ({class_names[class_index]}): {metrics['precision']:.4f}\")\n",
        "        else:\n",
        "            print(f\"Class {class_name} (Unknown): {metrics['precision']:.4f}\")\n",
        "\n",
        "print(\"\\nDetailed Classification Report:\")\n",
        "print(classification_report(true_labels, predicted_labels, target_names=class_names))"
      ],
      "metadata": {
        "colab": {
          "base_uri": "https://localhost:8080/",
          "height": 1000
        },
        "id": "7RQTYFrE8OIm",
        "outputId": "7fe90164-1365-4866-ba8d-ee0409912bb4"
      },
      "execution_count": null,
      "outputs": [
        {
          "output_type": "stream",
          "name": "stderr",
          "text": [
            "Evaluating: 4365it [14:26,  5.04it/s]\n"
          ]
        },
        {
          "output_type": "stream",
          "name": "stdout",
          "text": [
            "Overall Accuracy: 0.0234\n",
            "\n",
            "Class-wise Accuracy:\n",
            "Class 0 (0): 0.0000\n",
            "Class 1 (1): 0.0000\n",
            "Class 3 (4): 0.0000\n",
            "Class 4 (5): 0.0000\n",
            "Class 5 (6): 0.0000\n",
            "Class 6 (7): 0.0000\n",
            "Class 7 (8): 0.0000\n",
            "Class 8 (9): 0.0000\n",
            "Class 9 (10): 0.0000\n",
            "Class 10 (11): 0.0000\n",
            "Class 11 (12): 0.0240\n",
            "Class 12 (13): 0.0000\n",
            "Class 13 (14): 0.0000\n",
            "Class 14 (15): 0.0000\n",
            "Class 15 (16): 0.0000\n",
            "Class 16 (17): 0.0000\n",
            "Class 17 (18): 0.0000\n",
            "Class 18 (19): 0.0000\n",
            "Class 19 (20): 0.0000\n",
            "Class 20 (22): 0.0000\n",
            "Class 22 (25): 0.0000\n",
            "Class 23 (26): 0.0000\n",
            "Class 25 (28): 0.0000\n",
            "Class 26 (29): 0.0275\n",
            "Class 27 (30): 0.0000\n",
            "Class 28 (31): 0.0000\n",
            "Class 29 (32): 0.0000\n",
            "Class 30 (33): 0.0000\n",
            "Class 31 (34): 0.0000\n",
            "Class 32 (36): 0.0000\n",
            "Class 33 (37): 0.0000\n",
            "Class 34 (38): 0.0000\n",
            "Class 36 (40): 0.0282\n",
            "Class 37 (41): 0.0000\n",
            "Class 38 (42): 0.0000\n",
            "Class 39 (43): 0.0000\n",
            "Class 40 (44): 0.0000\n",
            "Class 41 (45): 0.0000\n",
            "Class 42 (47): 0.0000\n",
            "Class 43 (48): 0.0000\n",
            "Class 44 (49): 0.0000\n",
            "Class 45 (51): 0.0000\n",
            "Class 47 (54): 0.0000\n",
            "Class 48 (55): 0.0000\n",
            "Class 49 (56): 0.0000\n",
            "Class 51 (58): 0.0000\n",
            "Class 52 (59): 0.0000\n",
            "Class 54 (61): 0.0000\n",
            "Class 55 (62): 0.0000\n",
            "Class 56 (63): 0.0000\n",
            "Class 57 (64): 0.0000\n",
            "Class 58 (65): 0.0000\n",
            "Class 59 (66): 0.0000\n",
            "Class 60 (67): 0.0000\n",
            "Class 61 (68): 0.0000\n",
            "Class 62 (69): 0.0000\n",
            "Class 63 (71): 0.0000\n",
            "Class 64 (72): 0.0000\n"
          ]
        },
        {
          "output_type": "stream",
          "name": "stderr",
          "text": [
            "/usr/local/lib/python3.10/dist-packages/sklearn/metrics/_classification.py:1531: UndefinedMetricWarning: Precision is ill-defined and being set to 0.0 in labels with no predicted samples. Use `zero_division` parameter to control this behavior.\n",
            "  _warn_prf(average, modifier, f\"{metric.capitalize()} is\", len(result))\n",
            "/usr/local/lib/python3.10/dist-packages/sklearn/metrics/_classification.py:1531: UndefinedMetricWarning: Precision is ill-defined and being set to 0.0 in labels with no predicted samples. Use `zero_division` parameter to control this behavior.\n",
            "  _warn_prf(average, modifier, f\"{metric.capitalize()} is\", len(result))\n",
            "/usr/local/lib/python3.10/dist-packages/sklearn/metrics/_classification.py:1531: UndefinedMetricWarning: Precision is ill-defined and being set to 0.0 in labels with no predicted samples. Use `zero_division` parameter to control this behavior.\n",
            "  _warn_prf(average, modifier, f\"{metric.capitalize()} is\", len(result))\n"
          ]
        },
        {
          "output_type": "error",
          "ename": "IndexError",
          "evalue": "list index out of range",
          "traceback": [
            "\u001b[0;31m---------------------------------------------------------------------------\u001b[0m",
            "\u001b[0;31mIndexError\u001b[0m                                Traceback (most recent call last)",
            "\u001b[0;32m<ipython-input-13-6b72b470d14b>\u001b[0m in \u001b[0;36m<cell line: 100>\u001b[0;34m()\u001b[0m\n\u001b[1;32m    100\u001b[0m \u001b[0;32mfor\u001b[0m \u001b[0mclass_name\u001b[0m\u001b[0;34m,\u001b[0m \u001b[0mmetrics\u001b[0m \u001b[0;32min\u001b[0m \u001b[0mclass_report\u001b[0m\u001b[0;34m.\u001b[0m\u001b[0mitems\u001b[0m\u001b[0;34m(\u001b[0m\u001b[0;34m)\u001b[0m\u001b[0;34m:\u001b[0m\u001b[0;34m\u001b[0m\u001b[0;34m\u001b[0m\u001b[0m\n\u001b[1;32m    101\u001b[0m     \u001b[0;32mif\u001b[0m \u001b[0mclass_name\u001b[0m\u001b[0;34m.\u001b[0m\u001b[0misdigit\u001b[0m\u001b[0;34m(\u001b[0m\u001b[0;34m)\u001b[0m\u001b[0;34m:\u001b[0m\u001b[0;34m\u001b[0m\u001b[0;34m\u001b[0m\u001b[0m\n\u001b[0;32m--> 102\u001b[0;31m         \u001b[0mprint\u001b[0m\u001b[0;34m(\u001b[0m\u001b[0;34mf\"Class {class_name} ({class_names[int(class_name)]}): {metrics['precision']:.4f}\"\u001b[0m\u001b[0;34m)\u001b[0m\u001b[0;34m\u001b[0m\u001b[0;34m\u001b[0m\u001b[0m\n\u001b[0m\u001b[1;32m    103\u001b[0m \u001b[0;34m\u001b[0m\u001b[0m\n\u001b[1;32m    104\u001b[0m \u001b[0mprint\u001b[0m\u001b[0;34m(\u001b[0m\u001b[0;34m\"\\nDetailed Classification Report:\"\u001b[0m\u001b[0;34m)\u001b[0m\u001b[0;34m\u001b[0m\u001b[0;34m\u001b[0m\u001b[0m\n",
            "\u001b[0;31mIndexError\u001b[0m: list index out of range"
          ]
        }
      ]
    }
  ]
}
